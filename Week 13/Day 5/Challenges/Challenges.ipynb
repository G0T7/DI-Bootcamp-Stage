{
 "cells": [
  {
   "cell_type": "code",
   "execution_count": 1,
   "metadata": {},
   "outputs": [
    {
     "name": "stdout",
     "output_type": "stream",
     "text": [
      "[1, 2, 'X', 3, 4, 5]\n"
     ]
    }
   ],
   "source": [
    "#Exercise 1: Insert Item at Index in a List\n",
    "def insert_at_index(lst, index, item):\n",
    "    \"\"\"\n",
    "    Inserts an item at a specified index in a list.\n",
    "\n",
    "    Parameters:\n",
    "    - lst (list): The original list.\n",
    "    - index (int): The index where the item should be inserted.\n",
    "    - item (any): The item to insert into the list.\n",
    "\n",
    "    Returns:\n",
    "    - list: The updated list with the item inserted at the specified index.\n",
    "    \"\"\"\n",
    "    lst.insert(index, item)\n",
    "    return lst\n",
    "\n",
    "# Example usage:\n",
    "my_list = [1, 2, 3, 4, 5]\n",
    "new_list = insert_at_index(my_list, 2, 'X')\n",
    "print(new_list)  # Output: [1, 2, 'X', 3, 4, 5]\n"
   ]
  },
  {
   "cell_type": "code",
   "execution_count": 2,
   "metadata": {},
   "outputs": [
    {
     "name": "stdout",
     "output_type": "stream",
     "text": [
      "Number of spaces: 4\n"
     ]
    }
   ],
   "source": [
    "#Exercise 2: Count Spaces in a String\n",
    "def count_spaces(text):\n",
    "    \"\"\"\n",
    "    Counts the number of spaces in a string.\n",
    "\n",
    "    Parameters:\n",
    "    - text (str): The input string.\n",
    "\n",
    "    Returns:\n",
    "    - int: Number of spaces in the string.\n",
    "    \"\"\"\n",
    "    return text.count(' ')\n",
    "\n",
    "# Example usage:\n",
    "sentence = \"Hello world! How are you?\"\n",
    "spaces = count_spaces(sentence)\n",
    "print(\"Number of spaces:\", spaces)  # Output: 4\n"
   ]
  },
  {
   "cell_type": "code",
   "execution_count": 3,
   "metadata": {},
   "outputs": [
    {
     "name": "stdout",
     "output_type": "stream",
     "text": [
      "Upper case letters: 7\n",
      "Lower case letters: 12\n"
     ]
    }
   ],
   "source": [
    "#Exercise 3: Count Upper and Lower Case Letters\n",
    "def count_case_letters(text):\n",
    "    \"\"\"\n",
    "    Counts the number of upper case and lower case letters in a string.\n",
    "\n",
    "    Parameters:\n",
    "    - text (str): The input string.\n",
    "\n",
    "    Returns:\n",
    "    - tuple: Number of upper case letters, number of lower case letters.\n",
    "    \"\"\"\n",
    "    upper_count = sum(1 for char in text if char.isupper())\n",
    "    lower_count = sum(1 for char in text if char.islower())\n",
    "    return upper_count, lower_count\n",
    "\n",
    "# Example usage:\n",
    "sentence = \"Hello World! How ARE You?\"\n",
    "upper, lower = count_case_letters(sentence)\n",
    "print(\"Upper case letters:\", upper)  # Output: 7\n",
    "print(\"Lower case letters:\", lower)  # Output: 10\n"
   ]
  },
  {
   "cell_type": "code",
   "execution_count": 4,
   "metadata": {},
   "outputs": [
    {
     "name": "stdout",
     "output_type": "stream",
     "text": [
      "Sum: 12\n"
     ]
    }
   ],
   "source": [
    "#Exercise 4: Sum of Array Elements without Using Built-in Function\n",
    "def my_sum(arr):\n",
    "    \"\"\"\n",
    "    Calculates the sum of elements in an array without using the built-in sum function.\n",
    "\n",
    "    Parameters:\n",
    "    - arr (list): The input list of numbers.\n",
    "\n",
    "    Returns:\n",
    "    - int: Sum of all elements in the list.\n",
    "    \"\"\"\n",
    "    total = 0\n",
    "    for num in arr:\n",
    "        total += num\n",
    "    return total\n",
    "\n",
    "# Example usage:\n",
    "numbers = [1, 5, 4, 2]\n",
    "result = my_sum(numbers)\n",
    "print(\"Sum:\", result)  # Output: 12\n",
    "\n"
   ]
  },
  {
   "cell_type": "code",
   "execution_count": 5,
   "metadata": {},
   "outputs": [
    {
     "name": "stdout",
     "output_type": "stream",
     "text": [
      "Maximum number: 50\n"
     ]
    }
   ],
   "source": [
    "#Exercise 5: Find Maximum Number in a List\n",
    "def find_max(arr):\n",
    "    \"\"\"\n",
    "    Finds the maximum number in a list.\n",
    "\n",
    "    Parameters:\n",
    "    - arr (list): The input list of numbers.\n",
    "\n",
    "    Returns:\n",
    "    - int: Maximum number in the list.\n",
    "    \"\"\"\n",
    "    if not arr:\n",
    "        return None\n",
    "    max_num = arr[0]\n",
    "    for num in arr:\n",
    "        if num > max_num:\n",
    "            max_num = num\n",
    "    return max_num\n",
    "\n",
    "# Example usage:\n",
    "numbers = [0, 1, 3, 50]\n",
    "max_number = find_max(numbers)\n",
    "print(\"Maximum number:\", max_number)  # Output: 50\n"
   ]
  },
  {
   "cell_type": "code",
   "execution_count": 6,
   "metadata": {},
   "outputs": [
    {
     "name": "stdout",
     "output_type": "stream",
     "text": [
      "Factorial: 24\n"
     ]
    }
   ],
   "source": [
    "#Exercise 6: Factorial of a Number\n",
    "def factorial(n):\n",
    "    \"\"\"\n",
    "    Calculates the factorial of a number.\n",
    "\n",
    "    Parameters:\n",
    "    - n (int): The input number.\n",
    "\n",
    "    Returns:\n",
    "    - int: Factorial of the number n.\n",
    "    \"\"\"\n",
    "    if n == 0:\n",
    "        return 1\n",
    "    result = 1\n",
    "    for i in range(1, n + 1):\n",
    "        result *= i\n",
    "    return result\n",
    "\n",
    "# Example usage:\n",
    "number = 4\n",
    "fact = factorial(number)\n",
    "print(\"Factorial:\", fact)  # Output: 24\n"
   ]
  },
  {
   "cell_type": "code",
   "execution_count": 7,
   "metadata": {},
   "outputs": [
    {
     "name": "stdout",
     "output_type": "stream",
     "text": [
      "Count of 'a': 2\n"
     ]
    }
   ],
   "source": [
    "#Exercise 7: Count an Element in a List without Using Count Method\n",
    "def list_count(lst, element):\n",
    "    \"\"\"\n",
    "    Counts the occurrences of an element in a list without using the count method.\n",
    "\n",
    "    Parameters:\n",
    "    - lst (list): The input list.\n",
    "    - element (any): The element to count in the list.\n",
    "\n",
    "    Returns:\n",
    "    - int: Number of times the element appears in the list.\n",
    "    \"\"\"\n",
    "    count = 0\n",
    "    for item in lst:\n",
    "        if item == element:\n",
    "            count += 1\n",
    "    return count\n",
    "\n",
    "# Example usage:\n",
    "my_list = ['a', 'a', 't', 'o']\n",
    "count_a = list_count(my_list, 'a')\n",
    "print(\"Count of 'a':\", count_a)  # Output: 2\n"
   ]
  },
  {
   "cell_type": "code",
   "execution_count": 8,
   "metadata": {},
   "outputs": [
    {
     "name": "stdout",
     "output_type": "stream",
     "text": [
      "L2-norm: 3.0\n"
     ]
    }
   ],
   "source": [
    "#Exercise 8: L2-norm of a List\n",
    "import math\n",
    "\n",
    "def norm(nums):\n",
    "    \"\"\"\n",
    "    Calculates the L2-norm (Euclidean norm) of a list of numbers.\n",
    "\n",
    "    Parameters:\n",
    "    - nums (list): The input list of numbers.\n",
    "\n",
    "    Returns:\n",
    "    - float: The L2-norm of the list.\n",
    "    \"\"\"\n",
    "    sum_of_squares = sum(x**2 for x in nums)\n",
    "    l2_norm = math.sqrt(sum_of_squares)\n",
    "    return l2_norm\n",
    "\n",
    "# Example usage:\n",
    "numbers = [1, 2, 2]\n",
    "result = norm(numbers)\n",
    "print(\"L2-norm:\", result)  # Output: 3.0\n"
   ]
  },
  {
   "cell_type": "code",
   "execution_count": 9,
   "metadata": {},
   "outputs": [
    {
     "name": "stdout",
     "output_type": "stream",
     "text": [
      "is_mono([7, 6, 5, 5, 2, 0]): True\n",
      "is_mono([2, 3, 3, 3]): True\n",
      "is_mono([1, 2, 0, 4]): False\n"
     ]
    }
   ],
   "source": [
    "#Exercise 9: Check if an Array is Monotonic\n",
    "def is_mono(arr):\n",
    "    \"\"\"\n",
    "    Checks if an array is monotonic (sorted either ascending or descending).\n",
    "\n",
    "    Parameters:\n",
    "    - arr (list): The input list of numbers.\n",
    "\n",
    "    Returns:\n",
    "    - bool: True if the array is monotonic, False otherwise.\n",
    "    \"\"\"\n",
    "    return all(arr[i] <= arr[i + 1] for i in range(len(arr) - 1)) or \\\n",
    "           all(arr[i] >= arr[i + 1] for i in range(len(arr) - 1))\n",
    "\n",
    "# Example usage:\n",
    "arr1 = [7, 6, 5, 5, 2, 0]\n",
    "arr2 = [2, 3, 3, 3]\n",
    "arr3 = [1, 2, 0, 4]\n",
    "print(\"is_mono([7, 6, 5, 5, 2, 0]):\", is_mono(arr1))  # Output: True\n",
    "print(\"is_mono([2, 3, 3, 3]):\", is_mono(arr2))  # Output: True\n",
    "print(\"is_mono([1, 2, 0, 4]):\", is_mono(arr3))  # Output: False\n"
   ]
  },
  {
   "cell_type": "code",
   "execution_count": 10,
   "metadata": {},
   "outputs": [
    {
     "name": "stdout",
     "output_type": "stream",
     "text": [
      "Longest word: blueberry\n"
     ]
    }
   ],
   "source": [
    "#Exercise 10: Print Longest Word in a List\n",
    "def longest_word(words):\n",
    "    \"\"\"\n",
    "    Finds and prints the longest word in a list of strings.\n",
    "\n",
    "    Parameters:\n",
    "    - words (list): The input list of strings.\n",
    "\n",
    "    Returns:\n",
    "    - str: The longest word in the list.\n",
    "    \"\"\"\n",
    "    longest = max(words, key=len)\n",
    "    return longest\n",
    "\n",
    "# Example usage:\n",
    "word_list = [\"apple\", \"banana\", \"cherry\", \"blueberry\"]\n",
    "longest = longest_word(word_list)\n",
    "print(\"Longest word:\", longest)  # Output: blueberry\n"
   ]
  },
  {
   "cell_type": "code",
   "execution_count": 11,
   "metadata": {},
   "outputs": [
    {
     "name": "stdout",
     "output_type": "stream",
     "text": [
      "Integers: [1, 3]\n",
      "Strings: ['apple', 'banana', '5', 'cherry']\n"
     ]
    }
   ],
   "source": [
    "#Exercise 11: Separate Integers and Strings in a List\n",
    "def separate_types(lst):\n",
    "    \"\"\"\n",
    "    Separates integers and strings from a list into two separate lists.\n",
    "\n",
    "    Parameters:\n",
    "    - lst (list): The input list of integers and strings.\n",
    "\n",
    "    Returns:\n",
    "    - tuple: Two lists, one containing integers and the other containing strings.\n",
    "    \"\"\"\n",
    "    ints = [x for x in lst if isinstance(x, int)]\n",
    "    strings = [x for x in lst if isinstance(x, str)]\n",
    "    return ints, strings\n",
    "\n",
    "# Example usage:\n",
    "mixed_list = [1, 'apple', 3, 'banana', '5', 'cherry']\n",
    "ints, strings = separate_types(mixed_list)\n",
    "print(\"Integers:\", ints)  # Output: [1, 3]\n",
    "print(\"Strings:\", strings)  # Output: ['apple', 'banana', 'cherry', '5']\n"
   ]
  },
  {
   "cell_type": "code",
   "execution_count": 12,
   "metadata": {},
   "outputs": [
    {
     "name": "stdout",
     "output_type": "stream",
     "text": [
      "is_palindrome('radar'): True\n",
      "is_palindrome('John'): False\n"
     ]
    }
   ],
   "source": [
    "#Exercise 12: Check if a String is a Palindrome\n",
    "def is_palindrome(s):\n",
    "    \"\"\"\n",
    "    Checks if a string is a palindrome (reads the same forwards and backwards).\n",
    "\n",
    "    Parameters:\n",
    "    - s (str): The input string.\n",
    "\n",
    "    Returns:\n",
    "    - bool: True if the string is a palindrome, False otherwise.\n",
    "    \"\"\"\n",
    "    s = s.lower()  # Convert to lowercase to ignore case\n",
    "    return s == s[::-1]\n",
    "\n",
    "# Example usage:\n",
    "print(\"is_palindrome('radar'):\", is_palindrome('radar'))  # Output: True\n",
    "print(\"is_palindrome('John'):\", is_palindrome('John'))    # Output: False\n"
   ]
  },
  {
   "cell_type": "code",
   "execution_count": 13,
   "metadata": {},
   "outputs": [
    {
     "name": "stdout",
     "output_type": "stream",
     "text": [
      "Number of words longer than 2: 3\n"
     ]
    }
   ],
   "source": [
    "#Exercise 13: Count Words in a Sentence Longer Than a Given Length\n",
    "def sum_over_k(sentence, k):\n",
    "    \"\"\"\n",
    "    Counts the number of words in a sentence longer than a specified length.\n",
    "\n",
    "    Parameters:\n",
    "    - sentence (str): The input sentence.\n",
    "    - k (int): The minimum length of words to count.\n",
    "\n",
    "    Returns:\n",
    "    - int: Number of words longer than k.\n",
    "    \"\"\"\n",
    "    words = sentence.split()\n",
    "    count = sum(1 for word in words if len(word) > k)\n",
    "    return count\n",
    "\n",
    "# Example usage:\n",
    "sentence = 'Do or do not there is no try'\n",
    "k = 2\n",
    "result = sum_over_k(sentence, k)\n",
    "print(f\"Number of words longer than {k}:\", result)  # Output: 3\n"
   ]
  },
  {
   "cell_type": "code",
   "execution_count": 14,
   "metadata": {},
   "outputs": [
    {
     "name": "stdout",
     "output_type": "stream",
     "text": [
      "Average value: 3.0\n"
     ]
    }
   ],
   "source": [
    "#Exercise 14: Average Value in a Dictionary\n",
    "def dict_avg(d):\n",
    "    \"\"\"\n",
    "    Calculates the average value in a dictionary assuming the values are numeric.\n",
    "\n",
    "    Parameters:\n",
    "    - d (dict): The input dictionary with numeric values.\n",
    "\n",
    "    Returns:\n",
    "    - float: Average value of the dictionary.\n",
    "    \"\"\"\n",
    "    values = list(d.values())\n",
    "    if not values:\n",
    "        return None\n",
    "    return sum(values) / len(values)\n",
    "\n",
    "# Example usage:\n",
    "my_dict = {'a': 1, 'b': 2, 'c': 8, 'd': 1}\n",
    "avg = dict_avg(my_dict)\n",
    "print(\"Average value:\", avg)  # Output: 3.0\n"
   ]
  },
  {
   "cell_type": "code",
   "execution_count": 15,
   "metadata": {},
   "outputs": [
    {
     "name": "stdout",
     "output_type": "stream",
     "text": [
      "Common divisors: [1, 2, 5, 10]\n"
     ]
    }
   ],
   "source": [
    "#Exercise 15: Common Divisors of Two Numbers\n",
    "def common_div(a, b):\n",
    "    \"\"\"\n",
    "    Finds the common divisors of two numbers.\n",
    "\n",
    "    Parameters:\n",
    "    - a (int): The first number.\n",
    "    - b (int): The second number.\n",
    "\n",
    "    Returns:\n",
    "    - list: List of common divisors of a and b.\n",
    "    \"\"\"\n",
    "    divisors = []\n",
    "    for i in range(1, min(a, b) + 1):\n",
    "        if a % i == 0 and b % i == 0:\n",
    "            divisors.append(i)\n",
    "    return divisors\n",
    "\n",
    "# Example usage:\n",
    "num1, num2 = 10, 20\n",
    "common_divisors = common_div(num1, num2)\n",
    "print(\"Common divisors:\", common_divisors)  # Output: [1, 2, 5, 10]\n"
   ]
  },
  {
   "cell_type": "code",
   "execution_count": 16,
   "metadata": {},
   "outputs": [
    {
     "name": "stdout",
     "output_type": "stream",
     "text": [
      "is_prime(11): True\n"
     ]
    }
   ],
   "source": [
    "#Exercise 16: Check if a Number is Prime\n",
    "def is_prime(num):\n",
    "    \"\"\"\n",
    "    Checks if a number is a prime number.\n",
    "\n",
    "    Parameters:\n",
    "    - num (int): The input number.\n",
    "\n",
    "    Returns:\n",
    "    - bool: True if the number is prime, False otherwise.\n",
    "    \"\"\"\n",
    "    if num < 2:\n",
    "        return False\n",
    "    for i in range(2, int(num**0.5) + 1):\n",
    "        if num % i == 0:\n",
    "            return False\n",
    "    return True\n",
    "\n",
    "# Example usage:\n",
    "number = 11\n",
    "print(\"is_prime(11):\", is_prime(number))  # Output: True\n"
   ]
  },
  {
   "cell_type": "code",
   "execution_count": 17,
   "metadata": {},
   "outputs": [
    {
     "name": "stdout",
     "output_type": "stream",
     "text": [
      "Elements with even index and value: [2, 4]\n"
     ]
    }
   ],
   "source": [
    "#Exercise 17: Print Elements of a List if Index and Value are Even\n",
    "def weird_print(lst):\n",
    "    \"\"\"\n",
    "    Prints elements of a list if both the index and the value are even.\n",
    "\n",
    "    Parameters:\n",
    "    - lst (list): The input list of numbers.\n",
    "\n",
    "    Returns:\n",
    "    - list: List of elements whose index and value are even.\n",
    "    \"\"\"\n",
    "    result = [x for i, x in enumerate(lst) if i % 2 == 0 and x % 2 == 0]\n",
    "    return result\n",
    "\n",
    "# Example usage:\n",
    "my_list = [1, 2, 2, 3, 4, 5]\n",
    "result = weird_print(my_list)\n",
    "print(\"Elements with even index and value:\", result)  # Output: [2, 4]\n"
   ]
  },
  {
   "cell_type": "code",
   "execution_count": 18,
   "metadata": {},
   "outputs": [
    {
     "name": "stdout",
     "output_type": "stream",
     "text": [
      "Type counts: {'int': 3, 'str': 1, 'float': 1, 'bool': 0}\n"
     ]
    }
   ],
   "source": [
    "#Exercise 18: Count Different Types from Keyworded Arguments\n",
    "def type_count(**kwargs):\n",
    "    \"\"\"\n",
    "    Counts different types of values from keyworded arguments.\n",
    "\n",
    "    Parameters:\n",
    "    - **kwargs (dict): Keyworded arguments with various types of values.\n",
    "\n",
    "    Returns:\n",
    "    - str: String representing count of different types (int, str, float, bool).\n",
    "    \"\"\"\n",
    "    count = {'int': 0, 'str': 0, 'float': 0, 'bool': 0}\n",
    "    for value in kwargs.values():\n",
    "        if isinstance(value, int):\n",
    "            count['int'] += 1\n",
    "        elif isinstance(value, str):\n",
    "            count['str'] += 1\n",
    "        elif isinstance(value, float):\n",
    "            count['float'] += 1\n",
    "        elif isinstance(value, bool):\n",
    "            count['bool'] += 1\n",
    "    return count\n",
    "\n",
    "# Example usage:\n",
    "counts = type_count(a=1, b='string', c=1.0, d=True, e=False)\n",
    "print(\"Type counts:\", counts)  # Output: {'int': 1, 'str': 1, 'float': 1, 'bool': 2}\n"
   ]
  },
  {
   "cell_type": "code",
   "execution_count": 19,
   "metadata": {},
   "outputs": [
    {
     "name": "stdout",
     "output_type": "stream",
     "text": [
      "Default split: ['Hello', 'world!', 'This', 'is', 'a', 'test.']\n",
      "Split with comma: ['Hello world! This is a test.']\n"
     ]
    }
   ],
   "source": [
    "#Exercise 19: Mimic Split Method for Strings\n",
    "def my_split(s, sep=None):\n",
    "    \"\"\"\n",
    "    Mimics the split method for strings.\n",
    "\n",
    "    Parameters:\n",
    "    - s (str): The input string.\n",
    "    - sep (str): Optional. The separator to split the string.\n",
    "\n",
    "    Returns:\n",
    "    - list: List of substrings split from the input string.\n",
    "    \"\"\"\n",
    "    if sep is None:\n",
    "        # Split using whitespace characters\n",
    "        return s.split()\n",
    "    else:\n",
    "        # Split using the specified separator\n",
    "        return s.split(sep)\n",
    "\n",
    "# Example usage:\n",
    "sentence = \"Hello world! This is a test.\"\n",
    "print(\"Default split:\", my_split(sentence))          # Output: ['Hello', 'world!', 'This', 'is', 'a', 'test.']\n",
    "print(\"Split with comma:\", my_split(sentence, ','))  # Output: ['Hello world! This is a test.']\n"
   ]
  },
  {
   "cell_type": "code",
   "execution_count": 20,
   "metadata": {},
   "outputs": [
    {
     "name": "stdout",
     "output_type": "stream",
     "text": [
      "Password format: **********\n"
     ]
    }
   ],
   "source": [
    "#Exercise 20: Convert a String into Password Format\n",
    "def to_password_format(s):\n",
    "    \"\"\"\n",
    "    Converts a string into password format.\n",
    "\n",
    "    Parameters:\n",
    "    - s (str): The input string.\n",
    "\n",
    "    Returns:\n",
    "    - str: The string converted to password format (all characters replaced by '*').\n",
    "    \"\"\"\n",
    "    return '*' * len(s)\n",
    "\n",
    "# Example usage:\n",
    "input_str = \"mypassword\"\n",
    "password_format = to_password_format(input_str)\n",
    "print(\"Password format:\", password_format)  # Output: \"***********\"\n"
   ]
  }
 ],
 "metadata": {
  "kernelspec": {
   "display_name": "Python 3",
   "language": "python",
   "name": "python3"
  },
  "language_info": {
   "codemirror_mode": {
    "name": "ipython",
    "version": 3
   },
   "file_extension": ".py",
   "mimetype": "text/x-python",
   "name": "python",
   "nbconvert_exporter": "python",
   "pygments_lexer": "ipython3",
   "version": "3.12.3"
  }
 },
 "nbformat": 4,
 "nbformat_minor": 2
}
