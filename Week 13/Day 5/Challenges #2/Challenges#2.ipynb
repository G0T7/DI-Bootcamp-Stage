{
 "cells": [
  {
   "cell_type": "code",
   "execution_count": 1,
   "metadata": {},
   "outputs": [
    {
     "name": "stdout",
     "output_type": "stream",
     "text": [
      "  *\n",
      " ***\n",
      "*****\n"
     ]
    }
   ],
   "source": [
    "#Exercise 1: Patterns Using For Loops\n",
    "#Pattern 1\n",
    "\n",
    "#   *\n",
    "#  ***\n",
    "# *****\n",
    "\n",
    "# Pattern 1\n",
    "for i in range(3):            # Loop through 0 to 2 (inclusive)\n",
    "    print(\" \" * (2 - i) + \"*\" * (2 * i + 1))  # Print spaces and stars based on the current row\n"
   ]
  },
  {
   "cell_type": "code",
   "execution_count": 2,
   "metadata": {},
   "outputs": [
    {
     "name": "stdout",
     "output_type": "stream",
     "text": [
      "    *\n",
      "   **\n",
      "  ***\n",
      " ****\n",
      "*****\n"
     ]
    }
   ],
   "source": [
    "#Pattern 2\n",
    "#      *\n",
    "#     **\n",
    "#    ***\n",
    "#   ****\n",
    "#  *****\n",
    "\n",
    "\n",
    "for i in range(5):            # Loop through 0 to 4 (inclusive)\n",
    "    print(\" \" * (4 - i) + \"*\" * (i + 1))  # Print spaces and stars based on the current row\n"
   ]
  },
  {
   "cell_type": "code",
   "execution_count": 3,
   "metadata": {},
   "outputs": [
    {
     "name": "stdout",
     "output_type": "stream",
     "text": [
      "*\n",
      "**\n",
      "***\n",
      "****\n",
      "*****\n",
      "*****\n",
      " ****\n",
      "  ***\n",
      "   **\n",
      "    *\n"
     ]
    }
   ],
   "source": [
    "#Pattern 3\n",
    "#  *\n",
    "#  **\n",
    "#  ***\n",
    "#  ****\n",
    "#  *****\n",
    "#  *****\n",
    "#   ****\n",
    "#    ***\n",
    "#     **\n",
    "#      *\n",
    "\n",
    "for i in range(5):            # Loop through 0 to 4 (inclusive)\n",
    "    print(\"*\" * (i + 1))      # Print increasing number of stars\n",
    "for i in range(5):            # Loop through 0 to 4 (inclusive)\n",
    "    print(\" \" * i + \"*\" * (5 - i))  # Print decreasing number of stars with leading spaces\n"
   ]
  },
  {
   "cell_type": "code",
   "execution_count": 4,
   "metadata": {},
   "outputs": [
    {
     "name": "stdout",
     "output_type": "stream",
     "text": [
      "[2, 12, 24, 233, 354]\n"
     ]
    }
   ],
   "source": [
    "#Exercise 2: Analyzing Sorting Code\n",
    "my_list = [2, 24, 12, 354, 233]\n",
    "for i in range(len(my_list) - 1):    # Loop from 0 to 3 (inclusive)\n",
    "    minimum = i                      # Set minimum to current index i\n",
    "    for j in range(i + 1, len(my_list)):  # Inner loop from i+1 to end of list\n",
    "        if my_list[j] < my_list[minimum]:  # Compare elements to find minimum\n",
    "            minimum = j                  # Update minimum index if found\n",
    "    if minimum != i:                      # If minimum is not current index i\n",
    "        my_list[i], my_list[minimum] = my_list[minimum], my_list[i]  # Swap elements\n",
    "print(my_list)  # Print sorted list\n"
   ]
  }
 ],
 "metadata": {
  "kernelspec": {
   "display_name": "Python 3",
   "language": "python",
   "name": "python3"
  },
  "language_info": {
   "codemirror_mode": {
    "name": "ipython",
    "version": 3
   },
   "file_extension": ".py",
   "mimetype": "text/x-python",
   "name": "python",
   "nbconvert_exporter": "python",
   "pygments_lexer": "ipython3",
   "version": "3.12.3"
  }
 },
 "nbformat": 4,
 "nbformat_minor": 2
}
