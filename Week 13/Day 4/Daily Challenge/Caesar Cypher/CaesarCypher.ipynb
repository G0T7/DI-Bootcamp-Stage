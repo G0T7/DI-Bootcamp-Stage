{
 "cells": [
  {
   "cell_type": "code",
   "execution_count": 1,
   "metadata": {},
   "outputs": [
    {
     "name": "stdout",
     "output_type": "stream",
     "text": [
      "Welcome to the Caesar Cipher program!\n",
      "Encrypted message: Khoor\n",
      "Encrypted message: Zrz\n",
      "Exiting program...\n"
     ]
    }
   ],
   "source": [
    "def caesar_cipher(text, shift, mode='encrypt'):\n",
    "    \"\"\"\n",
    "    Encrypts or decrypts the given text using the Caesar cipher with the specified shift.\n",
    "    \n",
    "    Parameters:\n",
    "    - text: The message to be encrypted or decrypted.\n",
    "    - shift: The number of positions to shift each letter in the alphabet.\n",
    "    - mode: 'encrypt' (default) or 'decrypt'.\n",
    "    \n",
    "    Returns:\n",
    "    - The processed message (encrypted or decrypted).\n",
    "    \"\"\"\n",
    "    result = \"\"\n",
    "    for char in text:\n",
    "        if char.isalpha():  # Check if the character is an alphabet\n",
    "            if char.islower():  # For lowercase letters\n",
    "                shifted_char = chr((ord(char) - ord('a') + shift) % 26 + ord('a'))\n",
    "            else:  # For uppercase letters\n",
    "                shifted_char = chr((ord(char) - ord('A') + shift) % 26 + ord('A'))\n",
    "        else:\n",
    "            shifted_char = char  # Non-alphabetical characters remain the same\n",
    "        \n",
    "        result += shifted_char\n",
    "    \n",
    "    return result\n",
    "\n",
    "def main():\n",
    "    print(\"Welcome to the Caesar Cipher program!\")\n",
    "    while True:\n",
    "        choice = input(\"Enter 'E' to encrypt, 'D' to decrypt, or 'Q' to quit: \").upper()\n",
    "        \n",
    "        if choice == 'Q':\n",
    "            print(\"Exiting program...\")\n",
    "            break\n",
    "        \n",
    "        if choice not in ['E', 'D']:\n",
    "            print(\"Invalid choice. Please enter 'E', 'D', or 'Q'.\")\n",
    "            continue\n",
    "        \n",
    "        message = input(\"Enter the message: \")\n",
    "        shift = int(input(\"Enter the shift amount (a positive integer): \"))\n",
    "        \n",
    "        if choice == 'E':\n",
    "            encrypted_message = caesar_cipher(message, shift, 'encrypt')\n",
    "            print(f\"Encrypted message: {encrypted_message}\")\n",
    "        elif choice == 'D':\n",
    "            decrypted_message = caesar_cipher(message, shift, 'decrypt')\n",
    "            print(f\"Decrypted message: {decrypted_message}\")\n",
    "\n",
    "if __name__ == \"__main__\":\n",
    "    main()\n",
    "\n",
    "\n",
    "#Welcome to the Caesar Cipher program!\n",
    "#Enter 'E' to encrypt, 'D' to decrypt, or 'Q' to quit: E\n",
    "#Enter the message: Hello World\n",
    "#Enter the shift amount (a positive integer): 3\n",
    "#Encrypted message: Khoor Zruog\n",
    "\n",
    "#Enter 'E' to encrypt, 'D' to decrypt, or 'Q' to quit: D\n",
    "#Enter the message: Khoor Zruog\n",
    "#Enter the shift amount (a positive integer): 3\n",
    "#Decrypted message: Hello World\n",
    "\n",
    "#Enter 'E' to encrypt, 'D' to decrypt, or 'Q' to quit: Q\n",
    "#Exiting program...\n"
   ]
  }
 ],
 "metadata": {
  "kernelspec": {
   "display_name": "Python 3",
   "language": "python",
   "name": "python3"
  },
  "language_info": {
   "codemirror_mode": {
    "name": "ipython",
    "version": 3
   },
   "file_extension": ".py",
   "mimetype": "text/x-python",
   "name": "python",
   "nbconvert_exporter": "python",
   "pygments_lexer": "ipython3",
   "version": "3.12.3"
  }
 },
 "nbformat": 4,
 "nbformat_minor": 2
}
