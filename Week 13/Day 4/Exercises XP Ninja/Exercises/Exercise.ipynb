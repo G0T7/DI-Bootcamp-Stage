{
 "cells": [
  {
   "cell_type": "code",
   "execution_count": 1,
   "metadata": {},
   "outputs": [
    {
     "name": "stdout",
     "output_type": "stream",
     "text": [
      "There are 5 manufacturers/companies in the list.\n",
      "Manufacturers in reverse order:\n",
      "Chevrolet\n",
      "Honda\n",
      "Ford Motor\n",
      "Toyota\n",
      "Volkswagen\n",
      "Number of manufacturers with 'o': 5\n",
      "Number of manufacturers without 'i': 5\n",
      "There are 5 unique manufacturers: Volkswagen, Honda, Ford Motor, Chevrolet, Toyota\n",
      "Manufacturers in ascending order with reversed names:\n",
      "telorvehC\n",
      "rotoM droF\n",
      "adnoH\n",
      "atoyoT\n",
      "negawskloV\n"
     ]
    }
   ],
   "source": [
    "# Exercise 1: Cars\n",
    "\n",
    "# Step 1: Convert string to list\n",
    "manufacturers_str = \"Volkswagen, Toyota, Ford Motor, Honda, Chevrolet\"\n",
    "manufacturers_list = manufacturers_str.split(\", \")\n",
    "\n",
    "# Step 2: Print number of manufacturers/companies\n",
    "print(f\"There are {len(manufacturers_list)} manufacturers/companies in the list.\")\n",
    "\n",
    "# Step 3: Print list in reverse order (descending)\n",
    "print(\"Manufacturers in reverse order:\")\n",
    "for manufacturer in reversed(manufacturers_list):\n",
    "    print(manufacturer)\n",
    "\n",
    "# Step 4: Count manufacturers with 'o' and without 'i'\n",
    "count_o = sum(1 for manufacturer in manufacturers_list if 'o' in manufacturer)\n",
    "count_no_i = sum(1 for manufacturer in manufacturers_list if 'i' not in manufacturer)\n",
    "\n",
    "print(f\"Number of manufacturers with 'o': {count_o}\")\n",
    "print(f\"Number of manufacturers without 'i': {count_no_i}\")\n",
    "\n",
    "# Bonus: Remove duplicates using set and print unique manufacturers\n",
    "unique_manufacturers = list(set(manufacturers_list))\n",
    "print(f\"There are {len(unique_manufacturers)} unique manufacturers: \", end=\"\")\n",
    "print(\", \".join(unique_manufacturers))\n",
    "\n",
    "# Bonus: Print list in ascending order (A-Z) with reversed names\n",
    "print(\"Manufacturers in ascending order with reversed names:\")\n",
    "sorted_manufacturers = sorted(manufacturers_list)\n",
    "for manufacturer in sorted_manufacturers:\n",
    "    print(manufacturer[::-1])\n"
   ]
  },
  {
   "cell_type": "code",
   "execution_count": 2,
   "metadata": {},
   "outputs": [
    {
     "name": "stdout",
     "output_type": "stream",
     "text": [
      "John Hooker Lee\n",
      "Bruce Lee\n"
     ]
    }
   ],
   "source": [
    "# Exercise 2: What’s Your Name?\n",
    "\n",
    "def get_full_name(first_name, last_name, middle_name=None):\n",
    "    if middle_name:\n",
    "        full_name = f\"{first_name.capitalize()} {middle_name.capitalize()} {last_name.capitalize()}\"\n",
    "    else:\n",
    "        full_name = f\"{first_name.capitalize()} {last_name.capitalize()}\"\n",
    "    return full_name\n",
    "\n",
    "# Test cases\n",
    "print(get_full_name(first_name=\"john\", middle_name=\"hooker\", last_name=\"lee\"))  # John Hooker Lee\n",
    "print(get_full_name(first_name=\"bruce\", last_name=\"lee\"))  # Bruce Lee\n"
   ]
  },
  {
   "cell_type": "code",
   "execution_count": 6,
   "metadata": {},
   "outputs": [
    {
     "name": "stdout",
     "output_type": "stream",
     "text": [
      "English text: HELLO WORLD\n",
      "Morse code: .... . .-.. .-.. --- / .-- --- .-. .-.. -..\n",
      "Morse code: ... --- ... / .-- --- .-. .-.. -..\n",
      "English text: SOS WORLD\n"
     ]
    }
   ],
   "source": [
    "# Morse code dictionary for translation\n",
    "morse_code_dict = {\n",
    "    'A': '.-', 'B': '-...', 'C': '-.-.', 'D': '-..', 'E': '.', 'F': '..-.', 'G': '--.', 'H': '....',\n",
    "    'I': '..', 'J': '.---', 'K': '-.-', 'L': '.-..', 'M': '--', 'N': '-.', 'O': '---', 'P': '.--.',\n",
    "    'Q': '--.-', 'R': '.-.', 'S': '...', 'T': '-', 'U': '..-', 'V': '...-', 'W': '.--', 'X': '-..-',\n",
    "    'Y': '-.--', 'Z': '--..', '0': '-----', '1': '.----', '2': '..---', '3': '...--', '4': '....-',\n",
    "    '5': '.....', '6': '-....', '7': '--...', '8': '---..', '9': '----.'\n",
    "}\n",
    "\n",
    "def english_to_morse(text):\n",
    "    morse_text = []\n",
    "    for char in text.upper():\n",
    "        if char == ' ':\n",
    "            morse_text.append('/')\n",
    "        else:\n",
    "            morse_text.append(morse_code_dict.get(char, char))\n",
    "    return ' '.join(morse_text)\n",
    "\n",
    "def morse_to_english(morse_code_str, morse_dict):\n",
    "    english_text = []\n",
    "    reversed_dict = {value: key for key, value in morse_dict.items()}\n",
    "    for code in morse_code_str.split(' '):\n",
    "        if code == '/':\n",
    "            english_text.append(' ')\n",
    "        else:\n",
    "            english_text.append(reversed_dict.get(code, code))\n",
    "    return ''.join(english_text)\n",
    "\n",
    "# Test case for English to Morse\n",
    "english_text = \"HELLO WORLD\"\n",
    "morse_text = english_to_morse(english_text)\n",
    "print(f\"English text: {english_text}\")\n",
    "print(f\"Morse code: {morse_text}\")\n",
    "\n",
    "# Test case for Morse to English\n",
    "morse_text = \"... --- ... / .-- --- .-. .-.. -..\"\n",
    "english_text = morse_to_english(morse_text, morse_code_dict)\n",
    "print(f\"Morse code: {morse_text}\")\n",
    "print(f\"English text: {english_text}\")\n"
   ]
  },
  {
   "cell_type": "code",
   "execution_count": 4,
   "metadata": {},
   "outputs": [
    {
     "name": "stdout",
     "output_type": "stream",
     "text": [
      "******************\n",
      "* Hello          *\n",
      "* World          *\n",
      "* in             *\n",
      "* reallylongword *\n",
      "* a              *\n",
      "* frame          *\n",
      "******************\n"
     ]
    }
   ],
   "source": [
    "# Exercise 4: Box Of Stars\n",
    "\n",
    "def box_printer(*args):\n",
    "    max_length = max(len(word) for word in args)\n",
    "    print('*' * (max_length + 4))\n",
    "    for word in args:\n",
    "        print(f'* {word.ljust(max_length)} *')\n",
    "    print('*' * (max_length + 4))\n",
    "\n",
    "# Test case\n",
    "box_printer(\"Hello\", \"World\", \"in\", \"reallylongword\", \"a\", \"frame\")\n"
   ]
  },
  {
   "cell_type": "code",
   "execution_count": 5,
   "metadata": {},
   "outputs": [
    {
     "name": "stdout",
     "output_type": "stream",
     "text": [
      "[17, 20, 26, 31, 44, 54, 55, 77, 93]\n"
     ]
    }
   ],
   "source": [
    "# Exercise 5: Insertion Sort\n",
    "\n",
    "def insertion_sort(alist):\n",
    "    for index in range(1, len(alist)):\n",
    "        currentvalue = alist[index]\n",
    "        position = index\n",
    "\n",
    "        while position > 0 and alist[position - 1] > currentvalue:\n",
    "            alist[position] = alist[position - 1]\n",
    "            position = position - 1\n",
    "\n",
    "        alist[position] = currentvalue\n",
    "\n",
    "# Example usage\n",
    "alist = [54, 26, 93, 17, 77, 31, 44, 55, 20]\n",
    "insertion_sort(alist)\n",
    "print(alist)  # Output: [17, 20, 26, 31, 44, 54, 55, 77, 93]\n"
   ]
  }
 ],
 "metadata": {
  "kernelspec": {
   "display_name": "Python 3",
   "language": "python",
   "name": "python3"
  },
  "language_info": {
   "codemirror_mode": {
    "name": "ipython",
    "version": 3
   },
   "file_extension": ".py",
   "mimetype": "text/x-python",
   "name": "python",
   "nbconvert_exporter": "python",
   "pygments_lexer": "ipython3",
   "version": "3.12.3"
  }
 },
 "nbformat": 4,
 "nbformat_minor": 2
}
