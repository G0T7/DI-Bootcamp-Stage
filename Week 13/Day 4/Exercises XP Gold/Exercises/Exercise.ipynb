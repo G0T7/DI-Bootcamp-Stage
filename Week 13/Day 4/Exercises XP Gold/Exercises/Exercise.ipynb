{
 "cells": [
  {
   "cell_type": "code",
   "execution_count": 1,
   "metadata": {},
   "outputs": [
    {
     "name": "stdout",
     "output_type": "stream",
     "text": [
      "Welcome! You can look up the birthdays of the people in the list!\n",
      "Sorry, we don't have the birthday information for Chris pratt.\n"
     ]
    }
   ],
   "source": [
    "# Exercise 1: Birthday Look-Up\n",
    "\n",
    "# Step 1: Create a dictionary with birthdays\n",
    "birthdays = {\n",
    "    \"Alice\": \"1990/01/15\",\n",
    "    \"Bob\": \"1985/02/20\",\n",
    "    \"Charlie\": \"1992/03/30\",\n",
    "    \"Diana\": \"1988/04/25\",\n",
    "    \"Eve\": \"1995/05/10\"\n",
    "}\n",
    "\n",
    "# Step 2: Welcome message\n",
    "print(\"Welcome! You can look up the birthdays of the people in the list!\")\n",
    "\n",
    "# Step 3: Ask user for a person's name\n",
    "name = input(\"Whose birthday would you like to know? \")\n",
    "\n",
    "# Step 4: Get and print the birthday\n",
    "birthday = birthdays.get(name)\n",
    "if birthday:\n",
    "    print(f\"{name}'s birthday is on {birthday}.\")\n",
    "else:\n",
    "    print(f\"Sorry, we don't have the birthday information for {name}.\")\n"
   ]
  },
  {
   "cell_type": "code",
   "execution_count": 2,
   "metadata": {},
   "outputs": [
    {
     "name": "stdout",
     "output_type": "stream",
     "text": [
      "Welcome! You can look up the birthdays of the people in the list!\n",
      "Here are the names in the list:\n",
      "Alice\n",
      "Bob\n",
      "Charlie\n",
      "Diana\n",
      "Eve\n",
      "Alice's birthday is on 1990/01/15.\n"
     ]
    }
   ],
   "source": [
    "# Exercise 2: Birthdays Advanced\n",
    "\n",
    "# Step 1: Create a dictionary with birthdays\n",
    "birthdays = {\n",
    "    \"Alice\": \"1990/01/15\",\n",
    "    \"Bob\": \"1985/02/20\",\n",
    "    \"Charlie\": \"1992/03/30\",\n",
    "    \"Diana\": \"1988/04/25\",\n",
    "    \"Eve\": \"1995/05/10\"\n",
    "}\n",
    "\n",
    "# Step 2: Print all names in the dictionary\n",
    "print(\"Welcome! You can look up the birthdays of the people in the list!\")\n",
    "print(\"Here are the names in the list:\")\n",
    "for name in birthdays.keys():\n",
    "    print(name)\n",
    "\n",
    "# Step 3: Ask user for a person's name\n",
    "name = input(\"Whose birthday would you like to know? \")\n",
    "\n",
    "# Step 4: Get and print the birthday\n",
    "birthday = birthdays.get(name)\n",
    "if birthday:\n",
    "    print(f\"{name}'s birthday is on {birthday}.\")\n",
    "else:\n",
    "    print(f\"Sorry, we don't have the birthday information for {name}.\")\n"
   ]
  },
  {
   "cell_type": "code",
   "execution_count": 3,
   "metadata": {},
   "outputs": [
    {
     "name": "stdout",
     "output_type": "stream",
     "text": [
      "Here are the updated names in the list:\n",
      "Alice\n",
      "Bob\n",
      "Charlie\n",
      "Diana\n",
      "Eve\n",
      "bob\n"
     ]
    },
    {
     "ename": "KeyboardInterrupt",
     "evalue": "Interrupted by user",
     "output_type": "error",
     "traceback": [
      "\u001b[1;31m---------------------------------------------------------------------------\u001b[0m",
      "\u001b[1;31mKeyboardInterrupt\u001b[0m                         Traceback (most recent call last)",
      "Cell \u001b[1;32mIn[3], line 23\u001b[0m\n\u001b[0;32m     20\u001b[0m     \u001b[38;5;28mprint\u001b[39m(name)\n\u001b[0;32m     22\u001b[0m \u001b[38;5;66;03m# Step 4: Ask user for a person's name to look up\u001b[39;00m\n\u001b[1;32m---> 23\u001b[0m name \u001b[38;5;241m=\u001b[39m \u001b[38;5;28;43minput\u001b[39;49m\u001b[43m(\u001b[49m\u001b[38;5;124;43m\"\u001b[39;49m\u001b[38;5;124;43mWhose birthday would you like to know? \u001b[39;49m\u001b[38;5;124;43m\"\u001b[39;49m\u001b[43m)\u001b[49m\n\u001b[0;32m     25\u001b[0m \u001b[38;5;66;03m# Step 5: Get and print the birthday\u001b[39;00m\n\u001b[0;32m     26\u001b[0m birthday \u001b[38;5;241m=\u001b[39m birthdays\u001b[38;5;241m.\u001b[39mget(name)\n",
      "File \u001b[1;32m~\\AppData\\Roaming\\Python\\Python312\\site-packages\\ipykernel\\kernelbase.py:1282\u001b[0m, in \u001b[0;36mKernel.raw_input\u001b[1;34m(self, prompt)\u001b[0m\n\u001b[0;32m   1280\u001b[0m     msg \u001b[38;5;241m=\u001b[39m \u001b[38;5;124m\"\u001b[39m\u001b[38;5;124mraw_input was called, but this frontend does not support input requests.\u001b[39m\u001b[38;5;124m\"\u001b[39m\n\u001b[0;32m   1281\u001b[0m     \u001b[38;5;28;01mraise\u001b[39;00m StdinNotImplementedError(msg)\n\u001b[1;32m-> 1282\u001b[0m \u001b[38;5;28;01mreturn\u001b[39;00m \u001b[38;5;28;43mself\u001b[39;49m\u001b[38;5;241;43m.\u001b[39;49m\u001b[43m_input_request\u001b[49m\u001b[43m(\u001b[49m\n\u001b[0;32m   1283\u001b[0m \u001b[43m    \u001b[49m\u001b[38;5;28;43mstr\u001b[39;49m\u001b[43m(\u001b[49m\u001b[43mprompt\u001b[49m\u001b[43m)\u001b[49m\u001b[43m,\u001b[49m\n\u001b[0;32m   1284\u001b[0m \u001b[43m    \u001b[49m\u001b[38;5;28;43mself\u001b[39;49m\u001b[38;5;241;43m.\u001b[39;49m\u001b[43m_parent_ident\u001b[49m\u001b[43m[\u001b[49m\u001b[38;5;124;43m\"\u001b[39;49m\u001b[38;5;124;43mshell\u001b[39;49m\u001b[38;5;124;43m\"\u001b[39;49m\u001b[43m]\u001b[49m\u001b[43m,\u001b[49m\n\u001b[0;32m   1285\u001b[0m \u001b[43m    \u001b[49m\u001b[38;5;28;43mself\u001b[39;49m\u001b[38;5;241;43m.\u001b[39;49m\u001b[43mget_parent\u001b[49m\u001b[43m(\u001b[49m\u001b[38;5;124;43m\"\u001b[39;49m\u001b[38;5;124;43mshell\u001b[39;49m\u001b[38;5;124;43m\"\u001b[39;49m\u001b[43m)\u001b[49m\u001b[43m,\u001b[49m\n\u001b[0;32m   1286\u001b[0m \u001b[43m    \u001b[49m\u001b[43mpassword\u001b[49m\u001b[38;5;241;43m=\u001b[39;49m\u001b[38;5;28;43;01mFalse\u001b[39;49;00m\u001b[43m,\u001b[49m\n\u001b[0;32m   1287\u001b[0m \u001b[43m\u001b[49m\u001b[43m)\u001b[49m\n",
      "File \u001b[1;32m~\\AppData\\Roaming\\Python\\Python312\\site-packages\\ipykernel\\kernelbase.py:1325\u001b[0m, in \u001b[0;36mKernel._input_request\u001b[1;34m(self, prompt, ident, parent, password)\u001b[0m\n\u001b[0;32m   1322\u001b[0m \u001b[38;5;28;01mexcept\u001b[39;00m \u001b[38;5;167;01mKeyboardInterrupt\u001b[39;00m:\n\u001b[0;32m   1323\u001b[0m     \u001b[38;5;66;03m# re-raise KeyboardInterrupt, to truncate traceback\u001b[39;00m\n\u001b[0;32m   1324\u001b[0m     msg \u001b[38;5;241m=\u001b[39m \u001b[38;5;124m\"\u001b[39m\u001b[38;5;124mInterrupted by user\u001b[39m\u001b[38;5;124m\"\u001b[39m\n\u001b[1;32m-> 1325\u001b[0m     \u001b[38;5;28;01mraise\u001b[39;00m \u001b[38;5;167;01mKeyboardInterrupt\u001b[39;00m(msg) \u001b[38;5;28;01mfrom\u001b[39;00m \u001b[38;5;28;01mNone\u001b[39;00m\n\u001b[0;32m   1326\u001b[0m \u001b[38;5;28;01mexcept\u001b[39;00m \u001b[38;5;167;01mException\u001b[39;00m:\n\u001b[0;32m   1327\u001b[0m     \u001b[38;5;28mself\u001b[39m\u001b[38;5;241m.\u001b[39mlog\u001b[38;5;241m.\u001b[39mwarning(\u001b[38;5;124m\"\u001b[39m\u001b[38;5;124mInvalid Message:\u001b[39m\u001b[38;5;124m\"\u001b[39m, exc_info\u001b[38;5;241m=\u001b[39m\u001b[38;5;28;01mTrue\u001b[39;00m)\n",
      "\u001b[1;31mKeyboardInterrupt\u001b[0m: Interrupted by user"
     ]
    }
   ],
   "source": [
    "# Exercise 3: Add Your Own Birthday\n",
    "\n",
    "# Step 1: Create a dictionary with birthdays\n",
    "birthdays = {\n",
    "    \"Alice\": \"1990/01/15\",\n",
    "    \"Bob\": \"1985/02/20\",\n",
    "    \"Charlie\": \"1992/03/30\",\n",
    "    \"Diana\": \"1988/04/25\",\n",
    "    \"Eve\": \"1995/05/10\"\n",
    "}\n",
    "\n",
    "# Step 2: Ask user to add a new birthday\n",
    "new_name = input(\"Enter the name of the person to add: \")\n",
    "new_birthday = input(\"Enter their birthday (YYYY/MM/DD): \")\n",
    "birthdays[new_name] = new_birthday\n",
    "\n",
    "# Step 3: Print all names in the dictionary\n",
    "print(\"Here are the updated names in the list:\")\n",
    "for name in birthdays.keys():\n",
    "    print(name)\n",
    "\n",
    "# Step 4: Ask user for a person's name to look up\n",
    "name = input(\"Whose birthday would you like to know? \")\n",
    "\n",
    "# Step 5: Get and print the birthday\n",
    "birthday = birthdays.get(name)\n",
    "if birthday:\n",
    "    print(f\"{name}'s birthday is on {birthday}.\")\n",
    "else:\n",
    "    print(f\"Sorry, we don't have the birthday information for {name}.\")\n"
   ]
  },
  {
   "cell_type": "code",
   "execution_count": 4,
   "metadata": {},
   "outputs": [
    {
     "name": "stdout",
     "output_type": "stream",
     "text": [
      "The price of banana is $4.\n",
      "The price of apple is $2.\n",
      "The price of orange is $1.5.\n",
      "The price of pear is $3.\n",
      "The total cost to buy everything in stock is $89.0.\n"
     ]
    }
   ],
   "source": [
    "# Exercise 4: Fruit Shop\n",
    "\n",
    "# Step 1: Print all items and their prices\n",
    "items = {\n",
    "    \"banana\": 4,\n",
    "    \"apple\": 2,\n",
    "    \"orange\": 1.5,\n",
    "    \"pear\": 3\n",
    "}\n",
    "\n",
    "for item, price in items.items():\n",
    "    print(f\"The price of {item} is ${price}.\")\n",
    "\n",
    "# Step 2: Calculate the total cost of all items in stock\n",
    "items_stock = {\n",
    "    \"banana\": {\"price\": 4, \"stock\": 10},\n",
    "    \"apple\": {\"price\": 2, \"stock\": 5},\n",
    "    \"orange\": {\"price\": 1.5, \"stock\": 24},\n",
    "    \"pear\": {\"price\": 3, \"stock\": 1}\n",
    "}\n",
    "\n",
    "total_cost = sum(details[\"price\"] * details[\"stock\"] for details in items_stock.values())\n",
    "\n",
    "print(f\"The total cost to buy everything in stock is ${total_cost}.\")\n"
   ]
  },
  {
   "cell_type": "code",
   "execution_count": 5,
   "metadata": {},
   "outputs": [
    {
     "name": "stdout",
     "output_type": "stream",
     "text": [
      "You can't retire yet.\n"
     ]
    }
   ],
   "source": [
    "# Exercise 5: When Will I Retire?\n",
    "\n",
    "from datetime import datetime\n",
    "\n",
    "# Function to calculate age\n",
    "def get_age(year, month, day):\n",
    "    current_year, current_month, current_day = 2024, 6, 25  # Hard-coded current date\n",
    "    age = current_year - year - ((current_month, current_day) < (month, day))\n",
    "    return age\n",
    "\n",
    "# Function to determine retirement eligibility\n",
    "def can_retire(gender, date_of_birth):\n",
    "    year, month, day = map(int, date_of_birth.split('/'))\n",
    "    age = get_age(year, month, day)\n",
    "    \n",
    "    if gender == 'm':\n",
    "        return age >= 67\n",
    "    elif gender == 'f':\n",
    "        if year > 1947 or (year == 1947 and (month > 4 or (month == 4 and day >= 1))):\n",
    "            return age >= 62\n",
    "        else:\n",
    "            return age >= 67\n",
    "\n",
    "# Main function\n",
    "def main():\n",
    "    gender = input(\"Enter your gender (m/f): \").lower()\n",
    "    date_of_birth = input(\"Enter your date of birth (YYYY/MM/DD): \")\n",
    "    \n",
    "    if can_retire(gender, date_of_birth):\n",
    "        print(\"You can retire.\")\n",
    "    else:\n",
    "        print(\"You can't retire yet.\")\n",
    "\n",
    "# Example usage\n",
    "main()\n"
   ]
  },
  {
   "cell_type": "code",
   "execution_count": 6,
   "metadata": {},
   "outputs": [
    {
     "name": "stdout",
     "output_type": "stream",
     "text": [
      "10203040\n"
     ]
    }
   ],
   "source": [
    "# Exercise 6: Sum\n",
    "\n",
    "def calculate_sum(X):\n",
    "    X_str = str(X)\n",
    "    result = int(X_str) + int(X_str * 2) + int(X_str * 3) + int(X_str * 4)\n",
    "    return result\n",
    "\n",
    "# Example usage\n",
    "X = int(input(\"Enter a number: \"))\n",
    "print(calculate_sum(X))\n"
   ]
  },
  {
   "cell_type": "code",
   "execution_count": 7,
   "metadata": {},
   "outputs": [
    {
     "name": "stdout",
     "output_type": "stream",
     "text": [
      "Total throws: 583\n",
      "Average throws to reach doubles: 5.83\n"
     ]
    }
   ],
   "source": [
    "# Exercise 7: Double Dice\n",
    "\n",
    "import random\n",
    "\n",
    "# Function to simulate a dice roll\n",
    "def throw_dice():\n",
    "    return random.randint(1, 6)\n",
    "\n",
    "# Function to throw dice until doubles are reached\n",
    "def throw_until_doubles():\n",
    "    count = 0\n",
    "    while True:\n",
    "        dice1 = throw_dice()\n",
    "        dice2 = throw_dice()\n",
    "        count += 1\n",
    "        if dice1 == dice2:\n",
    "            break\n",
    "    return count\n",
    "\n",
    "# Main function\n",
    "def main():\n",
    "    total_throws = []\n",
    "    \n",
    "    for _ in range(100):\n",
    "        total_throws.append(throw_until_doubles())\n",
    "    \n",
    "    total = sum(total_throws)\n",
    "    average = total / 100\n",
    "    \n",
    "    print(f\"Total throws: {total}\")\n",
    "    print(f\"Average throws to reach doubles: {average:.2f}\")\n",
    "\n",
    "# Example usage\n",
    "main()\n"
   ]
  },
  {
   "cell_type": "code",
   "execution_count": null,
   "metadata": {},
   "outputs": [],
   "source": []
  }
 ],
 "metadata": {
  "kernelspec": {
   "display_name": "Python 3",
   "language": "python",
   "name": "python3"
  },
  "language_info": {
   "codemirror_mode": {
    "name": "ipython",
    "version": 3
   },
   "file_extension": ".py",
   "mimetype": "text/x-python",
   "name": "python",
   "nbconvert_exporter": "python",
   "pygments_lexer": "ipython3",
   "version": "3.12.3"
  }
 },
 "nbformat": 4,
 "nbformat_minor": 2
}
