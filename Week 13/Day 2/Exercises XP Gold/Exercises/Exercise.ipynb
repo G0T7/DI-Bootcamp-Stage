{
 "cells": [
  {
   "cell_type": "code",
   "execution_count": null,
   "metadata": {},
   "outputs": [],
   "source": [
    "#Exercise 1: Concatenate Lists\n",
    "list1 = [1, 2, 3]\n",
    "list2 = [4, 5, 6]\n",
    "\n",
    "# Using extend method\n",
    "list1.extend(list2)\n",
    "print(\"Concatenated List:\", list1)\n"
   ]
  },
  {
   "cell_type": "code",
   "execution_count": null,
   "metadata": {},
   "outputs": [],
   "source": [
    "#Exercise 2: Range Of Numbers\n",
    "for num in range(1500, 2501):\n",
    "    if num % 5 == 0 and num % 7 == 0:\n",
    "        print(num)\n"
   ]
  },
  {
   "cell_type": "code",
   "execution_count": null,
   "metadata": {},
   "outputs": [],
   "source": [
    "#Exercise 3: Check The Index\n",
    "names = ['Samus', 'Cortana', 'V', 'Link', 'Mario', 'Cortana', 'Samus']\n",
    "\n",
    "user_name = input(\"Enter your name: \")\n",
    "\n",
    "if user_name in names:\n",
    "    print(f\"The index of the first occurrence of the name '{user_name}' is {names.index(user_name)}\")\n",
    "else:\n",
    "    print(f\"The name '{user_name}' is not in the list.\")\n"
   ]
  },
  {
   "cell_type": "code",
   "execution_count": null,
   "metadata": {},
   "outputs": [],
   "source": [
    "#Exercise 4: Greatest Number\n",
    "num1 = int(input(\"Input the 1st number: \"))\n",
    "num2 = int(input(\"Input the 2nd number: \"))\n",
    "num3 = int(input(\"Input the 3rd number: \"))\n",
    "\n",
    "greatest = max(num1, num2, num3)\n",
    "print(f\"The greatest number is: {greatest}\")\n"
   ]
  },
  {
   "cell_type": "code",
   "execution_count": null,
   "metadata": {},
   "outputs": [],
   "source": [
    "#Exercise 5: The Alphabet\n",
    "alphabet = 'abcdefghijklmnopqrstuvwxyz'\n",
    "vowels = 'aeiou'\n",
    "\n",
    "for letter in alphabet:\n",
    "    if letter in vowels:\n",
    "        print(f\"{letter} is a vowel.\")\n",
    "    else:\n",
    "        print(f\"{letter} is a consonant.\")\n"
   ]
  },
  {
   "cell_type": "code",
   "execution_count": null,
   "metadata": {},
   "outputs": [],
   "source": [
    "#Exercise 6: Words And Letters\n",
    "words = [input(\"Enter a word: \") for _ in range(7)]\n",
    "letter = input(\"Enter a single character: \")\n",
    "\n",
    "for word in words:\n",
    "    if letter in word:\n",
    "        print(f\"The letter '{letter}' first appears in '{word}' at index {word.index(letter)}.\")\n",
    "    else:\n",
    "        print(f\"The letter '{letter}' does not exist in the word '{word}'.\")\n"
   ]
  },
  {
   "cell_type": "code",
   "execution_count": null,
   "metadata": {},
   "outputs": [],
   "source": [
    "#Exercise 7: Min, Max, Sum\n",
    "numbers = list(range(1, 1000001))\n",
    "\n",
    "print(\"Min number:\", min(numbers))\n",
    "print(\"Max number:\", max(numbers))\n",
    "print(\"Sum of numbers:\", sum(numbers))\n"
   ]
  },
  {
   "cell_type": "code",
   "execution_count": null,
   "metadata": {},
   "outputs": [],
   "source": [
    "#Exercise 8: List And Tuple\n",
    "input_numbers = input(\"Enter a sequence of comma-separated numbers: \")\n",
    "number_list = input_numbers.split(',')\n",
    "number_tuple = tuple(number_list)\n",
    "\n",
    "print(\"List:\", number_list)\n",
    "print(\"Tuple:\", number_tuple)\n"
   ]
  },
  {
   "cell_type": "code",
   "execution_count": null,
   "metadata": {},
   "outputs": [],
   "source": [
    "#Exercise 9: Random Number\n",
    "import random\n",
    "\n",
    "wins = 0\n",
    "losses = 0\n",
    "\n",
    "while True:\n",
    "    user_input = input(\"Guess a number between 1 and 9 (or type 'quit' to exit): \")\n",
    "    if user_input.lower() == 'quit':\n",
    "        break\n",
    "    \n",
    "    user_number = int(user_input)\n",
    "    random_number = random.randint(1, 9)\n",
    "    \n",
    "    if user_number == random_number:\n",
    "        print(\"Winner!\")\n",
    "        wins += 1\n",
    "    else:\n",
    "        print(f\"Better luck next time. The correct number was {random_number}.\")\n",
    "        losses += 1\n",
    "\n",
    "print(f\"Total games won: {wins}\")\n",
    "print(f\"Total games lost: {losses}\")\n"
   ]
  }
 ],
 "metadata": {
  "language_info": {
   "name": "python"
  }
 },
 "nbformat": 4,
 "nbformat_minor": 2
}
