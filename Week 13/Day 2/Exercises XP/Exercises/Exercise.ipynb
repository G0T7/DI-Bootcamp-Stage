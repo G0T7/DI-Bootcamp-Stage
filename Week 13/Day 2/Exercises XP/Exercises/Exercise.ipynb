{
 "cells": [
  {
   "cell_type": "code",
   "execution_count": 2,
   "metadata": {},
   "outputs": [
    {
     "name": "stdout",
     "output_type": "stream",
     "text": [
      "False\n",
      "True\n",
      "False\n"
     ]
    },
    {
     "ename": "TypeError",
     "evalue": "'>' not supported between instances of 'str' and 'int'",
     "output_type": "error",
     "traceback": [
      "\u001b[1;31m---------------------------------------------------------------------------\u001b[0m",
      "\u001b[1;31mTypeError\u001b[0m                                 Traceback (most recent call last)",
      "Cell \u001b[1;32mIn[2], line 5\u001b[0m\n\u001b[0;32m      3\u001b[0m \u001b[38;5;28mprint\u001b[39m(\u001b[38;5;241m3\u001b[39m \u001b[38;5;241m==\u001b[39m \u001b[38;5;241m3\u001b[39m)         \u001b[38;5;66;03m# True\u001b[39;00m\n\u001b[0;32m      4\u001b[0m \u001b[38;5;28mprint\u001b[39m(\u001b[38;5;241m3\u001b[39m \u001b[38;5;241m==\u001b[39m \u001b[38;5;124m\"\u001b[39m\u001b[38;5;124m3\u001b[39m\u001b[38;5;124m\"\u001b[39m)       \u001b[38;5;66;03m# False\u001b[39;00m\n\u001b[1;32m----> 5\u001b[0m \u001b[38;5;28mprint\u001b[39m(\u001b[38;5;124;43m\"\u001b[39;49m\u001b[38;5;124;43m3\u001b[39;49m\u001b[38;5;124;43m\"\u001b[39;49m\u001b[43m \u001b[49m\u001b[38;5;241;43m>\u001b[39;49m\u001b[43m \u001b[49m\u001b[38;5;241;43m3\u001b[39;49m)        \u001b[38;5;66;03m# TypeError: '>' not supported between instances of 'str' and 'int'\u001b[39;00m\n\u001b[0;32m      6\u001b[0m \u001b[38;5;28mprint\u001b[39m(\u001b[38;5;124m\"\u001b[39m\u001b[38;5;124mHello\u001b[39m\u001b[38;5;124m\"\u001b[39m \u001b[38;5;241m==\u001b[39m \u001b[38;5;124m\"\u001b[39m\u001b[38;5;124mhello\u001b[39m\u001b[38;5;124m\"\u001b[39m)  \u001b[38;5;66;03m# False\u001b[39;00m\n",
      "\u001b[1;31mTypeError\u001b[0m: '>' not supported between instances of 'str' and 'int'"
     ]
    }
   ],
   "source": [
    "#Exercise 1: Predict Output\n",
    "print(5 < 3)          # False\n",
    "print(3 == 3)         # True\n",
    "print(3 == \"3\")       # False\n",
    "print(\"3\" > 3)        # TypeError: '>' not supported between instances of 'str' and 'int'\n",
    "print(\"Hello\" == \"hello\")  # False\n"
   ]
  },
  {
   "cell_type": "code",
   "execution_count": null,
   "metadata": {},
   "outputs": [
    {
     "name": "stdout",
     "output_type": "stream",
     "text": [
      "My name is John, I am 30 years old, and my shoe size is 10.\n"
     ]
    }
   ],
   "source": [
    "#Exercise 2: Your Information\n",
    "# Define variables\n",
    "name = \"John\"\n",
    "age = 30\n",
    "shoe_size = 10\n",
    "\n",
    "# Create info sentence\n",
    "info = f\"My name is {name}, I am {age} years old, and my shoe size is {shoe_size}.\"\n",
    "\n",
    "# Print the info message\n",
    "print(info)\n"
   ]
  },
  {
   "cell_type": "code",
   "execution_count": 4,
   "metadata": {},
   "outputs": [
    {
     "ename": "ValueError",
     "evalue": "invalid literal for int() with base 10: ''",
     "output_type": "error",
     "traceback": [
      "\u001b[1;31m---------------------------------------------------------------------------\u001b[0m",
      "\u001b[1;31mValueError\u001b[0m                                Traceback (most recent call last)",
      "Cell \u001b[1;32mIn[4], line 3\u001b[0m\n\u001b[0;32m      1\u001b[0m \u001b[38;5;66;03m#Exercise 3: Odd Or Even\u001b[39;00m\n\u001b[0;32m      2\u001b[0m \u001b[38;5;66;03m# Ask for user input\u001b[39;00m\n\u001b[1;32m----> 3\u001b[0m num \u001b[38;5;241m=\u001b[39m \u001b[38;5;28;43mint\u001b[39;49m\u001b[43m(\u001b[49m\u001b[38;5;28;43minput\u001b[39;49m\u001b[43m(\u001b[49m\u001b[38;5;124;43m\"\u001b[39;49m\u001b[38;5;124;43mEnter a number: \u001b[39;49m\u001b[38;5;124;43m\"\u001b[39;49m\u001b[43m)\u001b[49m\u001b[43m)\u001b[49m\n\u001b[0;32m      5\u001b[0m \u001b[38;5;66;03m# Determine if the number is odd or even\u001b[39;00m\n\u001b[0;32m      6\u001b[0m \u001b[38;5;28;01mif\u001b[39;00m num \u001b[38;5;241m%\u001b[39m \u001b[38;5;241m2\u001b[39m \u001b[38;5;241m==\u001b[39m \u001b[38;5;241m0\u001b[39m:\n",
      "\u001b[1;31mValueError\u001b[0m: invalid literal for int() with base 10: ''"
     ]
    }
   ],
   "source": [
    "#Exercise 3: Odd Or Even\n",
    "# Ask for user input\n",
    "num = int(input(\"Enter a number: \"))\n",
    "\n",
    "# Determine if the number is odd or even\n",
    "if num % 2 == 0:\n",
    "    print(f\"{num} is even.\")\n",
    "else:\n",
    "    print(f\"{num} is odd.\")\n"
   ]
  },
  {
   "cell_type": "code",
   "execution_count": null,
   "metadata": {},
   "outputs": [],
   "source": [
    "#Exercise 4: Tall Enough To Ride A Roller Coaster\n",
    "# Ask for user input\n",
    "height_inches = float(input(\"Enter your height in inches: \"))\n",
    "\n",
    "# Convert height to cm\n",
    "height_cm = height_inches * 2.54\n",
    "\n",
    "# Determine if the user is tall enough\n",
    "if height_cm > 145:\n",
    "    print(\"You are tall enough to ride the roller coaster!\")\n",
    "else:\n",
    "    print(\"Sorry, you need to grow some more to ride.\")\n"
   ]
  },
  {
   "cell_type": "code",
   "execution_count": null,
   "metadata": {},
   "outputs": [],
   "source": [
    "#Exercise 5: How Many Characters In A Sentence?\n",
    "# Define the text\n",
    "my_text = \"\"\"Lorem ipsum dolor sit amet, consectetur adipiscing elit, \n",
    "sed do eiusmod tempor incididunt ut labore et dolore magna aliqua. \n",
    "Ut enim ad minim veniam, quis nostrud exercitation ullamco laboris \n",
    "nisi ut aliquip ex ea commodo consequat. Duis aute irure dolor in \n",
    "reprehenderit in voluptate velit esse cillum dolore eu fugiat nulla \n",
    "pariatur. Excepteur sint occaecat cupidatat non proident, sunt in \n",
    "culpa qui officia deserunt mollit anim id est laborum.\"\"\"\n",
    "\n",
    "# Count the number of characters\n",
    "print(len(my_text))\n"
   ]
  },
  {
   "cell_type": "code",
   "execution_count": null,
   "metadata": {},
   "outputs": [],
   "source": [
    "#Exercise 6: Longest Word Without A Specific Character\n",
    "longest_sentence = \"\"\n",
    "\n",
    "print(\"Enter the longest sentence you can without the letter 'A'. Enter 'quit' to exit.\")\n",
    "\n",
    "while True:\n",
    "    sentence = input(\"Enter sentence: \")\n",
    "    if sentence.lower() == \"quit\":\n",
    "        break\n",
    "    if 'a' not in sentence.lower():\n",
    "        if len(sentence) > len(longest_sentence):\n",
    "            longest_sentence = sentence\n",
    "            print(\"Congratulations! You set a new longest sentence without the letter 'A'.\")\n",
    "        else:\n",
    "            print(\"This sentence is not longer than the previous longest sentence without 'A'.\")\n",
    "    else:\n",
    "        print(\"Sorry, your sentence contains the letter 'A'. Try again.\")\n",
    "\n",
    "print(f\"The longest sentence without the letter 'A' entered was: {longest_sentence}\")\n"
   ]
  },
  {
   "cell_type": "code",
   "execution_count": null,
   "metadata": {},
   "outputs": [],
   "source": [
    "#Exercise 7: Set\n",
    "# Create set with favorite numbers\n",
    "my_fav_numbers = {7, 21, 42}\n",
    "\n",
    "# Add two new numbers\n",
    "my_fav_numbers.add(3)\n",
    "my_fav_numbers.add(14)\n",
    "\n",
    "# Remove the last number\n",
    "my_fav_numbers.remove(14)\n",
    "\n",
    "# Create friend's favorite numbers set\n",
    "friend_fav_numbers = {1, 2, 3, 4}\n",
    "\n",
    "# Concatenate both sets\n",
    "our_fav_numbers = my_fav_numbers.union(friend_fav_numbers)\n",
    "\n",
    "print(\"My favorite numbers:\", my_fav_numbers)\n",
    "print(\"Friend's favorite numbers:\", friend_fav_numbers)\n",
    "print(\"Our favorite numbers:\", our_fav_numbers)\n"
   ]
  },
  {
   "cell_type": "code",
   "execution_count": null,
   "metadata": {},
   "outputs": [],
   "source": [
    "#Exercise 8: List\n",
    "# Create the basket list\n",
    "basket = [\"Banana\", \"Apples\", \"Oranges\", \"Blueberries\"]\n",
    "\n",
    "# Perform operations on the list\n",
    "basket.remove(\"Banana\")\n",
    "basket.remove(\"Blueberries\")\n",
    "basket.append(\"Kiwi\")\n",
    "basket.insert(0, \"Apples\")\n",
    "apple_count = basket.count(\"Apples\")\n",
    "basket.clear()\n",
    "\n",
    "# Print the final basket\n",
    "print(\"Basket after operations:\", basket)\n",
    "print(f\"Number of apples in the basket: {apple_count}\")\n"
   ]
  },
  {
   "cell_type": "code",
   "execution_count": null,
   "metadata": {},
   "outputs": [],
   "source": [
    "#Exercise 9: Floats\n",
    "# Floats are numbers with decimal points, while integers are whole numbers.\n",
    "\n",
    "# Generating a sequence of floats\n",
    "float_sequence = [i * 0.5 for i in range(3, 11)]\n",
    "\n",
    "print(\"Sequence of floats:\", float_sequence)\n"
   ]
  },
  {
   "cell_type": "code",
   "execution_count": null,
   "metadata": {},
   "outputs": [],
   "source": [
    "#Exercise 10: For Loop\n",
    "# Print all numbers from 1 to 20\n",
    "print(\"Numbers from 1 to 20:\")\n",
    "for num in range(1, 21):\n",
    "    print(num)\n",
    "\n",
    "# Print elements with even indices from 1 to 20\n",
    "print(\"\\nElements with even indices from 1 to 20:\")\n",
    "for i in range(1, 21):\n",
    "    if i % 2 == 0:\n",
    "        print(i)\n"
   ]
  },
  {
   "cell_type": "code",
   "execution_count": null,
   "metadata": {},
   "outputs": [],
   "source": [
    "#Exercise 11: Cinemax\n",
    "# Ask for the number of family members\n",
    "family_members = int(input(\"How many people are in your family? \"))\n",
    "total_cost = 0\n",
    "\n",
    "# Loop through each family member to get their age and calculate the ticket cost\n",
    "for _ in range(family_members):\n",
    "    age = int(input(\"Enter age: \"))\n",
    "    if age < 3:\n",
    "        ticket_price = 0\n",
    "    elif 3 <= age <= 12:\n",
    "        ticket_price = 10\n",
    "    else:\n",
    "        ticket_price = 15\n",
    "    \n",
    "    total_cost += ticket_price\n",
    "\n",
    "print(f\"Total cost for tickets: ${total_cost}\")\n"
   ]
  },
  {
   "cell_type": "code",
   "execution_count": null,
   "metadata": {},
   "outputs": [],
   "source": [
    "#Exercise 11: Cinemax\n",
    "# List of teenagers\n",
    "teenagers = [\"Alice\", \"Bob\", \"Charlie\", \"David\", \"Eve\"]\n",
    "allowed_names = []\n",
    "\n",
    "# Check each teenager's age and allow or restrict access to the movie\n",
    "for teen in teenagers[:]:  # Use [:] to create a copy of the list to iterate over\n",
    "    age = int(input(f\"Enter age of {teen}: \"))\n",
    "    if 16 <= age <= 21:\n",
    "        allowed_names.append(teen)\n",
    "    else:\n",
    "        teenagers.remove(teen)\n",
    "\n",
    "print(\"Allowed to watch the movie:\", allowed_names)\n"
   ]
  }
 ],
 "metadata": {
  "kernelspec": {
   "display_name": "Python 3",
   "language": "python",
   "name": "python3"
  },
  "language_info": {
   "codemirror_mode": {
    "name": "ipython",
    "version": 3
   },
   "file_extension": ".py",
   "mimetype": "text/x-python",
   "name": "python",
   "nbconvert_exporter": "python",
   "pygments_lexer": "ipython3",
   "version": "3.12.3"
  }
 },
 "nbformat": 4,
 "nbformat_minor": 2
}
