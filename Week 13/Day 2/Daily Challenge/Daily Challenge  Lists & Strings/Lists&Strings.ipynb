{
 "cells": [
  {
   "cell_type": "code",
   "execution_count": null,
   "metadata": {},
   "outputs": [],
   "source": [
    "#Challenge 1\n",
    "def multiples(number, length):\n",
    "    return [number * i for i in range(1, length + 1)]\n",
    "\n",
    "number = int(input(\"Enter a number: \"))\n",
    "length = int(input(\"Enter the length: \"))\n",
    "\n",
    "result = multiples(number, length)\n",
    "print(result)\n",
    "\n",
    "#Output\n",
    "#Enter a number: 7\n",
    "#Enter the length: 5\n",
    "#[7, 14, 21, 28, 35]\n",
    "\n",
    "#Enter a number: 12\n",
    "#Enter the length: 10\n",
    "#[12, 24, 36, 48, 60, 72, 84, 96, 108, 120]\n",
    "\n",
    "#Enter a number: 17\n",
    "#Enter the length: 6\n",
    "#[17, 34, 51, 68, 85, 102]\n"
   ]
  },
  {
   "cell_type": "code",
   "execution_count": null,
   "metadata": {},
   "outputs": [],
   "source": [
    "#Challenge 2\n",
    "def remove_consecutive_duplicates(word):\n",
    "    result = [word[0]] if word else []\n",
    "    \n",
    "    for char in word[1:]:\n",
    "        if char != result[-1]:\n",
    "            result.append(char)\n",
    "    \n",
    "    return ''.join(result)\n",
    "\n",
    "user_word = input(\"Enter a word: \")\n",
    "new_word = remove_consecutive_duplicates(user_word)\n",
    "print(\"New word:\", new_word)\n",
    "\n",
    "#Output\n",
    "#Enter a word: ppoeemm\n",
    "#New word: poem\n",
    "\n",
    "#Enter a word: wiiiinnnnd\n",
    "#New word: wind\n",
    "\n",
    "#Enter a word: tiiitllleeee\n",
    "#New word: title\n",
    "\n",
    "#Enter a word: ccccaaaarrrbbonnnnn\n",
    "#New word: carbon\n"
   ]
  }
 ],
 "metadata": {
  "language_info": {
   "name": "python"
  }
 },
 "nbformat": 4,
 "nbformat_minor": 2
}
