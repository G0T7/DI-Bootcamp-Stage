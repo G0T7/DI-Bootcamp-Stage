{
 "cells": [
  {
   "cell_type": "code",
   "execution_count": 2,
   "metadata": {},
   "outputs": [
    {
     "name": "stdout",
     "output_type": "stream",
     "text": [
      "Hello world\n",
      "Hello world\n",
      "Hello world\n",
      "Hello world\n"
     ]
    }
   ],
   "source": [
    "# Exercise 1: Hello World\n",
    "\n",
    "print(\"Hello world\\nHello world\\nHello world\\nHello world\")\n"
   ]
  },
  {
   "cell_type": "code",
   "execution_count": 3,
   "metadata": {},
   "outputs": [
    {
     "name": "stdout",
     "output_type": "stream",
     "text": [
      "7762392\n"
     ]
    }
   ],
   "source": [
    "# Exercise 2: Some Math\n",
    "\n",
    "result = (99**3) * 8\n",
    "print(result)\n"
   ]
  },
  {
   "cell_type": "code",
   "execution_count": 4,
   "metadata": {},
   "outputs": [
    {
     "name": "stdout",
     "output_type": "stream",
     "text": [
      "False\n",
      "True\n",
      "False\n"
     ]
    },
    {
     "ename": "TypeError",
     "evalue": "'>' not supported between instances of 'str' and 'int'",
     "output_type": "error",
     "traceback": [
      "\u001b[1;31m---------------------------------------------------------------------------\u001b[0m",
      "\u001b[1;31mTypeError\u001b[0m                                 Traceback (most recent call last)",
      "Cell \u001b[1;32mIn[4], line 7\u001b[0m\n\u001b[0;32m      5\u001b[0m \u001b[38;5;28mprint\u001b[39m(\u001b[38;5;241m3\u001b[39m \u001b[38;5;241m==\u001b[39m \u001b[38;5;241m3\u001b[39m)     \u001b[38;5;66;03m# True\u001b[39;00m\n\u001b[0;32m      6\u001b[0m \u001b[38;5;28mprint\u001b[39m(\u001b[38;5;241m3\u001b[39m \u001b[38;5;241m==\u001b[39m \u001b[38;5;124m\"\u001b[39m\u001b[38;5;124m3\u001b[39m\u001b[38;5;124m\"\u001b[39m)   \u001b[38;5;66;03m# False\u001b[39;00m\n\u001b[1;32m----> 7\u001b[0m \u001b[38;5;28mprint\u001b[39m(\u001b[38;5;124;43m\"\u001b[39;49m\u001b[38;5;124;43m3\u001b[39;49m\u001b[38;5;124;43m\"\u001b[39;49m\u001b[43m \u001b[49m\u001b[38;5;241;43m>\u001b[39;49m\u001b[43m \u001b[49m\u001b[38;5;241;43m3\u001b[39;49m)    \u001b[38;5;66;03m# TypeError: '>' not supported between instances of 'str' and 'int'\u001b[39;00m\n\u001b[0;32m      8\u001b[0m \u001b[38;5;28mprint\u001b[39m(\u001b[38;5;124m\"\u001b[39m\u001b[38;5;124mHello\u001b[39m\u001b[38;5;124m\"\u001b[39m \u001b[38;5;241m==\u001b[39m \u001b[38;5;124m\"\u001b[39m\u001b[38;5;124mhello\u001b[39m\u001b[38;5;124m\"\u001b[39m)  \u001b[38;5;66;03m# False\u001b[39;00m\n",
      "\u001b[1;31mTypeError\u001b[0m: '>' not supported between instances of 'str' and 'int'"
     ]
    }
   ],
   "source": [
    "# Exercise 3: What is the output?\n",
    "\n",
    "\n",
    "print(5 < 3)      # False\n",
    "print(3 == 3)     # True\n",
    "print(3 == \"3\")   # False\n",
    "print(\"3\" > 3)    # TypeError: '>' not supported between instances of 'str' and 'int'\n",
    "print(\"Hello\" == \"hello\")  # False\n"
   ]
  },
  {
   "cell_type": "code",
   "execution_count": 5,
   "metadata": {},
   "outputs": [
    {
     "name": "stdout",
     "output_type": "stream",
     "text": [
      "I have a Dell computer\n"
     ]
    }
   ],
   "source": [
    "# Exercise 4: Your computer brand\n",
    "\n",
    "computer_brand = \"Dell\"  # Replace \"Dell\" with your computer's brand\n",
    "print(f\"I have a {computer_brand} computer\")\n"
   ]
  },
  {
   "cell_type": "code",
   "execution_count": 7,
   "metadata": {},
   "outputs": [
    {
     "name": "stdout",
     "output_type": "stream",
     "text": [
      "My name is Alice, I am 30 years old, and my shoe size is 8.\n"
     ]
    }
   ],
   "source": [
    "# Exercise 5: Your information\n",
    "\n",
    "name = \"Alice\"  # Replace \"Alice\" with your name\n",
    "age = 30        # Replace 30 with your age\n",
    "shoe_size = 8   # Replace 8 with your shoe size\n",
    "info = f\"My name is {name}, I am {age} years old, and my shoe size is {shoe_size}.\"\n",
    "print(info)\n"
   ]
  },
  {
   "cell_type": "code",
   "execution_count": 8,
   "metadata": {},
   "outputs": [
    {
     "name": "stdout",
     "output_type": "stream",
     "text": [
      "Hello World\n"
     ]
    }
   ],
   "source": [
    "# Exercise 6: A & B\n",
    "\n",
    "a = 10  # Replace with your number\n",
    "b = 5   # Replace with another number\n",
    "\n",
    "if a > b:\n",
    "    print(\"Hello World\")\n"
   ]
  },
  {
   "cell_type": "code",
   "execution_count": 9,
   "metadata": {},
   "outputs": [
    {
     "name": "stdout",
     "output_type": "stream",
     "text": [
      "The number is even.\n"
     ]
    }
   ],
   "source": [
    "# Exercise 7: Odd or Even\n",
    "\n",
    "number = int(input(\"Enter a number: \"))\n",
    "if number % 2 == 0:\n",
    "    print(\"The number is even.\")\n",
    "else:\n",
    "    print(\"The number is odd.\")\n"
   ]
  },
  {
   "cell_type": "code",
   "execution_count": 10,
   "metadata": {},
   "outputs": [
    {
     "name": "stdout",
     "output_type": "stream",
     "text": [
      "Nice to meet you, fulette!\n"
     ]
    }
   ],
   "source": [
    "# Exercise 8: What’s your name?\n",
    "\n",
    "user_name = input(\"What is your name? \")\n",
    "my_name = \"Alice\"  # Replace \"Alice\" with your name\n",
    "\n",
    "if user_name == my_name:\n",
    "    print(\"Wow, we have the same name!\")\n",
    "else:\n",
    "    print(f\"Nice to meet you, {user_name}!\")\n"
   ]
  },
  {
   "cell_type": "code",
   "execution_count": 11,
   "metadata": {},
   "outputs": [
    {
     "name": "stdout",
     "output_type": "stream",
     "text": [
      "You are tall enough to ride the roller coaster!\n"
     ]
    }
   ],
   "source": [
    "# Exercise 9: Tall enough to ride a roller coaster\n",
    "\n",
    "height = int(input(\"Enter your height in centimeters: \"))\n",
    "\n",
    "if height > 145:\n",
    "    print(\"You are tall enough to ride the roller coaster!\")\n",
    "else:\n",
    "    print(\"You need to grow some more to ride the roller coaster.\")\n"
   ]
  },
  {
   "cell_type": "code",
   "execution_count": null,
   "metadata": {},
   "outputs": [],
   "source": []
  }
 ],
 "metadata": {
  "kernelspec": {
   "display_name": "Python 3",
   "language": "python",
   "name": "python3"
  },
  "language_info": {
   "codemirror_mode": {
    "name": "ipython",
    "version": 3
   },
   "file_extension": ".py",
   "mimetype": "text/x-python",
   "name": "python",
   "nbconvert_exporter": "python",
   "pygments_lexer": "ipython3",
   "version": "3.12.3"
  }
 },
 "nbformat": 4,
 "nbformat_minor": 2
}
