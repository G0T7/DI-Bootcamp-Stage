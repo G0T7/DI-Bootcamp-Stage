{
 "cells": [
  {
   "cell_type": "code",
   "execution_count": 1,
   "metadata": {},
   "outputs": [
    {
     "name": "stdout",
     "output_type": "stream",
     "text": [
      "Hello world\n",
      "Hello world\n",
      "Hello world\n",
      "Hello world\n",
      "I love python\n",
      "I love python\n",
      "I love python\n",
      "I love python\n"
     ]
    }
   ],
   "source": [
    "# Exercise 1: Hello World - I Love Python\n",
    "\n",
    "print(\"Hello world\\nHello world\\nHello world\\nHello world\\nI love python\\nI love python\\nI love python\\nI love python\")\n"
   ]
  },
  {
   "cell_type": "code",
   "execution_count": 1,
   "metadata": {},
   "outputs": [
    {
     "name": "stdout",
     "output_type": "stream",
     "text": [
      "The season is Summer.\n"
     ]
    }
   ],
   "source": [
    "# Exercise 2: What is the Season?\n",
    "\n",
    "month = int(input(\"Enter a month (1 to 12): \"))\n",
    "\n",
    "if 3 <= month <= 5:\n",
    "    season = \"Spring\"\n",
    "elif 6 <= month <= 8:\n",
    "    season = \"Summer\"\n",
    "elif 9 <= month <= 11:\n",
    "    season = \"Autumn\"\n",
    "elif month == 12 or 1 <= month <= 2:\n",
    "    season = \"Winter\"\n",
    "else:\n",
    "    season = \"Invalid month\"\n",
    "\n",
    "print(f\"The season is {season}.\")\n"
   ]
  },
  {
   "cell_type": "code",
   "execution_count": null,
   "metadata": {},
   "outputs": [],
   "source": []
  }
 ],
 "metadata": {
  "kernelspec": {
   "display_name": "Python 3",
   "language": "python",
   "name": "python3"
  },
  "language_info": {
   "codemirror_mode": {
    "name": "ipython",
    "version": 3
   },
   "file_extension": ".py",
   "mimetype": "text/x-python",
   "name": "python",
   "nbconvert_exporter": "python",
   "pygments_lexer": "ipython3",
   "version": "3.12.3"
  }
 },
 "nbformat": 4,
 "nbformat_minor": 2
}
