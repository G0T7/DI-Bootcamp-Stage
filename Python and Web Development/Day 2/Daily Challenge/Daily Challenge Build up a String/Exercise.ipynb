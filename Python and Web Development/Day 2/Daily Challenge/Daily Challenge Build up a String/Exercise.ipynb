{
 "cells": [
  {
   "cell_type": "code",
   "execution_count": 1,
   "metadata": {},
   "outputs": [
    {
     "name": "stdout",
     "output_type": "stream",
     "text": [
      "perfect string\n",
      "First character: h\n",
      "Last character: y\n",
      "h\n",
      "hi\n",
      "hir\n",
      "hiri\n",
      "hirir\n",
      "hirirf\n",
      "hirirfi\n",
      "hirirfig\n",
      "hirirfigr\n",
      "hirirfigry\n",
      "Jumbled string: iryirirfgh\n"
     ]
    }
   ],
   "source": [
    "# Ask the user for a string\n",
    "user_string = input(\"Enter a string (exactly 10 characters long): \")\n",
    "\n",
    "# Check the length of the string and print the appropriate message\n",
    "if len(user_string) < 10:\n",
    "    print(\"string not long enough\")\n",
    "elif len(user_string) > 10:\n",
    "    print(\"string too long\")\n",
    "else:\n",
    "    print(\"perfect string\")\n",
    "\n",
    "    # Print the first and last characters of the string\n",
    "    print(\"First character:\", user_string[0])\n",
    "    print(\"Last character:\", user_string[-1])\n",
    "\n",
    "    # Construct and print the string character by character\n",
    "    for i in range(1, len(user_string) + 1):\n",
    "        print(user_string[:i])\n",
    "\n",
    "    # Bonus: Swap some characters around and print the jumbled string\n",
    "    import random\n",
    "    user_list = list(user_string)  # Convert string to list for shuffling\n",
    "    random.shuffle(user_list)      # Shuffle the list\n",
    "    jumbled_string = ''.join(user_list)  # Convert list back to string\n",
    "    print(\"Jumbled string:\", jumbled_string)\n"
   ]
  }
 ],
 "metadata": {
  "kernelspec": {
   "display_name": "Python 3",
   "language": "python",
   "name": "python3"
  },
  "language_info": {
   "codemirror_mode": {
    "name": "ipython",
    "version": 3
   },
   "file_extension": ".py",
   "mimetype": "text/x-python",
   "name": "python",
   "nbconvert_exporter": "python",
   "pygments_lexer": "ipython3",
   "version": "3.12.3"
  }
 },
 "nbformat": 4,
 "nbformat_minor": 2
}
