{
 "cells": [
  {
   "cell_type": "code",
   "execution_count": 1,
   "metadata": {},
   "outputs": [
    {
     "name": "stdout",
     "output_type": "stream",
     "text": [
      "My favorite numbers: {3, 7, 9, 12}\n",
      "Friend's favorite numbers: {1, 2, 3, 7}\n",
      "Our favorite numbers: {1, 2, 3, 7, 9, 12}\n"
     ]
    }
   ],
   "source": [
    "# Exercise 1: Favorite Numbers\n",
    "\n",
    "# Create a set with favorite numbers\n",
    "my_fav_numbers = {3, 7, 9}\n",
    "\n",
    "# Add two new numbers to the set\n",
    "my_fav_numbers.add(12)\n",
    "my_fav_numbers.add(15)\n",
    "\n",
    "# Remove the last added number (15 in this case)\n",
    "my_fav_numbers.remove(15)\n",
    "\n",
    "# Create a set with a friend's favorite numbers\n",
    "friend_fav_numbers = {1, 2, 3, 7}\n",
    "\n",
    "# Concatenate both sets to a new variable\n",
    "our_fav_numbers = my_fav_numbers.union(friend_fav_numbers)\n",
    "\n",
    "print(\"My favorite numbers:\", my_fav_numbers)\n",
    "print(\"Friend's favorite numbers:\", friend_fav_numbers)\n",
    "print(\"Our favorite numbers:\", our_fav_numbers)\n"
   ]
  },
  {
   "cell_type": "code",
   "execution_count": 2,
   "metadata": {},
   "outputs": [
    {
     "name": "stdout",
     "output_type": "stream",
     "text": [
      "Original tuple: (1, 2, 3, 4, 5)\n",
      "New tuple: (1, 2, 3, 4, 5, 6, 7)\n"
     ]
    }
   ],
   "source": [
    "#  Exercise 2: Tuple\n",
    "\n",
    "# Example tuple\n",
    "my_tuple = (1, 2, 3, 4, 5)\n",
    "\n",
    "# To add more integers, you must create a new tuple\n",
    "new_tuple = my_tuple + (6, 7)\n",
    "\n",
    "print(\"Original tuple:\", my_tuple)\n",
    "print(\"New tuple:\", new_tuple)\n",
    "\n",
    " "
   ]
  },
  {
   "cell_type": "code",
   "execution_count": 3,
   "metadata": {},
   "outputs": [
    {
     "name": "stdout",
     "output_type": "stream",
     "text": [
      "Number of Apples: 2\n",
      "[]\n"
     ]
    }
   ],
   "source": [
    "# Exercise 3: List\n",
    "\n",
    "# Initial list\n",
    "basket = [\"Banana\", \"Apples\", \"Oranges\", \"Blueberries\"]\n",
    "\n",
    "# Remove \"Banana\" and \"Blueberries\"\n",
    "basket.remove(\"Banana\")\n",
    "basket.remove(\"Blueberries\")\n",
    "\n",
    "# Add \"Kiwi\" to the end and \"Apples\" to the beginning\n",
    "basket.append(\"Kiwi\")\n",
    "basket.insert(0, \"Apples\")\n",
    "\n",
    "# Count how many \"Apples\" are in the basket\n",
    "apple_count = basket.count(\"Apples\")\n",
    "print(\"Number of Apples:\", apple_count)\n",
    "\n",
    "# Empty the basket\n",
    "basket.clear()\n",
    "\n",
    "# Print the empty basket\n",
    "print(basket)\n"
   ]
  },
  {
   "cell_type": "code",
   "execution_count": 4,
   "metadata": {},
   "outputs": [
    {
     "name": "stdout",
     "output_type": "stream",
     "text": [
      "Float list: [1.0, 1.5, 2.0, 2.5, 3.0, 3.5, 4.0, 4.5]\n",
      "Float list using numpy: [1.5, 2.0, 2.5, 3.0, 3.5, 4.0, 4.5, 5.0]\n"
     ]
    }
   ],
   "source": [
    "# Exercise 4: Floats\n",
    "\n",
    "# Generate a list of floats using a list comprehension\n",
    "float_list = [x * 0.5 + 1 for x in range(8)]\n",
    "\n",
    "print(\"Float list:\", float_list)\n",
    "\n",
    "# Another way to generate floats\n",
    "import numpy as np\n",
    "float_list_np = np.arange(1.5, 5.5, 0.5).tolist()\n",
    "\n",
    "print(\"Float list using numpy:\", float_list_np)\n"
   ]
  },
  {
   "cell_type": "code",
   "execution_count": 5,
   "metadata": {},
   "outputs": [
    {
     "name": "stdout",
     "output_type": "stream",
     "text": [
      "1\n",
      "2\n",
      "3\n",
      "4\n",
      "5\n",
      "6\n",
      "7\n",
      "8\n",
      "9\n",
      "10\n",
      "11\n",
      "12\n",
      "13\n",
      "14\n",
      "15\n",
      "16\n",
      "17\n",
      "18\n",
      "19\n",
      "20\n",
      "Banana\n",
      "Oranges\n",
      "Kiwi\n",
      "Peach\n",
      "Grapes\n",
      "Lime\n",
      "Strawberry\n",
      "Pineapple\n",
      "Papaya\n",
      "Apricot\n"
     ]
    }
   ],
   "source": [
    "# Exercise 5: For Loop\n",
    "\n",
    "# Print all numbers from 1 to 20\n",
    "for i in range(1, 21):\n",
    "    print(i)\n",
    "\n",
    "# Print every element with an even index\n",
    "basket = [\"Banana\", \"Apples\", \"Oranges\", \"Blueberries\", \"Kiwi\", \"Apples\", \"Peach\", \"Plum\", \"Grapes\", \"Lemon\", \"Lime\", \"Melon\", \"Strawberry\", \"Cherry\", \"Pineapple\", \"Mango\", \"Papaya\", \"Coconut\", \"Apricot\", \"Avocado\"]\n",
    "for i in range(0, len(basket), 2):\n",
    "    print(basket[i])\n"
   ]
  },
  {
   "cell_type": "code",
   "execution_count": 6,
   "metadata": {},
   "outputs": [
    {
     "name": "stdout",
     "output_type": "stream",
     "text": [
      "That's not my name.\n"
     ]
    }
   ],
   "source": [
    "# Exercise 6: While Loop\n",
    "\n",
    "# While loop to ask for name until it matches yours\n",
    "my_name = \"Dave\"\n",
    "while True:\n",
    "    name = input(\"What's your name? \")\n",
    "    if name == my_name:\n",
    "        break\n",
    "    else:\n",
    "        print(\"That's not my name.\")\n"
   ]
  },
  {
   "cell_type": "code",
   "execution_count": 7,
   "metadata": {},
   "outputs": [
    {
     "name": "stdout",
     "output_type": "stream",
     "text": [
      "You chose a new fruit. I hope you enjoy it.\n"
     ]
    }
   ],
   "source": [
    "# Exercise 7: Favorite Fruits\n",
    "\n",
    "# Ask the user for their favorite fruits\n",
    "fruits_input = input(\"Enter your favorite fruits separated by space: \")\n",
    "favorite_fruits = fruits_input.split()\n",
    "\n",
    "# Ask the user for a fruit and check if it's in the list\n",
    "chosen_fruit = input(\"Enter a fruit: \")\n",
    "\n",
    "if chosen_fruit in favorite_fruits:\n",
    "    print(\"You chose one of your favorite fruits! Enjoy!\")\n",
    "else:\n",
    "    print(\"You chose a new fruit. I hope you enjoy it.\")\n"
   ]
  },
  {
   "cell_type": "code",
   "execution_count": 8,
   "metadata": {},
   "outputs": [
    {
     "name": "stdout",
     "output_type": "stream",
     "text": [
      "I'll add cheese to your pizza.\n",
      "I'll add sweet chilli to your pizza.\n",
      "I'll add pepperoni to your pizza.\n",
      "Toppings on your pizza: ['cheese', 'sweet chilli', 'pepperoni']\n",
      "Total price: $ 17.5\n"
     ]
    }
   ],
   "source": [
    "# Exercise 8: Who Ordered a Pizza?\n",
    "\n",
    "# Initialize variables\n",
    "toppings = []\n",
    "total_price = 10\n",
    "\n",
    "while True:\n",
    "    topping = input(\"Enter a pizza topping (or 'quit' to finish): \")\n",
    "    if topping.lower() == 'quit':\n",
    "        break\n",
    "    else:\n",
    "        toppings.append(topping)\n",
    "        print(f\"I'll add {topping} to your pizza.\")\n",
    "\n",
    "# Calculate total price\n",
    "total_price += 2.5 * len(toppings)\n",
    "\n",
    "print(\"Toppings on your pizza:\", toppings)\n",
    "print(\"Total price: $\", total_price)\n"
   ]
  },
  {
   "cell_type": "code",
   "execution_count": 9,
   "metadata": {},
   "outputs": [
    {
     "name": "stdout",
     "output_type": "stream",
     "text": [
      "Total cost for tickets: $ 85\n",
      "Final list of allowed teenagers: []\n"
     ]
    }
   ],
   "source": [
    "# Exercise 9: Cinemax\n",
    "\n",
    "# Ticket prices based on age\n",
    "total_cost = 0\n",
    "ages = []\n",
    "\n",
    "while True:\n",
    "    age = int(input(\"Enter the age of a person in the family (or type 0 to finish): \"))\n",
    "    if age == 0:\n",
    "        break\n",
    "    elif age < 3:\n",
    "        total_cost += 0\n",
    "    elif 3 <= age <= 12:\n",
    "        total_cost += 10\n",
    "    else:\n",
    "        total_cost += 15\n",
    "    ages.append(age)\n",
    "\n",
    "print(\"Total cost for tickets: $\", total_cost)\n",
    "\n",
    "# Teenagers' list\n",
    "teenagers = [\"Alice\", \"Bob\", \"Charlie\", \"David\"]\n",
    "teen_age_list = [int(input(f\"Enter age for {name}: \")) for name in teenagers]\n",
    "\n",
    "# Remove those who can't watch the movie\n",
    "teenagers = [name for i, name in enumerate(teenagers) if 16 <= teen_age_list[i] <= 21]\n",
    "\n",
    "print(\"Final list of allowed teenagers:\", teenagers)\n"
   ]
  },
  {
   "cell_type": "code",
   "execution_count": 10,
   "metadata": {},
   "outputs": [
    {
     "name": "stdout",
     "output_type": "stream",
     "text": [
      "I made your Tuna sandwich\n",
      "I made your Avocado sandwich\n",
      "I made your Egg sandwich\n",
      "I made your Chicken sandwich\n",
      "All finished sandwiches: ['Tuna sandwich', 'Avocado sandwich', 'Egg sandwich', 'Chicken sandwich']\n"
     ]
    }
   ],
   "source": [
    "# Exercise 10: Sandwich Orders\n",
    "\n",
    "# Initial list of orders\n",
    "sandwich_orders = [\"Tuna sandwich\", \"Pastrami sandwich\", \"Avocado sandwich\", \"Pastrami sandwich\", \"Egg sandwich\", \"Chicken sandwich\", \"Pastrami sandwich\"]\n",
    "\n",
    "# Remove all occurrences of \"Pastrami sandwich\"\n",
    "while \"Pastrami sandwich\" in sandwich_orders:\n",
    "    sandwich_orders.remove(\"Pastrami sandwich\")\n",
    "\n",
    "# Prepare the sandwiches\n",
    "finished_sandwiches = []\n",
    "\n",
    "for sandwich in sandwich_orders:\n",
    "    finished_sandwiches.append(sandwich)\n",
    "    print(f\"I made your {sandwich}\")\n",
    "\n",
    "print(\"All finished sandwiches:\", finished_sandwiches)\n",
    "\n"
   ]
  },
  {
   "cell_type": "code",
   "execution_count": null,
   "metadata": {},
   "outputs": [],
   "source": []
  }
 ],
 "metadata": {
  "kernelspec": {
   "display_name": "Python 3",
   "language": "python",
   "name": "python3"
  },
  "language_info": {
   "codemirror_mode": {
    "name": "ipython",
    "version": 3
   },
   "file_extension": ".py",
   "mimetype": "text/x-python",
   "name": "python",
   "nbconvert_exporter": "python",
   "pygments_lexer": "ipython3",
   "version": "3.12.3"
  }
 },
 "nbformat": 4,
 "nbformat_minor": 2
}
