{
 "cells": [
  {
   "cell_type": "code",
   "execution_count": 1,
   "metadata": {},
   "outputs": [
    {
     "name": "stdout",
     "output_type": "stream",
     "text": [
      "Concatenated list: [1, 2, 3, 4, 5, 6]\n"
     ]
    }
   ],
   "source": [
    "# Exercise 1: Concatenate Lists\n",
    "\n",
    "# Define two lists\n",
    "list1 = [1, 2, 3]\n",
    "list2 = [4, 5, 6]\n",
    "\n",
    "# Concatenate the lists without using the + sign\n",
    "concatenated_list = list1.copy()  # Make a copy to avoid modifying the original list\n",
    "concatenated_list.extend(list2)\n",
    "\n",
    "print(\"Concatenated list:\", concatenated_list)\n"
   ]
  },
  {
   "cell_type": "code",
   "execution_count": 2,
   "metadata": {},
   "outputs": [
    {
     "name": "stdout",
     "output_type": "stream",
     "text": [
      "1505\n",
      "1540\n",
      "1575\n",
      "1610\n",
      "1645\n",
      "1680\n",
      "1715\n",
      "1750\n",
      "1785\n",
      "1820\n",
      "1855\n",
      "1890\n",
      "1925\n",
      "1960\n",
      "1995\n",
      "2030\n",
      "2065\n",
      "2100\n",
      "2135\n",
      "2170\n",
      "2205\n",
      "2240\n",
      "2275\n",
      "2310\n",
      "2345\n",
      "2380\n",
      "2415\n",
      "2450\n",
      "2485\n"
     ]
    }
   ],
   "source": [
    "# Exercise 2: Range of Numbers\n",
    "\n",
    "# Loop from 1500 to 2500 and print multiples of 5 and 7\n",
    "for num in range(1500, 2501):\n",
    "    if num % 5 == 0 and num % 7 == 0:\n",
    "        print(num)\n"
   ]
  },
  {
   "cell_type": "code",
   "execution_count": 3,
   "metadata": {},
   "outputs": [
    {
     "name": "stdout",
     "output_type": "stream",
     "text": [
      "Name not found in the list.\n"
     ]
    }
   ],
   "source": [
    "# Exercise 3: Check the Index\n",
    "\n",
    "# List of names\n",
    "names = ['Samus', 'Cortana', 'V', 'Link', 'Mario', 'Cortana', 'Samus']\n",
    "\n",
    "# Ask user for their name\n",
    "user_name = input(\"Enter your name: \")\n",
    "\n",
    "# Check if the name is in the list and print the index of the first occurrence\n",
    "if user_name in names:\n",
    "    print(\"Index of the first occurrence:\", names.index(user_name))\n",
    "else:\n",
    "    print(\"Name not found in the list.\")\n"
   ]
  },
  {
   "cell_type": "code",
   "execution_count": 4,
   "metadata": {},
   "outputs": [
    {
     "name": "stdout",
     "output_type": "stream",
     "text": [
      "The greatest number is: 8.0\n"
     ]
    }
   ],
   "source": [
    "# Exercise 4: Greatest Number\n",
    "\n",
    "# Ask user for 3 numbers\n",
    "num1 = float(input(\"Input the 1st number: \"))\n",
    "num2 = float(input(\"Input the 2nd number: \"))\n",
    "num3 = float(input(\"Input the 3rd number: \"))\n",
    "\n",
    "# Find and print the greatest number\n",
    "greatest_num = max(num1, num2, num3)\n",
    "print(\"The greatest number is:\", greatest_num)\n"
   ]
  },
  {
   "cell_type": "code",
   "execution_count": 5,
   "metadata": {},
   "outputs": [
    {
     "name": "stdout",
     "output_type": "stream",
     "text": [
      "a is a vowel\n",
      "b is a consonant\n",
      "c is a consonant\n",
      "d is a consonant\n",
      "e is a vowel\n",
      "f is a consonant\n",
      "g is a consonant\n",
      "h is a consonant\n",
      "i is a vowel\n",
      "j is a consonant\n",
      "k is a consonant\n",
      "l is a consonant\n",
      "m is a consonant\n",
      "n is a consonant\n",
      "o is a vowel\n",
      "p is a consonant\n",
      "q is a consonant\n",
      "r is a consonant\n",
      "s is a consonant\n",
      "t is a consonant\n",
      "u is a vowel\n",
      "v is a consonant\n",
      "w is a consonant\n",
      "x is a consonant\n",
      "y is a consonant\n",
      "z is a consonant\n"
     ]
    }
   ],
   "source": [
    "# Exercise 5: The Alphabet\n",
    "\n",
    "# String of all letters in the alphabet\n",
    "import string\n",
    "alphabet = string.ascii_lowercase\n",
    "\n",
    "# Loop over each letter and print whether it's a vowel or a consonant\n",
    "vowels = \"aeiou\"\n",
    "\n",
    "for letter in alphabet:\n",
    "    if letter in vowels:\n",
    "        print(f\"{letter} is a vowel\")\n",
    "    else:\n",
    "        print(f\"{letter} is a consonant\")\n"
   ]
  },
  {
   "cell_type": "code",
   "execution_count": 6,
   "metadata": {},
   "outputs": [
    {
     "name": "stdout",
     "output_type": "stream",
     "text": [
      "The letter 'jeffrey' does not exist in the word 'pont'\n",
      "The letter 'jeffrey' does not exist in the word 'well'\n",
      "The letter 'jeffrey' does not exist in the word 'not'\n",
      "The letter 'jeffrey' does not exist in the word 'in'\n",
      "The letter 'jeffrey' does not exist in the word 'home'\n",
      "The letter 'jeffrey' does not exist in the word 'right'\n",
      "The letter 'jeffrey' does not exist in the word 'here'\n"
     ]
    }
   ],
   "source": [
    "# Exercise 6: Words and Letters\n",
    "\n",
    "# Ask the user for 7 words\n",
    "words = [input(f\"Enter word {i + 1}: \") for i in range(7)]\n",
    "\n",
    "# Ask the user for a single character\n",
    "letter = input(\"Enter a single character: \")\n",
    "\n",
    "# Loop through the words and find the index of the letter\n",
    "for word in words:\n",
    "    if letter in word:\n",
    "        print(f\"The letter '{letter}' appears in the word '{word}' at index {word.index(letter)}\")\n",
    "    else:\n",
    "        print(f\"The letter '{letter}' does not exist in the word '{word}'\")\n"
   ]
  },
  {
   "cell_type": "code",
   "execution_count": 7,
   "metadata": {},
   "outputs": [
    {
     "name": "stdout",
     "output_type": "stream",
     "text": [
      "Minimum number: 1\n",
      "Maximum number: 1000000\n",
      "Sum of all numbers: 500000500000\n"
     ]
    }
   ],
   "source": [
    "# Exercise 7: Min, Max, Sum\n",
    "\n",
    "# Create a list of numbers from 1 to 1 million\n",
    "numbers = list(range(1, 1000001))\n",
    "\n",
    "# Check min and max\n",
    "print(\"Minimum number:\", min(numbers))\n",
    "print(\"Maximum number:\", max(numbers))\n",
    "\n",
    "# Calculate the sum\n",
    "total_sum = sum(numbers)\n",
    "print(\"Sum of all numbers:\", total_sum)\n"
   ]
  },
  {
   "cell_type": "code",
   "execution_count": 8,
   "metadata": {},
   "outputs": [
    {
     "name": "stdout",
     "output_type": "stream",
     "text": [
      "List: ['1', '2']\n",
      "Tuple: ('1', '2')\n"
     ]
    }
   ],
   "source": [
    "# Exercise 8: List and Tuple\n",
    "\n",
    "# Get comma-separated input from the user\n",
    "input_numbers = input(\"Enter comma-separated numbers: \")\n",
    "\n",
    "# Generate a list and a tuple from the input\n",
    "number_list = input_numbers.split(',')\n",
    "number_tuple = tuple(number_list)\n",
    "\n",
    "print(\"List:\", number_list)\n",
    "print(\"Tuple:\", number_tuple)\n"
   ]
  },
  {
   "cell_type": "code",
   "execution_count": 9,
   "metadata": {},
   "outputs": [
    {
     "name": "stdout",
     "output_type": "stream",
     "text": [
      "Better luck next time. The correct number was 4.\n",
      "Better luck next time. The correct number was 6.\n",
      "Total games won: 0\n",
      "Total games lost: 2\n"
     ]
    }
   ],
   "source": [
    "# Exercise 9: Random Number\n",
    "\n",
    "import random\n",
    "\n",
    "# Function to play the guessing game\n",
    "def play_game():\n",
    "    total_wins = 0\n",
    "    total_losses = 0\n",
    "\n",
    "    while True:\n",
    "        # Ask the user for a number\n",
    "        user_guess = int(input(\"Guess a number from 1 to 9: \"))\n",
    "        \n",
    "        # Generate a random number\n",
    "        random_number = random.randint(1, 9)\n",
    "\n",
    "        if user_guess == random_number:\n",
    "            print(\"Winner!\")\n",
    "            total_wins += 1\n",
    "        else:\n",
    "            print(f\"Better luck next time. The correct number was {random_number}.\")\n",
    "            total_losses += 1\n",
    "\n",
    "        # Ask if they want to play again\n",
    "        play_again = input(\"Do you want to play again? (yes/no): \").strip().lower()\n",
    "        if play_again != 'yes':\n",
    "            break\n",
    "\n",
    "    print(f\"Total games won: {total_wins}\")\n",
    "    print(f\"Total games lost: {total_losses}\")\n",
    "\n",
    "# Run the game\n",
    "play_game()\n"
   ]
  }
 ],
 "metadata": {
  "kernelspec": {
   "display_name": "Python 3",
   "language": "python",
   "name": "python3"
  },
  "language_info": {
   "codemirror_mode": {
    "name": "ipython",
    "version": 3
   },
   "file_extension": ".py",
   "mimetype": "text/x-python",
   "name": "python",
   "nbconvert_exporter": "python",
   "pygments_lexer": "ipython3",
   "version": "3.12.3"
  }
 },
 "nbformat": 4,
 "nbformat_minor": 2
}
