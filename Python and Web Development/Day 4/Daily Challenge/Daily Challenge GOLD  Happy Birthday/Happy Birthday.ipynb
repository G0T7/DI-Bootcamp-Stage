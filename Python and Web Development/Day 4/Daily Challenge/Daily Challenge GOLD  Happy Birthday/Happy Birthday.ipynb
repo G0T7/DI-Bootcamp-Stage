{
 "cells": [
  {
   "cell_type": "code",
   "execution_count": 1,
   "metadata": {},
   "outputs": [
    {
     "name": "stdout",
     "output_type": "stream",
     "text": [
      "       ___iiiiii___\n",
      "      |:H:a:p:p:y:|\n",
      "    __|___________|__\n",
      "   |^^^^^^^^^^^^^^^^^|\n",
      "   |:B:i:r:t:h:d:a:y:|\n",
      "   |                 |\n",
      "   ~~~~~~~~~~~~~~~~~~~\n"
     ]
    }
   ],
   "source": [
    "from datetime import datetime\n",
    "\n",
    "def is_leap_year(year):\n",
    "    return year % 4 == 0 and (year % 100 != 0 or year % 400 == 0)\n",
    "\n",
    "def display_cake(candles):\n",
    "    top_candles = 'i' * candles\n",
    "    print(f\"       ___{top_candles}___\")\n",
    "    print(\"      |:H:a:p:p:y:|\")\n",
    "    print(\"    __|___________|__\")\n",
    "    print(\"   |^^^^^^^^^^^^^^^^^|\")\n",
    "    print(\"   |:B:i:r:t:h:d:a:y:|\")\n",
    "    print(\"   |                 |\")\n",
    "    print(\"   ~~~~~~~~~~~~~~~~~~~\")\n",
    "\n",
    "def main():\n",
    "    birthdate_str = input(\"Enter your birthdate (DD/MM/YYYY): \")\n",
    "    birthdate = datetime.strptime(birthdate_str, \"%d/%m/%Y\")\n",
    "    today = datetime.today()\n",
    "    \n",
    "    age = today.year - birthdate.year - ((today.month, today.day) < (birthdate.month, birthdate.day))\n",
    "    candles = age % 10\n",
    "    \n",
    "    if is_leap_year(birthdate.year):\n",
    "        print(\"You were born in a leap year, so you get two cakes!\")\n",
    "        display_cake(candles)\n",
    "        print()\n",
    "        display_cake(candles)\n",
    "    else:\n",
    "        display_cake(candles)\n",
    "\n",
    "if __name__ == \"__main__\":\n",
    "    main()\n"
   ]
  }
 ],
 "metadata": {
  "kernelspec": {
   "display_name": "Python 3",
   "language": "python",
   "name": "python3"
  },
  "language_info": {
   "codemirror_mode": {
    "name": "ipython",
    "version": 3
   },
   "file_extension": ".py",
   "mimetype": "text/x-python",
   "name": "python",
   "nbconvert_exporter": "python",
   "pygments_lexer": "ipython3",
   "version": "3.12.3"
  }
 },
 "nbformat": 4,
 "nbformat_minor": 2
}
