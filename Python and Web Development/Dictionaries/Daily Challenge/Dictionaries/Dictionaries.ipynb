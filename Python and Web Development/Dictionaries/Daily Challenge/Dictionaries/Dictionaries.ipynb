{
 "cells": [
  {
   "cell_type": "code",
   "execution_count": 1,
   "metadata": {},
   "outputs": [
    {
     "name": "stdout",
     "output_type": "stream",
     "text": [
      "{'d': [0, 2], 'o': [1, 3]}\n",
      "{'f': [0], 'r': [1], 'o': [2], 'g': [3, 4], 'y': [5]}\n",
      "{'g': [0], 'r': [1], 'a': [2], 'p': [3], 'e': [4], 's': [5]}\n"
     ]
    }
   ],
   "source": [
    "#Challenge 1: Create a Dictionary of Letter Indexes\n",
    "def letter_indexes(word):\n",
    "    index_dict = {}\n",
    "    for idx, letter in enumerate(word):\n",
    "        if letter in index_dict:\n",
    "            index_dict[letter].append(idx)\n",
    "        else:\n",
    "            index_dict[letter] = [idx]\n",
    "    return index_dict\n",
    "\n",
    "# Test cases\n",
    "word1 = \"dodo\"\n",
    "word2 = \"froggy\"\n",
    "word3 = \"grapes\"\n",
    "\n",
    "print(letter_indexes(word1))  # Output: {'d': [0, 2], 'o': [1, 3]}\n",
    "print(letter_indexes(word2))  # Output: {'f': [0], 'r': [1], 'o': [2], 'g': [3, 4], 'y': [5]}\n",
    "print(letter_indexes(word3))  # Output: {'g': [0], 'r': [1], 'a': [2], 'p': [3]}\n"
   ]
  },
  {
   "cell_type": "code",
   "execution_count": 2,
   "metadata": {},
   "outputs": [
    {
     "name": "stdout",
     "output_type": "stream",
     "text": [
      "['Bread', 'Fertilizer', 'Water']\n",
      "['Apple', 'Bananas', 'Fan', 'Honey', 'Spoon']\n",
      "Nothing\n"
     ]
    }
   ],
   "source": [
    "#Challenge 2: Determine Affordability of Items\n",
    "def affordable_items(items_purchase, wallet):\n",
    "    # Convert wallet amount from string to integer\n",
    "    wallet_amount = int(wallet.replace('$', '').replace(',', ''))\n",
    "    \n",
    "    affordable_items_list = []\n",
    "    for item, price_str in sorted(items_purchase.items()):\n",
    "        # Convert item price from string to integer\n",
    "        item_price = int(price_str.replace('$', '').replace(',', ''))\n",
    "        \n",
    "        if wallet_amount >= item_price:\n",
    "            affordable_items_list.append(item)\n",
    "            wallet_amount -= item_price  # Deduct item price from wallet amount\n",
    "    \n",
    "    if affordable_items_list:\n",
    "        return affordable_items_list\n",
    "    else:\n",
    "        return \"Nothing\"\n",
    "\n",
    "# Test cases\n",
    "items1 = {\n",
    "    \"Water\": \"$1\",\n",
    "    \"Bread\": \"$3\",\n",
    "    \"TV\": \"$1,000\",\n",
    "    \"Fertilizer\": \"$20\"\n",
    "}\n",
    "wallet1 = \"$300\"\n",
    "\n",
    "items2 = {\n",
    "    \"Apple\": \"$4\",\n",
    "    \"Honey\": \"$3\",\n",
    "    \"Fan\": \"$14\",\n",
    "    \"Bananas\": \"$4\",\n",
    "    \"Pan\": \"$100\",\n",
    "    \"Spoon\": \"$2\"\n",
    "}\n",
    "wallet2 = \"$100\"\n",
    "\n",
    "items3 = {\n",
    "    \"Phone\": \"$999\",\n",
    "    \"Speakers\": \"$300\",\n",
    "    \"Laptop\": \"$5,000\",\n",
    "    \"PC\": \"$1200\"\n",
    "}\n",
    "wallet3 = \"$1\"\n",
    "\n",
    "print(affordable_items(items1, wallet1))  # Output: ['Bread', 'Fertilizer', 'Water']\n",
    "print(affordable_items(items2, wallet2))  # Output: ['Apple', 'Bananas', 'Fan', 'Honey', 'Spoon']\n",
    "print(affordable_items(items3, wallet3))  # Output: 'Nothing'\n"
   ]
  }
 ],
 "metadata": {
  "kernelspec": {
   "display_name": "Python 3",
   "language": "python",
   "name": "python3"
  },
  "language_info": {
   "codemirror_mode": {
    "name": "ipython",
    "version": 3
   },
   "file_extension": ".py",
   "mimetype": "text/x-python",
   "name": "python",
   "nbconvert_exporter": "python",
   "pygments_lexer": "ipython3",
   "version": "3.12.3"
  }
 },
 "nbformat": 4,
 "nbformat_minor": 2
}
