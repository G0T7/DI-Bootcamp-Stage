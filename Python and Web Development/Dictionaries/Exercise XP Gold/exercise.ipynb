{
 "cells": [
  {
   "cell_type": "code",
   "execution_count": 1,
   "metadata": {},
   "outputs": [
    {
     "name": "stdout",
     "output_type": "stream",
     "text": [
      "Welcome! You can look up the birthdays of the people in the list!\n",
      "Dana's birthday is on 1988/07/30.\n"
     ]
    }
   ],
   "source": [
    "# Exercise 1: Birthday Look-up\n",
    "\n",
    "# Initialize the dictionary with birthdays\n",
    "birthdays = {\n",
    "    \"Alice\": \"1990/05/15\",\n",
    "    \"Bob\": \"1985/09/23\",\n",
    "    \"Charlie\": \"1992/12/01\",\n",
    "    \"Dana\": \"1988/07/30\",\n",
    "    \"Eli\": \"1994/11/11\"\n",
    "}\n",
    "\n",
    "# Welcome message\n",
    "print(\"Welcome! You can look up the birthdays of the people in the list!\")\n",
    "\n",
    "# Get user input\n",
    "name = input(\"Enter the name of the person whose birthday you want to look up: \")\n",
    "\n",
    "# Get and print the birthday\n",
    "birthday = birthdays.get(name)\n",
    "if birthday:\n",
    "    print(f\"{name}'s birthday is on {birthday}.\")\n",
    "else:\n",
    "    print(\"Sorry, we don't have the birthday information for\", name)\n"
   ]
  },
  {
   "cell_type": "code",
   "execution_count": 2,
   "metadata": {},
   "outputs": [
    {
     "name": "stdout",
     "output_type": "stream",
     "text": [
      "Available names: Alice, Bob, Charlie, Dana, Eli\n",
      "Sorry, we don't have the birthday information for bob.\n"
     ]
    }
   ],
   "source": [
    "# Exercise 2: Birthdays Advanced\n",
    "\n",
    "# Initialize the dictionary with birthdays\n",
    "birthdays = {\n",
    "    \"Alice\": \"1990/05/15\",\n",
    "    \"Bob\": \"1985/09/23\",\n",
    "    \"Charlie\": \"1992/12/01\",\n",
    "    \"Dana\": \"1988/07/30\",\n",
    "    \"Eli\": \"1994/11/11\"\n",
    "}\n",
    "\n",
    "# Print all names\n",
    "print(\"Available names:\", \", \".join(birthdays.keys()))\n",
    "\n",
    "# Get user input\n",
    "name = input(\"Enter the name of the person whose birthday you want to look up: \")\n",
    "\n",
    "# Get and print the birthday\n",
    "birthday = birthdays.get(name)\n",
    "if birthday:\n",
    "    print(f\"{name}'s birthday is on {birthday}.\")\n",
    "else:\n",
    "    print(f\"Sorry, we don't have the birthday information for {name}.\")\n"
   ]
  },
  {
   "cell_type": "code",
   "execution_count": 3,
   "metadata": {},
   "outputs": [
    {
     "name": "stdout",
     "output_type": "stream",
     "text": [
      "Available names: Alice, Bob, Charlie, Dana, Eli, Neel\n",
      "Sorry, we don't have the birthday information for .\n"
     ]
    }
   ],
   "source": [
    "# Exercise 3: Add Your Own Birthday\n",
    "\n",
    "# Initialize the dictionary with birthdays\n",
    "birthdays = {\n",
    "    \"Alice\": \"1990/05/15\",\n",
    "    \"Bob\": \"1985/09/23\",\n",
    "    \"Charlie\": \"1992/12/01\",\n",
    "    \"Dana\": \"1988/07/30\",\n",
    "    \"Eli\": \"1994/11/11\"\n",
    "}\n",
    "\n",
    "# Add a new birthday\n",
    "new_name = input(\"Enter the name of the new person: \")\n",
    "new_birthday = input(\"Enter the birthday of the new person (YYYY/MM/DD): \")\n",
    "birthdays[new_name] = new_birthday\n",
    "\n",
    "# Print all names\n",
    "print(\"Available names:\", \", \".join(birthdays.keys()))\n",
    "\n",
    "# Get user input\n",
    "name = input(\"Enter the name of the person whose birthday you want to look up: \")\n",
    "\n",
    "# Get and print the birthday\n",
    "birthday = birthdays.get(name)\n",
    "if birthday:\n",
    "    print(f\"{name}'s birthday is on {birthday}.\")\n",
    "else:\n",
    "    print(f\"Sorry, we don't have the birthday information for {name}.\")\n"
   ]
  },
  {
   "cell_type": "code",
   "execution_count": 4,
   "metadata": {},
   "outputs": [
    {
     "name": "stdout",
     "output_type": "stream",
     "text": [
      "Item prices:\n",
      "The price of banana is $4.\n",
      "The price of apple is $2.\n",
      "The price of orange is $1.5.\n",
      "The price of pear is $3.\n",
      "Total cost to buy everything in stock: $89.00\n"
     ]
    }
   ],
   "source": [
    "# Exercise 4: Fruit Shop\n",
    "\n",
    "# Print all items and their prices\n",
    "items = {\n",
    "    \"banana\": 4,\n",
    "    \"apple\": 2,\n",
    "    \"orange\": 1.5,\n",
    "    \"pear\": 3\n",
    "}\n",
    "\n",
    "print(\"Item prices:\")\n",
    "for item, price in items.items():\n",
    "    print(f\"The price of {item} is ${price}.\")\n",
    "\n",
    "# Calculate the cost to buy everything in stock\n",
    "items_stock = {\n",
    "    \"banana\": {\"price\": 4 , \"stock\": 10},\n",
    "    \"apple\": {\"price\": 2, \"stock\": 5},\n",
    "    \"orange\": {\"price\": 1.5 , \"stock\": 24},\n",
    "    \"pear\": {\"price\": 3 , \"stock\": 1}\n",
    "}\n",
    "\n",
    "total_cost = 0\n",
    "for item, info in items_stock.items():\n",
    "    cost = info[\"price\"] * info[\"stock\"]\n",
    "    total_cost += cost\n",
    "\n",
    "print(f\"Total cost to buy everything in stock: ${total_cost:.2f}\")\n"
   ]
  }
 ],
 "metadata": {
  "kernelspec": {
   "display_name": "Python 3",
   "language": "python",
   "name": "python3"
  },
  "language_info": {
   "codemirror_mode": {
    "name": "ipython",
    "version": 3
   },
   "file_extension": ".py",
   "mimetype": "text/x-python",
   "name": "python",
   "nbconvert_exporter": "python",
   "pygments_lexer": "ipython3",
   "version": "3.12.3"
  }
 },
 "nbformat": 4,
 "nbformat_minor": 2
}
