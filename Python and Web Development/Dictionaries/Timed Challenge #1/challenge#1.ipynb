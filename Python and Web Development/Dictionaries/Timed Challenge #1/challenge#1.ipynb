{
 "cells": [
  {
   "cell_type": "code",
   "execution_count": 1,
   "metadata": {},
   "outputs": [
    {
     "name": "stdout",
     "output_type": "stream",
     "text": [
      "10\n"
     ]
    }
   ],
   "source": [
    "# Input the sentence\n",
    "reverse_input = input()\n",
    "\n",
    "# Split the sentence into words\n",
    "words = reverse_input.split()\n",
    "\n",
    "# Reverse the list of words\n",
    "reversed_words = words[::-1]\n",
    "\n",
    "# Join the reversed list into a single string\n",
    "reversed_sentence = ' '.join(reversed_words)\n",
    "\n",
    "# Print the reversed sentence\n",
    "print(reversed_sentence)\n"
   ]
  }
 ],
 "metadata": {
  "kernelspec": {
   "display_name": "Python 3",
   "language": "python",
   "name": "python3"
  },
  "language_info": {
   "codemirror_mode": {
    "name": "ipython",
    "version": 3
   },
   "file_extension": ".py",
   "mimetype": "text/x-python",
   "name": "python",
   "nbconvert_exporter": "python",
   "pygments_lexer": "ipython3",
   "version": "3.12.3"
  }
 },
 "nbformat": 4,
 "nbformat_minor": 2
}
