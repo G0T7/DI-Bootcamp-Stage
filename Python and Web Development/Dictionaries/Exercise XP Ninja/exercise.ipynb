{
 "cells": [
  {
   "cell_type": "code",
   "execution_count": 1,
   "metadata": {},
   "outputs": [
    {
     "name": "stdout",
     "output_type": "stream",
     "text": [
      "There are 5 manufacturers in the list.\n",
      "Manufacturers in reverse order: ['Volkswagen', 'Toyota', 'Honda', 'Ford Motor', 'Chevrolet']\n",
      "Number of manufacturers with 'o': 5\n",
      "Number of manufacturers without 'i': 5\n",
      "Unique manufacturers: ['Toyota', 'Volkswagen', 'Ford Motor', 'Honda', 'Chevrolet']\n",
      "There are 5 unique manufacturers.\n",
      "Unique manufacturers (comma-separated): Toyota, Volkswagen, Ford Motor, Honda, Chevrolet\n",
      "Manufacturers in ascending order with names reversed: ['telorvehC', 'rotoM droF', 'adnoH', 'atoyoT', 'negawskloV']\n"
     ]
    }
   ],
   "source": [
    "# Exercise 1: Cars\n",
    "\n",
    "# Initial string of car manufacturers\n",
    "car_string = \"Volkswagen, Toyota, Ford Motor, Honda, Chevrolet\"\n",
    "\n",
    "# Convert the string into a list\n",
    "car_list = car_string.split(\", \")\n",
    "\n",
    "# Print the number of manufacturers\n",
    "print(f\"There are {len(car_list)} manufacturers in the list.\")\n",
    "\n",
    "# Print the list in reverse (Z-A)\n",
    "reversed_list = sorted(car_list, reverse=True)\n",
    "print(\"Manufacturers in reverse order:\", reversed_list)\n",
    "\n",
    "# Count how many names contain the letter 'o'\n",
    "count_o = sum('o' in manufacturer for manufacturer in car_list)\n",
    "print(f\"Number of manufacturers with 'o': {count_o}\")\n",
    "\n",
    "# Count how many names do not contain the letter 'i'\n",
    "count_no_i = sum('i' not in manufacturer for manufacturer in car_list)\n",
    "print(f\"Number of manufacturers without 'i': {count_no_i}\")\n",
    "\n",
    "# Bonus: Remove duplicates and print the unique list\n",
    "unique_car_list = list(set(car_list))\n",
    "print(\"Unique manufacturers:\", unique_car_list)\n",
    "print(f\"There are {len(unique_car_list)} unique manufacturers.\")\n",
    "\n",
    "# Print the unique list in a comma-separated string\n",
    "unique_car_string = \", \".join(unique_car_list)\n",
    "print(\"Unique manufacturers (comma-separated):\", unique_car_string)\n",
    "\n",
    "# Bonus: Print the list of manufacturers in ascending order with names reversed\n",
    "sorted_list_reversed_names = sorted(unique_car_list)\n",
    "reversed_names_list = [manufacturer[::-1] for manufacturer in sorted_list_reversed_names]\n",
    "print(\"Manufacturers in ascending order with names reversed:\", reversed_names_list)\n"
   ]
  },
  {
   "cell_type": "code",
   "execution_count": null,
   "metadata": {},
   "outputs": [],
   "source": []
  }
 ],
 "metadata": {
  "kernelspec": {
   "display_name": "Python 3",
   "language": "python",
   "name": "python3"
  },
  "language_info": {
   "codemirror_mode": {
    "name": "ipython",
    "version": 3
   },
   "file_extension": ".py",
   "mimetype": "text/x-python",
   "name": "python",
   "nbconvert_exporter": "python",
   "pygments_lexer": "ipython3",
   "version": "3.12.3"
  }
 },
 "nbformat": 4,
 "nbformat_minor": 2
}
