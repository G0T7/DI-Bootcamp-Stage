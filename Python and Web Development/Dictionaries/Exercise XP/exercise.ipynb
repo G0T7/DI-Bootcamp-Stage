{
 "cells": [
  {
   "cell_type": "code",
   "execution_count": 1,
   "metadata": {},
   "outputs": [
    {
     "name": "stdout",
     "output_type": "stream",
     "text": [
      "{'Ten': 10, 'Twenty': 20, 'Thirty': 30}\n"
     ]
    }
   ],
   "source": [
    "# Exercise 1: Convert Lists into Dictionaries\n",
    "\n",
    "# Given lists\n",
    "keys = ['Ten', 'Twenty', 'Thirty']\n",
    "values = [10, 20, 30]\n",
    "\n",
    "# Convert lists into a dictionary using zip\n",
    "dictionary = dict(zip(keys, values))\n",
    "\n",
    "print(dictionary)\n"
   ]
  },
  {
   "cell_type": "code",
   "execution_count": 2,
   "metadata": {},
   "outputs": [
    {
     "name": "stdout",
     "output_type": "stream",
     "text": [
      "Rick has to pay $15\n",
      "Beth has to pay $15\n",
      "Morty has to pay $10\n",
      "Summer has to pay $10\n",
      "Total cost for the movies: $50\n",
      "Brook has to pay $10\n",
      "Bepo has to pay $10\n",
      "Total cost for the movies: $20\n"
     ]
    }
   ],
   "source": [
    "# Exercise 2: Cinemax #2\n",
    "\n",
    "# Given family dictionary\n",
    "family = {\"rick\": 43, 'beth': 13, 'morty': 5, 'summer': 8}\n",
    "\n",
    "# Function to calculate ticket price based on age\n",
    "def calculate_ticket_price(age):\n",
    "    if age < 3:\n",
    "        return 0\n",
    "    elif 3 <= age <= 12:\n",
    "        return 10\n",
    "    else:\n",
    "        return 15\n",
    "\n",
    "# Calculate total cost\n",
    "total_cost = 0\n",
    "for name, age in family.items():\n",
    "    price = calculate_ticket_price(age)\n",
    "    print(f\"{name.capitalize()} has to pay ${price}\")\n",
    "    total_cost += price\n",
    "\n",
    "print(f\"Total cost for the movies: ${total_cost}\")\n",
    "\n",
    "# Bonus: Ask user for names and ages\n",
    "family = {}\n",
    "num_members = int(input(\"How many family members? \"))\n",
    "for _ in range(num_members):\n",
    "    name = input(\"Enter name: \")\n",
    "    age = int(input(\"Enter age: \"))\n",
    "    family[name] = age\n",
    "\n",
    "# Calculate and print costs for new family\n",
    "total_cost = 0\n",
    "for name, age in family.items():\n",
    "    price = calculate_ticket_price(age)\n",
    "    print(f\"{name.capitalize()} has to pay ${price}\")\n",
    "    total_cost += price\n",
    "\n",
    "print(f\"Total cost for the movies: ${total_cost}\")\n"
   ]
  },
  {
   "cell_type": "code",
   "execution_count": 3,
   "metadata": {},
   "outputs": [
    {
     "name": "stdout",
     "output_type": "stream",
     "text": [
      "Zara's clients are those who are interested in men, women, children, home.\n",
      "Last international competitor: Desigual\n",
      "Major clothes colors in the US: pink, green\n",
      "Number of key-value pairs: 7\n",
      "Keys of the dictionary: ['name', 'creator_name', 'type_of_clothes', 'international_competitors', 'number_stores', 'major_color', 'country_creation']\n",
      "Number of stores after update: 10000\n"
     ]
    }
   ],
   "source": [
    "# Exercise 3: Zara\n",
    "\n",
    "# Create the brand dictionary\n",
    "brand = {\n",
    "    \"name\": \"Zara\",\n",
    "    \"creation_date\": 1975,\n",
    "    \"creator_name\": \"Amancio Ortega Gaona\",\n",
    "    \"type_of_clothes\": [\"men\", \"women\", \"children\", \"home\"],\n",
    "    \"international_competitors\": [\"Gap\", \"H&M\", \"Benetton\"],\n",
    "    \"number_stores\": 7000,\n",
    "    \"major_color\": {\n",
    "        \"France\": [\"blue\"],\n",
    "        \"Spain\": [\"red\"],\n",
    "        \"US\": [\"pink\", \"green\"]\n",
    "    }\n",
    "}\n",
    "\n",
    "# 3. Change the number of stores to 2\n",
    "brand[\"number_stores\"] = 2\n",
    "\n",
    "# 4. Print a sentence about Zara's clients\n",
    "print(f\"Zara's clients are those who are interested in {', '.join(brand['type_of_clothes'])}.\")\n",
    "\n",
    "# 5. Add country_creation key\n",
    "brand[\"country_creation\"] = \"Spain\"\n",
    "\n",
    "# 6. Check if international_competitors key is in the dictionary\n",
    "if \"international_competitors\" in brand:\n",
    "    brand[\"international_competitors\"].append(\"Desigual\")\n",
    "\n",
    "# 7. Delete the creation date\n",
    "del brand[\"creation_date\"]\n",
    "\n",
    "# 8. Print the last international competitor\n",
    "print(f\"Last international competitor: {brand['international_competitors'][-1]}\")\n",
    "\n",
    "# 9. Print the major clothes colors in the US\n",
    "print(f\"Major clothes colors in the US: {', '.join(brand['major_color']['US'])}\")\n",
    "\n",
    "# 10. Print the amount of key-value pairs\n",
    "print(f\"Number of key-value pairs: {len(brand)}\")\n",
    "\n",
    "# 11. Print the keys of the dictionary\n",
    "print(f\"Keys of the dictionary: {list(brand.keys())}\")\n",
    "\n",
    "# 12. Create another dictionary more_on_zara\n",
    "more_on_zara = {\n",
    "    \"creation_date\": 1975,\n",
    "    \"number_stores\": 10000\n",
    "}\n",
    "\n",
    "# 13. Update brand with more_on_zara information\n",
    "brand.update(more_on_zara)\n",
    "\n",
    "# 14. Print the value of number_stores\n",
    "print(f\"Number of stores after update: {brand['number_stores']}\")\n"
   ]
  },
  {
   "cell_type": "code",
   "execution_count": 4,
   "metadata": {},
   "outputs": [
    {
     "name": "stdout",
     "output_type": "stream",
     "text": [
      "{'Mickey': 0, 'Minnie': 1, 'Donald': 2, 'Ariel': 3, 'Pluto': 4}\n",
      "{0: 'Mickey', 1: 'Minnie', 2: 'Donald', 3: 'Ariel', 4: 'Pluto'}\n",
      "{'Ariel': 3, 'Donald': 2, 'Mickey': 0, 'Minnie': 1, 'Pluto': 4}\n",
      "{'Mickey': 0, 'Minnie': 1, 'Ariel': 3}\n",
      "{'Mickey': 0, 'Minnie': 1, 'Pluto': 4}\n"
     ]
    }
   ],
   "source": [
    "# Exercise 4: Disney Characters\n",
    "\n",
    "# Given list\n",
    "users = [\"Mickey\", \"Minnie\", \"Donald\", \"Ariel\", \"Pluto\"]\n",
    "\n",
    "# 1. Recreate the first result\n",
    "disney_users_A = {name: index for index, name in enumerate(users)}\n",
    "print(disney_users_A)\n",
    "\n",
    "# 2. Recreate the second result\n",
    "disney_users_B = {index: name for index, name in enumerate(users)}\n",
    "print(disney_users_B)\n",
    "\n",
    "# 3. Recreate the third result\n",
    "disney_users_C = dict(sorted(disney_users_A.items()))\n",
    "print(disney_users_C)\n",
    "\n",
    "# 4. Recreate first result for characters with names containing 'i'\n",
    "disney_users_i = {name: index for index, name in enumerate(users) if 'i' in name}\n",
    "print(disney_users_i)\n",
    "\n",
    "# 5. Recreate first result for characters with names starting with 'm' or 'p'\n",
    "disney_users_m_p = {name: index for index, name in enumerate(users) if name.startswith(('M', 'P'))}\n",
    "print(disney_users_m_p)\n"
   ]
  },
  {
   "cell_type": "code",
   "execution_count": null,
   "metadata": {},
   "outputs": [],
   "source": []
  }
 ],
 "metadata": {
  "kernelspec": {
   "display_name": "Python 3",
   "language": "python",
   "name": "python3"
  },
  "language_info": {
   "codemirror_mode": {
    "name": "ipython",
    "version": 3
   },
   "file_extension": ".py",
   "mimetype": "text/x-python",
   "name": "python",
   "nbconvert_exporter": "python",
   "pygments_lexer": "ipython3",
   "version": "3.12.3"
  }
 },
 "nbformat": 4,
 "nbformat_minor": 2
}
