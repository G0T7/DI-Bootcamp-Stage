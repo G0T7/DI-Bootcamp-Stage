{
 "cells": [
  {
   "cell_type": "code",
   "execution_count": 1,
   "metadata": {},
   "outputs": [
    {
     "name": "stdout",
     "output_type": "stream",
     "text": [
      "False\n"
     ]
    }
   ],
   "source": [
    "# Ask the user for a number\n",
    "x = int(input('Enter the Number:'))\n",
    "\n",
    "# Initialize the sum of divisors\n",
    "sum_of_divisors = 0\n",
    "\n",
    "# Loop to find all divisors of the number (excluding itself)\n",
    "for i in range(1, x):\n",
    "    if x % i == 0:\n",
    "        sum_of_divisors += i\n",
    "\n",
    "# Check if the sum of divisors is equal to the number\n",
    "if sum_of_divisors == x:\n",
    "    print(True)\n",
    "else:\n",
    "    print(False)\n"
   ]
  }
 ],
 "metadata": {
  "kernelspec": {
   "display_name": "Python 3",
   "language": "python",
   "name": "python3"
  },
  "language_info": {
   "codemirror_mode": {
    "name": "ipython",
    "version": 3
   },
   "file_extension": ".py",
   "mimetype": "text/x-python",
   "name": "python",
   "nbconvert_exporter": "python",
   "pygments_lexer": "ipython3",
   "version": "3.12.3"
  }
 },
 "nbformat": 4,
 "nbformat_minor": 2
}
