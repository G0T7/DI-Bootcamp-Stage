{
 "cells": [
  {
   "cell_type": "code",
   "execution_count": 1,
   "metadata": {},
   "outputs": [
    {
     "name": "stdout",
     "output_type": "stream",
     "text": [
      "McDonald's farm\n",
      "\n",
      "cow : 5\n",
      "sheep : 2\n",
      "goat : 12\n",
      "\n",
      "    E-I-E-I-O!\n",
      "['cow', 'goat', 'sheep']\n",
      "McDonald's farm has cows, goats and sheeps.\n"
     ]
    }
   ],
   "source": [
    "#Old MacDonald’s Farm\n",
    "class Farm:\n",
    "    def __init__(self, name):\n",
    "        self.name = name\n",
    "        self.animals = {}\n",
    "\n",
    "    def add_animal(self, animal, count=1):\n",
    "        if animal in self.animals:\n",
    "            self.animals[animal] += count\n",
    "        else:\n",
    "            self.animals[animal] = count\n",
    "\n",
    "    def get_info(self):\n",
    "        info = f\"{self.name}'s farm\\n\\n\"\n",
    "        for animal, count in self.animals.items():\n",
    "            info += f\"{animal} : {count}\\n\"\n",
    "        info += \"\\n    E-I-E-I-O!\"\n",
    "        return info\n",
    "\n",
    "    def get_animal_types(self):\n",
    "        return sorted(self.animals.keys())\n",
    "\n",
    "    def get_short_info(self):\n",
    "        animal_types = self.get_animal_types()\n",
    "        pluralized_animals = [f\"{animal}s\" if self.animals[animal] > 1 else animal for animal in animal_types]\n",
    "        animals_str = \", \".join(pluralized_animals[:-1]) + \" and \" + pluralized_animals[-1]\n",
    "        return f\"{self.name}'s farm has {animals_str}.\"\n",
    "\n",
    "# Testing the code\n",
    "macdonald = Farm(\"McDonald\")\n",
    "macdonald.add_animal('cow', 5)\n",
    "macdonald.add_animal('sheep')\n",
    "macdonald.add_animal('sheep')\n",
    "macdonald.add_animal('goat', 12)\n",
    "print(macdonald.get_info())\n",
    "print(macdonald.get_animal_types())\n",
    "print(macdonald.get_short_info())\n"
   ]
  }
 ],
 "metadata": {
  "kernelspec": {
   "display_name": "Python 3",
   "language": "python",
   "name": "python3"
  },
  "language_info": {
   "codemirror_mode": {
    "name": "ipython",
    "version": 3
   },
   "file_extension": ".py",
   "mimetype": "text/x-python",
   "name": "python",
   "nbconvert_exporter": "python",
   "pygments_lexer": "ipython3",
   "version": "3.12.3"
  }
 },
 "nbformat": 4,
 "nbformat_minor": 2
}
