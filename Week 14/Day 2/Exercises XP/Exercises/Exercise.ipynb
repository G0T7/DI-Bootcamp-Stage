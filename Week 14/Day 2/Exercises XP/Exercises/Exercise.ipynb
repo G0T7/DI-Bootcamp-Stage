{
 "cells": [
  {
   "cell_type": "code",
   "execution_count": 1,
   "metadata": {},
   "outputs": [
    {
     "name": "stdout",
     "output_type": "stream",
     "text": [
      "The oldest cat is Mittens, and is 5 years old.\n"
     ]
    }
   ],
   "source": [
    "#Exercise 1: Cats\n",
    "class Cat:\n",
    "    def __init__(self, cat_name, cat_age):\n",
    "        self.name = cat_name\n",
    "        self.age = cat_age\n",
    "\n",
    "# Instantiate three Cat objects\n",
    "cat1 = Cat(\"Whiskers\", 3)\n",
    "cat2 = Cat(\"Mittens\", 5)\n",
    "cat3 = Cat(\"Smokey\", 2)\n",
    "\n",
    "# Function to find the oldest cat\n",
    "def find_oldest_cat(*cats):\n",
    "    oldest_cat = cats[0]\n",
    "    for cat in cats:\n",
    "        if cat.age > oldest_cat.age:\n",
    "            oldest_cat = cat\n",
    "    return oldest_cat\n",
    "\n",
    "# Find the oldest cat\n",
    "oldest = find_oldest_cat(cat1, cat2, cat3)\n",
    "print(f\"The oldest cat is {oldest.name}, and is {oldest.age} years old.\")\n"
   ]
  },
  {
   "cell_type": "code",
   "execution_count": 2,
   "metadata": {},
   "outputs": [
    {
     "name": "stdout",
     "output_type": "stream",
     "text": [
      "David's dog details: Name: Rex, Height: 50 cm\n",
      "Rex goes woof!\n",
      "Rex jumps 100 cm high!\n",
      "Sarah's dog details: Name: Teacup, Height: 20 cm\n",
      "Teacup goes woof!\n",
      "Teacup jumps 40 cm high!\n",
      "The bigger dog is Rex.\n"
     ]
    }
   ],
   "source": [
    "#Exercise 2: Dogs\n",
    "class Dog:\n",
    "    def __init__(self, name, height):\n",
    "        self.name = name\n",
    "        self.height = height\n",
    "    \n",
    "    def bark(self):\n",
    "        print(f\"{self.name} goes woof!\")\n",
    "    \n",
    "    def jump(self):\n",
    "        print(f\"{self.name} jumps {self.height * 2} cm high!\")\n",
    "\n",
    "# Create objects for David's and Sarah's dogs\n",
    "davids_dog = Dog(\"Rex\", 50)\n",
    "sarahs_dog = Dog(\"Teacup\", 20)\n",
    "\n",
    "# Print details and call methods\n",
    "print(f\"David's dog details: Name: {davids_dog.name}, Height: {davids_dog.height} cm\")\n",
    "davids_dog.bark()\n",
    "davids_dog.jump()\n",
    "\n",
    "print(f\"Sarah's dog details: Name: {sarahs_dog.name}, Height: {sarahs_dog.height} cm\")\n",
    "sarahs_dog.bark()\n",
    "sarahs_dog.jump()\n",
    "\n",
    "# Check which dog is bigger\n",
    "if davids_dog.height > sarahs_dog.height:\n",
    "    print(f\"The bigger dog is {davids_dog.name}.\")\n",
    "else:\n",
    "    print(f\"The bigger dog is {sarahs_dog.name}.\")\n"
   ]
  },
  {
   "cell_type": "code",
   "execution_count": 3,
   "metadata": {},
   "outputs": [
    {
     "name": "stdout",
     "output_type": "stream",
     "text": [
      "There’s a lady who's sure\n",
      "all that glitters is gold\n",
      "and she’s buying a stairway to heaven\n"
     ]
    }
   ],
   "source": [
    "#Exercise 3: Who’s The Song Producer?\n",
    "class Song:\n",
    "    def __init__(self, lyrics):\n",
    "        self.lyrics = lyrics\n",
    "    \n",
    "    def sing_me_a_song(self):\n",
    "        for line in self.lyrics:\n",
    "            print(line)\n",
    "\n",
    "# Create a Song object\n",
    "stairway = Song([\"There’s a lady who's sure\", \n",
    "                 \"all that glitters is gold\", \n",
    "                 \"and she’s buying a stairway to heaven\"])\n",
    "\n",
    "# Call the sing_me_a_song method\n",
    "stairway.sing_me_a_song()\n"
   ]
  },
  {
   "cell_type": "code",
   "execution_count": 4,
   "metadata": {},
   "outputs": [
    {
     "name": "stdout",
     "output_type": "stream",
     "text": [
      "Eel has been sold.\n",
      "Animals in the zoo:\n",
      "Ape\n",
      "Baboon\n",
      "Bear\n",
      "Cat\n",
      "Cougar\n",
      "Emu\n",
      "Animals grouped by first letter:\n",
      "A: ['Ape']\n",
      "B: ['Baboon', 'Bear']\n",
      "C: ['Cat', 'Cougar']\n",
      "E: ['Emu']\n"
     ]
    }
   ],
   "source": [
    "#Exercise 4: Afternoon At The Zoo\n",
    "class Zoo:\n",
    "    def __init__(self, zoo_name):\n",
    "        self.name = zoo_name\n",
    "        self.animals = []\n",
    "    \n",
    "    def add_animal(self, new_animal):\n",
    "        if new_animal not in self.animals:\n",
    "            self.animals.append(new_animal)\n",
    "        else:\n",
    "            print(f\"{new_animal} is already in the zoo!\")\n",
    "    \n",
    "    def get_animals(self):\n",
    "        print(\"Animals in the zoo:\")\n",
    "        for animal in self.animals:\n",
    "            print(animal)\n",
    "    \n",
    "    def sell_animal(self, animal_sold):\n",
    "        if animal_sold in self.animals:\n",
    "            self.animals.remove(animal_sold)\n",
    "            print(f\"{animal_sold} has been sold.\")\n",
    "        else:\n",
    "            print(f\"{animal_sold} is not in the zoo.\")\n",
    "    \n",
    "    def sort_animals(self):\n",
    "        sorted_animals = {}\n",
    "        for animal in sorted(self.animals):\n",
    "            first_letter = animal[0]\n",
    "            if first_letter not in sorted_animals:\n",
    "                sorted_animals[first_letter] = [animal]\n",
    "            else:\n",
    "                sorted_animals[first_letter].append(animal)\n",
    "        return sorted_animals\n",
    "    \n",
    "    def get_groups(self):\n",
    "        sorted_animals = self.sort_animals()\n",
    "        print(\"Animals grouped by first letter:\")\n",
    "        for key, value in sorted_animals.items():\n",
    "            print(f\"{key}: {value}\")\n",
    "\n",
    "# Create an object for Ramat Gan Safari zoo\n",
    "ramat_gan_safari = Zoo(\"Ramat Gan Safari\")\n",
    "\n",
    "# Adding animals to the zoo\n",
    "ramat_gan_safari.add_animal(\"Ape\")\n",
    "ramat_gan_safari.add_animal(\"Baboon\")\n",
    "ramat_gan_safari.add_animal(\"Bear\")\n",
    "ramat_gan_safari.add_animal(\"Cat\")\n",
    "ramat_gan_safari.add_animal(\"Cougar\")\n",
    "ramat_gan_safari.add_animal(\"Eel\")\n",
    "ramat_gan_safari.add_animal(\"Emu\")\n",
    "\n",
    "# Selling an animal\n",
    "ramat_gan_safari.sell_animal(\"Eel\")\n",
    "\n",
    "# Displaying all animals in the zoo\n",
    "ramat_gan_safari.get_animals()\n",
    "\n",
    "# Displaying animals grouped by first letter\n",
    "ramat_gan_safari.get_groups()\n"
   ]
  },
  {
   "cell_type": "code",
   "execution_count": null,
   "metadata": {},
   "outputs": [],
   "source": []
  }
 ],
 "metadata": {
  "kernelspec": {
   "display_name": "Python 3",
   "language": "python",
   "name": "python3"
  },
  "language_info": {
   "codemirror_mode": {
    "name": "ipython",
    "version": 3
   },
   "file_extension": ".py",
   "mimetype": "text/x-python",
   "name": "python",
   "nbconvert_exporter": "python",
   "pygments_lexer": "ipython3",
   "version": "3.12.3"
  }
 },
 "nbformat": 4,
 "nbformat_minor": 2
}
