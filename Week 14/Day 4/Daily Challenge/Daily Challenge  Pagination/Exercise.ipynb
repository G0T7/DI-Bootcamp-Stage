{
 "cells": [
  {
   "cell_type": "code",
   "execution_count": 3,
   "metadata": {},
   "outputs": [],
   "source": [
    "#Daily Challenge : Pagination\n",
    "class Pagination:\n",
    "    def __init__(self, items=None, pageSize=10):\n",
    "        self.items = items if items is not None else []\n",
    "        self.pageSize = int(pageSize)  # Convert pageSize to integer\n",
    "        self.totalPages = -(-(len(self.items)) // self.pageSize)  # Calculate total pages\n",
    "        self.currentPage = 1\n",
    "        self.updateVisibleItems()\n",
    "\n",
    "    def updateVisibleItems(self):\n",
    "        start_idx = (self.currentPage - 1) * self.pageSize\n",
    "        end_idx = start_idx + self.pageSize\n",
    "        self.visibleItems = self.items[start_idx:end_idx]\n",
    "\n",
    "    def getVisibleItems(self):\n",
    "        return self.visibleItems\n",
    "\n",
    "    def prevPage(self):\n",
    "        if self.currentPage > 1:\n",
    "            self.currentPage -= 1\n",
    "            self.updateVisibleItems()\n",
    "        return self\n",
    "\n",
    "    def nextPage(self):\n",
    "        if self.currentPage < self.totalPages:\n",
    "            self.currentPage += 1\n",
    "            self.updateVisibleItems()\n",
    "        return self\n",
    "\n",
    "    def firstPage(self):\n",
    "        self.currentPage = 1\n",
    "        self.updateVisibleItems()\n",
    "        return self\n",
    "\n",
    "    def lastPage(self):\n",
    "        self.currentPage = self.totalPages\n",
    "        self.updateVisibleItems()\n",
    "        return self\n",
    "\n",
    "    def goToPage(self, pageNum):\n",
    "        if isinstance(pageNum, float):\n",
    "            pageNum = int(pageNum)\n",
    "        if pageNum <= 0:\n",
    "            self.currentPage = 1\n",
    "        elif pageNum > self.totalPages:\n",
    "            self.currentPage = self.totalPages\n",
    "        else:\n",
    "            self.currentPage = pageNum\n",
    "        self.updateVisibleItems()\n",
    "        return self\n"
   ]
  },
  {
   "cell_type": "code",
   "execution_count": 4,
   "metadata": {},
   "outputs": [
    {
     "name": "stdout",
     "output_type": "stream",
     "text": [
      "['a', 'b', 'c', 'd']\n",
      "['e', 'f', 'g', 'h']\n",
      "['y', 'z']\n",
      "['y', 'z']\n"
     ]
    }
   ],
   "source": [
    "# Example usage\n",
    "alphabetList = list(\"abcdefghijklmnopqrstuvwxyz\")\n",
    "\n",
    "p = Pagination(alphabetList, 4)\n",
    "\n",
    "print(p.getVisibleItems())  # [\"a\", \"b\", \"c\", \"d\"]\n",
    "\n",
    "p.nextPage()\n",
    "\n",
    "print(p.getVisibleItems())  # [\"e\", \"f\", \"g\", \"h\"]\n",
    "\n",
    "p.lastPage()\n",
    "\n",
    "print(p.getVisibleItems())  # [\"y\", \"z\"]\n",
    "\n",
    "p.goToPage(10)\n",
    "\n",
    "print(p.getVisibleItems())  # [\"w\", \"x\", \"y\", \"z\"]\n"
   ]
  }
 ],
 "metadata": {
  "kernelspec": {
   "display_name": "Python 3",
   "language": "python",
   "name": "python3"
  },
  "language_info": {
   "codemirror_mode": {
    "name": "ipython",
    "version": 3
   },
   "file_extension": ".py",
   "mimetype": "text/x-python",
   "name": "python",
   "nbconvert_exporter": "python",
   "pygments_lexer": "ipython3",
   "version": "3.12.3"
  }
 },
 "nbformat": 4,
 "nbformat_minor": 2
}
