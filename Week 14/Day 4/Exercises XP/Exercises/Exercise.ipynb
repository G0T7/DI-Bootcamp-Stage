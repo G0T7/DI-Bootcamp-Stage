{
 "cells": [
  {
   "cell_type": "code",
   "execution_count": 1,
   "metadata": {},
   "outputs": [
    {
     "name": "stdout",
     "output_type": "stream",
     "text": [
      "Bengy is just walking around\n",
      "Charty is just walking around\n",
      "Siama is just walking around\n"
     ]
    }
   ],
   "source": [
    "#Exercise 1: Pets\n",
    "class Pets():\n",
    "    def __init__(self, animals):\n",
    "        self.animals = animals\n",
    "\n",
    "    def walk(self):\n",
    "        for animal in self.animals:\n",
    "            print(animal.walk())\n",
    "\n",
    "class Cat():\n",
    "    is_lazy = True\n",
    "\n",
    "    def __init__(self, name, age):\n",
    "        self.name = name\n",
    "        self.age = age\n",
    "\n",
    "    def walk(self):\n",
    "        return f'{self.name} is just walking around'\n",
    "\n",
    "class Bengal(Cat):\n",
    "    def sing(self, sounds):\n",
    "        return f'{sounds}'\n",
    "\n",
    "class Chartreux(Cat):\n",
    "    def sing(self, sounds):\n",
    "        return f'{sounds}'\n",
    "\n",
    "class Siamese(Cat):\n",
    "    def sing(self, sounds):\n",
    "        return f'{sounds}'\n",
    "\n",
    "# Create instances\n",
    "bengal_cat = Bengal(\"Bengy\", 2)\n",
    "chartreux_cat = Chartreux(\"Charty\", 3)\n",
    "siamese_cat = Siamese(\"Siama\", 1)\n",
    "\n",
    "# Create a list of all cats\n",
    "all_cats = [bengal_cat, chartreux_cat, siamese_cat]\n",
    "\n",
    "# Sara's pets\n",
    "sara_pets = Pets(all_cats)\n",
    "\n",
    "# Take all cats for a walk\n",
    "sara_pets.walk()\n"
   ]
  },
  {
   "cell_type": "code",
   "execution_count": 2,
   "metadata": {},
   "outputs": [
    {
     "name": "stdout",
     "output_type": "stream",
     "text": [
      "Buddy is barking\n",
      "62.5\n",
      "Rex won the fight\n"
     ]
    }
   ],
   "source": [
    "#Exercise 2: Dogs\n",
    "class Dog:\n",
    "    def __init__(self, name, age, weight):\n",
    "        self.name = name\n",
    "        self.age = age\n",
    "        self.weight = weight\n",
    "\n",
    "    def bark(self):\n",
    "        return f\"{self.name} is barking\"\n",
    "\n",
    "    def run_speed(self):\n",
    "        return self.weight / self.age * 10\n",
    "\n",
    "    def fight(self, other_dog):\n",
    "        my_power = self.run_speed() * self.weight\n",
    "        other_power = other_dog.run_speed() * other_dog.weight\n",
    "        if my_power > other_power:\n",
    "            return f\"{self.name} won the fight\"\n",
    "        else:\n",
    "            return f\"{other_dog.name} won the fight\"\n",
    "\n",
    "# Create instances\n",
    "dog1 = Dog(\"Buddy\", 3, 30)\n",
    "dog2 = Dog(\"Max\", 4, 25)\n",
    "dog3 = Dog(\"Rex\", 2, 35)\n",
    "\n",
    "# Test the methods\n",
    "print(dog1.bark())\n",
    "print(dog2.run_speed())\n",
    "print(dog3.fight(dog1))\n"
   ]
  },
  {
   "cell_type": "code",
   "execution_count": 4,
   "metadata": {},
   "outputs": [
    {
     "name": "stdout",
     "output_type": "stream",
     "text": [
      "Rex is barking\n",
      "Rex stands on his back legs\n",
      "Rex, Buddy, Max all play together\n"
     ]
    }
   ],
   "source": [
    "class Dog:\n",
    "    def __init__(self, name, age, weight):\n",
    "        self.name = name\n",
    "        self.age = age\n",
    "        self.weight = weight\n",
    "\n",
    "    def bark(self):\n",
    "        return f\"{self.name} is barking\"\n",
    "\n",
    "    def run_speed(self):\n",
    "        return self.weight / self.age * 10\n",
    "\n",
    "    def fight(self, other_dog):\n",
    "        if self.run_speed() * self.weight > other_dog.run_speed() * other_dog.weight:\n",
    "            return f\"{self.name} wins the fight\"\n",
    "        else:\n",
    "            return f\"{other_dog.name} wins the fight\"\n",
    "\n",
    "class PetDog(Dog):\n",
    "    def __init__(self, name, age, weight):\n",
    "        super().__init__(name, age, weight)\n",
    "        self.trained = False\n",
    "\n",
    "    def train(self):\n",
    "        print(self.bark())\n",
    "        self.trained = True\n",
    "\n",
    "    def play(self, *args):\n",
    "        dogs_names = ', '.join([dog.name for dog in args])\n",
    "        print(f\"{self.name}, {dogs_names} all play together\")\n",
    "\n",
    "    def do_a_trick(self):\n",
    "        if self.trained:\n",
    "            import random\n",
    "            tricks = [\n",
    "                f\"{self.name} does a barrel roll\",\n",
    "                f\"{self.name} stands on his back legs\",\n",
    "                f\"{self.name} shakes your hand\",\n",
    "                f\"{self.name} plays dead\"\n",
    "            ]\n",
    "            print(random.choice(tricks))\n",
    "\n",
    "# Example usage:\n",
    "dog1 = PetDog(\"Rex\", 5, 20)\n",
    "dog2 = PetDog(\"Buddy\", 3, 25)\n",
    "dog3 = PetDog(\"Max\", 4, 18)\n",
    "\n",
    "dog1.train()\n",
    "dog1.do_a_trick()\n",
    "\n",
    "dog1.play(dog2, dog3)\n"
   ]
  },
  {
   "cell_type": "code",
   "execution_count": 6,
   "metadata": {},
   "outputs": [
    {
     "name": "stdout",
     "output_type": "stream",
     "text": [
      "Congratulations to the Smith family on the birth of Alice!\n",
      "True\n",
      "The Smith family:\n",
      "{'name': 'Michael', 'age': 35, 'gender': 'Male', 'is_child': False}\n",
      "{'name': 'Sarah', 'age': 32, 'gender': 'Female', 'is_child': False}\n",
      "{'name': 'Alice', 'age': 0, 'gender': 'Female', 'is_child': True}\n"
     ]
    }
   ],
   "source": [
    "#Exercise 4: Family\n",
    "class Family:\n",
    "    def __init__(self, last_name, members):\n",
    "        self.last_name = last_name\n",
    "        self.members = members\n",
    "\n",
    "    def born(self, **kwargs):\n",
    "        self.members.append(kwargs)\n",
    "        print(f\"Congratulations to the {self.last_name} family on the birth of {kwargs['name']}!\")\n",
    "\n",
    "    def is_18(self, name):\n",
    "        for member in self.members:\n",
    "            if member['name'] == name:\n",
    "                return member['age'] > 18\n",
    "        return False\n",
    "\n",
    "    def family_presentation(self):\n",
    "        print(f\"The {self.last_name} family:\")\n",
    "        for member in self.members:\n",
    "            print(member)\n",
    "\n",
    "# Create an instance and test the methods\n",
    "family = Family(\"Smith\", [\n",
    "    {'name': 'Michael', 'age': 35, 'gender': 'Male', 'is_child': False},\n",
    "    {'name': 'Sarah', 'age': 32, 'gender': 'Female', 'is_child': False}\n",
    "])\n",
    "\n",
    "family.born(name='Alice', age=0, gender='Female', is_child=True)\n",
    "print(family.is_18('Michael'))\n",
    "family.family_presentation()\n"
   ]
  },
  {
   "cell_type": "code",
   "execution_count": 7,
   "metadata": {},
   "outputs": [
    {
     "name": "stdout",
     "output_type": "stream",
     "text": [
      "Here is our powerful family:\n",
      "The Incredibles family:\n",
      "{'name': 'Michael', 'age': 35, 'gender': 'Male', 'is_child': False, 'power': 'fly', 'incredible_name': 'MikeFly'}\n",
      "{'name': 'Sarah', 'age': 32, 'gender': 'Female', 'is_child': False, 'power': 'read minds', 'incredible_name': 'SuperWoman'}\n",
      "Congratulations to the Incredibles family on the birth of Baby Jack!\n",
      "Here is our powerful family:\n",
      "The Incredibles family:\n",
      "{'name': 'Michael', 'age': 35, 'gender': 'Male', 'is_child': False, 'power': 'fly', 'incredible_name': 'MikeFly'}\n",
      "{'name': 'Sarah', 'age': 32, 'gender': 'Female', 'is_child': False, 'power': 'read minds', 'incredible_name': 'SuperWoman'}\n",
      "{'name': 'Baby Jack', 'age': 0, 'gender': 'Male', 'is_child': True, 'power': 'Unknown Power', 'incredible_name': 'BabyJack'}\n"
     ]
    }
   ],
   "source": [
    "#Exercise 5: The Incredibles Family\n",
    "class TheIncredibles(Family):\n",
    "    def __init__(self, last_name, members):\n",
    "        super().__init__(last_name, members)\n",
    "\n",
    "    def use_power(self, name):\n",
    "        for member in self.members:\n",
    "            if member['name'] == name:\n",
    "                if member['age'] < 18:\n",
    "                    raise Exception(f\"{name} is not over 18 years old\")\n",
    "                print(f\"{member['name']}'s power is {member['power']}\")\n",
    "\n",
    "    def incredible_presentation(self):\n",
    "        print(\"Here is our powerful family:\")\n",
    "        super().family_presentation()\n",
    "\n",
    "# Create an instance and test the methods\n",
    "incredible_family = TheIncredibles(\"Incredibles\", [\n",
    "    {'name': 'Michael', 'age': 35, 'gender': 'Male', 'is_child': False, 'power': 'fly', 'incredible_name': 'MikeFly'},\n",
    "    {'name': 'Sarah', 'age': 32, 'gender': 'Female', 'is_child': False, 'power': 'read minds', 'incredible_name': 'SuperWoman'}\n",
    "])\n",
    "\n",
    "incredible_family.incredible_presentation()\n",
    "incredible_family.born(name='Baby Jack', age=0, gender='Male', is_child=True, power='Unknown Power', incredible_name='BabyJack')\n",
    "incredible_family.incredible_presentation()\n"
   ]
  },
  {
   "cell_type": "code",
   "execution_count": null,
   "metadata": {},
   "outputs": [],
   "source": []
  }
 ],
 "metadata": {
  "kernelspec": {
   "display_name": "Python 3",
   "language": "python",
   "name": "python3"
  },
  "language_info": {
   "codemirror_mode": {
    "name": "ipython",
    "version": 3
   },
   "file_extension": ".py",
   "mimetype": "text/x-python",
   "name": "python",
   "nbconvert_exporter": "python",
   "pygments_lexer": "ipython3",
   "version": "3.12.3"
  }
 },
 "nbformat": 4,
 "nbformat_minor": 2
}
