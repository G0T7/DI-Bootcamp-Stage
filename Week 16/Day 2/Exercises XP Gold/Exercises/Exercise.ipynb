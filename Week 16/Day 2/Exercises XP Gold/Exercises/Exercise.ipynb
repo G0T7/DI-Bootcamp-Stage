{
 "cells": [
  {
   "cell_type": "code",
   "execution_count": 1,
   "metadata": {},
   "outputs": [],
   "source": [
    "#Exercise 1: Sum of First and Last Elements\n",
    "def first_and_last(numbers: list) -> int:\n",
    "    return numbers[0] + numbers[-1]\n",
    "\n",
    "#What is the time complexity of your solution?\n",
    "#Time Complexity: O(1).  Accessing the first and last elements of a list is a constant-time operation.\n",
    "\n",
    "#Can you think of a situation where the time complexity would change?\n",
    "#The time complexity for this operation remains 𝑂(1) regardless of the list size, \n",
    "# as accessing elements by index in a list is always a constant-time operation."
   ]
  },
  {
   "cell_type": "code",
   "execution_count": 2,
   "metadata": {},
   "outputs": [],
   "source": [
    "#Exercise 2: Counting Duplicate Elements\n",
    "def duplicates_count(numbers: list) -> int:\n",
    "    count = 0\n",
    "    seen = set()\n",
    "    duplicates = set()\n",
    "    \n",
    "    for number in numbers:\n",
    "        if number in seen:\n",
    "            duplicates.add(number)\n",
    "        else:\n",
    "            seen.add(number)\n",
    "    \n",
    "    return len(duplicates)\n",
    "\n",
    "#What is the time complexity of your solution?\n",
    "#ime Complexity: O(n). The function iterates through the list once, and set operations (add, check) are average 𝑂(1)\n",
    "\n",
    "#Can you optimize your solution to improve its time complexity?\n",
    "#The given solution is already optimized to 𝑂(𝑛)Further optimization isn't necessary since it's optimal for this task."
   ]
  },
  {
   "cell_type": "code",
   "execution_count": 3,
   "metadata": {},
   "outputs": [],
   "source": [
    "#Exercise 3: Finding Pairs that Sum to Zero\n",
    "def pair_sum_zero(numbers: list) -> list:\n",
    "    pairs = []\n",
    "    seen = set()\n",
    "    \n",
    "    for number in numbers:\n",
    "        if -number in seen:\n",
    "            pairs.append((number, -number))\n",
    "        seen.add(number)\n",
    "    \n",
    "    return pairs\n",
    "\n",
    "\n",
    "#What is the time complexity of your solution?\n",
    "# Time Complexity: 𝑂(𝑛)The function iterates through the list once, and set operations are average 𝑂(1)\n",
    "\n",
    "#Is it possible to improve the time complexity of this function? If yes, how?\n",
    "# The current solution is optimal with 𝑂(𝑛)time complexity. \n",
    "# Further improvements would be unnecessary as this is the best possible for this task."
   ]
  },
  {
   "cell_type": "code",
   "execution_count": null,
   "metadata": {},
   "outputs": [],
   "source": []
  }
 ],
 "metadata": {
  "kernelspec": {
   "display_name": "Python 3",
   "language": "python",
   "name": "python3"
  },
  "language_info": {
   "codemirror_mode": {
    "name": "ipython",
    "version": 3
   },
   "file_extension": ".py",
   "mimetype": "text/x-python",
   "name": "python",
   "nbconvert_exporter": "python",
   "pygments_lexer": "ipython3",
   "version": "3.12.3"
  }
 },
 "nbformat": 4,
 "nbformat_minor": 2
}
