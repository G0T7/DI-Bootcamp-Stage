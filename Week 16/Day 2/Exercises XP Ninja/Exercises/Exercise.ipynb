{
 "cells": [
  {
   "cell_type": "code",
   "execution_count": null,
   "metadata": {},
   "outputs": [],
   "source": [
    "def factorial(n):\n",
    "    print(f\"Calling factorial({n})\")  # This line will help in debugging\n",
    "    if n == 0:  # Base Case\n",
    "        return 1\n",
    "    else:       # Recursive Case\n",
    "        return n * factorial(n - 1)\n",
    "\n",
    "# Example call\n",
    "factorial(5)\n",
    "\n",
    "\n",
    "#Exercise: Debugging The Recursive Factorial Function\n",
    "#Questions:\n",
    "\n",
    "#How many times was the factorial function called?\n",
    "#The factorial function was called 6 times. \n",
    "# This includes the initial call with n = 5 and subsequent calls with n = 4, n = 3, n = 2, n = 1, and n = 0 (the base case).\n",
    "\n",
    "#Describe the changes in the variable n throughout the execution.\n",
    "#The variable n starts at 5 and decreases by 1 with each recursive call until it reaches 0.\n",
    "#  The sequence is: n = 5, n = 4, n = 3, n = 2, n = 1, n = 0.\n",
    "\n",
    "#At what point did the function hit the base case?\n",
    "#The function hit the base case when n = 0. At this point, the function returns 1 and no further recursive calls are made.\n",
    "\n",
    "#What happens to the call stack when the function hits the base case?\n",
    "#When the function hits the base case (n = 0), the call stack starts to unwind. \n",
    "# Each call returns its result to the previous call until the initial call returns the final result. \n",
    "# The call stack shrinks as the recursive calls resolve and return their values."
   ]
  }
 ],
 "metadata": {
  "language_info": {
   "name": "python"
  }
 },
 "nbformat": 4,
 "nbformat_minor": 2
}
