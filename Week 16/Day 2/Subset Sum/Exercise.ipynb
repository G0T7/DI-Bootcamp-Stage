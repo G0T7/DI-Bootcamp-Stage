{
 "cells": [
  {
   "cell_type": "code",
   "execution_count": null,
   "metadata": {},
   "outputs": [],
   "source": [
    "#Subset Sum\n",
    "#Problem Statement\n",
    "\n",
    "def subsetsum(numbers: list, target: int) -> bool:\n",
    "    seen = set()\n",
    "    \n",
    "    for number in numbers:\n",
    "        complement = target - number\n",
    "        if complement in seen:\n",
    "            print(f\"True: {number}, {complement}\")\n",
    "            return True\n",
    "        seen.add(number)\n",
    "    \n",
    "    print(\"False\")\n",
    "    return False\n",
    "\n",
    "# Test cases\n",
    "nums = [12, -7, 20, 1, 4, -10, -1]\n",
    "\n",
    "print(subsetsum(nums, 1))  # False\n",
    "print(subsetsum(nums, 2))  # True: 12, -10\n",
    "print(subsetsum(nums, 3))  # True: 4, -1\n",
    "print(subsetsum(nums, 4))  # False\n",
    "\n",
    "\n",
    "#Big O Considerations\n",
    "#Time Complexity: 𝑂(𝑛)We iterate through the list once, and each lookup and insertion operation in the set is 𝑂(1)on average.\n",
    "#  Therefore, the overall time complexity is 𝑂(𝑛).\n",
    "\n",
    "#Space Complexity: 𝑂(𝑛) In the worst case, we might store all 𝑛 elements in the set, leading to a space complexity of 𝑂(𝑛).\n",
    "#Scalability:\n",
    "\n",
    "#Feasibility for Large Lists: This solution is efficient and scalable. \n",
    "# It will work well even if the list contains 100,000 or 10 million items, provided that we have enough memory to store the set.\n",
    "\n",
    "#Performance: The use of a hash set ensures that both the lookup and insertion operations are fast,\n",
    "#  making this approach suitable for large datasets.\n"
   ]
  }
 ],
 "metadata": {
  "language_info": {
   "name": "python"
  }
 },
 "nbformat": 4,
 "nbformat_minor": 2
}
