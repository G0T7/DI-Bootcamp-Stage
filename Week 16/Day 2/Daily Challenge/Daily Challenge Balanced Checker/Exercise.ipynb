{
 "cells": [
  {
   "cell_type": "code",
   "execution_count": 1,
   "metadata": {},
   "outputs": [
    {
     "name": "stdout",
     "output_type": "stream",
     "text": [
      "True\n",
      "False\n",
      "False\n",
      "True\n",
      "True\n",
      "True\n",
      "True\n"
     ]
    }
   ],
   "source": [
    "#Balanced Checker\n",
    "def is_balanced_extended(expr: str) -> bool:\n",
    "    stack = []  # Initialize an empty stack to keep track of opening parentheses and quotes\n",
    "    opening = set('([{\\'\"')  # Set of opening parentheses and quotes\n",
    "    closing = set(')]}\\'\"')  # Set of closing parentheses and quotes\n",
    "    matches = {')': '(', ']': '[', '}': '{', '\"': '\"', \"'\": \"'\"}  # Dictionary to match closing to opening symbols\n",
    "    \n",
    "    for char in expr:  # Traverse each character in the expression\n",
    "        if char in opening:  # If the character is an opening symbol\n",
    "            # Handle quote pairs correctly\n",
    "            if char in '\\'\"' and stack and stack[-1] == char:\n",
    "                stack.pop()  # If the top element is the same quote, pop it (closing the quote)\n",
    "            else:\n",
    "                stack.append(char)  # Otherwise, push the opening symbol onto the stack\n",
    "        elif char in closing:  # If the character is a closing symbol\n",
    "            # Check if the stack is not empty and the top element matches the corresponding opening symbol\n",
    "            if not stack or stack[-1] != matches[char]:\n",
    "                return False  # If not, return False\n",
    "            stack.pop()  # Pop the top element from the stack\n",
    "    \n",
    "    return not stack  # If the stack is empty, return True; otherwise, return False\n",
    "\n",
    "# Example inputs and outputs\n",
    "print(is_balanced_extended('(1 + 2) * {[(3 / 4) - 5]}'))  # True\n",
    "print(is_balanced_extended('[1 + 2) * (3 - 4)]'))         # False\n",
    "print(is_balanced_extended('((1 + 2)'))                   # False\n",
    "print(is_balanced_extended('{\"key\": \"value\"}'))           # True\n",
    "print(is_balanced_extended('[\"key\": \"value\"]'))           # True\n",
    "print(is_balanced_extended('\"This is a \"balanced\" string\"'))  # True\n",
    "print(is_balanced_extended('\"This is an \"unbalanced string'))  # False\n"
   ]
  }
 ],
 "metadata": {
  "kernelspec": {
   "display_name": "Python 3",
   "language": "python",
   "name": "python3"
  },
  "language_info": {
   "codemirror_mode": {
    "name": "ipython",
    "version": 3
   },
   "file_extension": ".py",
   "mimetype": "text/x-python",
   "name": "python",
   "nbconvert_exporter": "python",
   "pygments_lexer": "ipython3",
   "version": "3.12.3"
  }
 },
 "nbformat": 4,
 "nbformat_minor": 2
}
