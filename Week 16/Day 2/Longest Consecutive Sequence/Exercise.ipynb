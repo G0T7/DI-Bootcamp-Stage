{
 "cells": [
  {
   "cell_type": "code",
   "execution_count": null,
   "metadata": {},
   "outputs": [],
   "source": [
    "#Longest Consecutive Sequence\n",
    "def longest_sequence(nums: list) -> int:\n",
    "    if not nums:\n",
    "        return 0\n",
    "    \n",
    "    num_set = set(nums)\n",
    "    longest_length = 0\n",
    "    \n",
    "    for num in num_set:\n",
    "        if num - 1 not in num_set:  # Check if it's the start of a sequence\n",
    "            current_num = num\n",
    "            current_length = 1\n",
    "            \n",
    "            while current_num + 1 in num_set:  # Count the length of the sequence\n",
    "                current_num += 1\n",
    "                current_length += 1\n",
    "            \n",
    "            longest_length = max(longest_length, current_length)\n",
    "    \n",
    "    return longest_length\n",
    "\n",
    "# Test cases\n",
    "print(longest_sequence([6, 4, 100, 5, 200, 2, 3]))  # Output: 5\n",
    "print(longest_sequence([1, 2, 0, 1]))  # Output: 3\n",
    "print(longest_sequence([9, 1, -3, 2, 4, 8, 3, 7, -1, -2]))  # Output: 4\n",
    "\n",
    "\n",
    "\n",
    "\n",
    "#Big O Considerations\n",
    "\n",
    "#Time Complexity:\n",
    "#-𝑂(𝑛) Converting the list to a set takes 𝑂(𝑛).\n",
    "#-Iterating through the set and checking for sequence starts takes 𝑂(𝑛).\n",
    "#-Counting the length of sequences is, in total, \n",
    "# 𝑂(𝑛)since each element is checked at most twice (once as part of a potential sequence start and once as part of a sequence).\n",
    "#-Overall, the time complexity is 𝑂(𝑛).\n",
    "\n",
    "#Space Complexity: 𝑂(𝑛) Storing the elements in a set requires 𝑂(𝑛) space.\n",
    "\n",
    "#Scalability:\n",
    "#\n",
    "# -Feasibility for Large Lists: This solution is efficient and scalable, \n",
    "# making it feasible for lists containing 100,000 or even 10 million items, as long as there is enough memory to store the set."
   ]
  }
 ],
 "metadata": {
  "language_info": {
   "name": "python"
  }
 },
 "nbformat": 4,
 "nbformat_minor": 2
}
