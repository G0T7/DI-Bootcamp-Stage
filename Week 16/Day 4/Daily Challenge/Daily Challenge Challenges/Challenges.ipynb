{
 "cells": [
  {
   "cell_type": "code",
   "execution_count": 1,
   "metadata": {},
   "outputs": [
    {
     "name": "stdout",
     "output_type": "stream",
     "text": [
      "{'apple': 3, 'orange': 2, 'banana': 1}\n"
     ]
    }
   ],
   "source": [
    "#Exercise 1: Counting Frequencies\n",
    "def word_frequency(input_str):\n",
    "    words = input_str.split()\n",
    "    frequency = {}\n",
    "    \n",
    "    for word in words:\n",
    "        if word in frequency:\n",
    "            frequency[word] += 1\n",
    "        else:\n",
    "            frequency[word] = 1\n",
    "    \n",
    "    return frequency\n",
    "\n",
    "# Input and Output\n",
    "input_str = \"apple orange apple banana orange apple\"\n",
    "result = word_frequency(input_str)\n",
    "print(result)  # Output: {'apple': 3, 'orange': 2, 'banana': 1}\n"
   ]
  },
  {
   "cell_type": "code",
   "execution_count": 2,
   "metadata": {},
   "outputs": [
    {
     "name": "stdout",
     "output_type": "stream",
     "text": [
      "3\n",
      "1\n",
      "3\n"
     ]
    }
   ],
   "source": [
    "#Exercise 2: Longest Substring Without Repeating Characters\n",
    "def longest_unique_substring(s):\n",
    "    char_index = {}\n",
    "    max_length = 0\n",
    "    start = 0\n",
    "\n",
    "    for end in range(len(s)):\n",
    "        if s[end] in char_index:\n",
    "            start = max(start, char_index[s[end]] + 1)\n",
    "        char_index[s[end]] = end\n",
    "        max_length = max(max_length, end - start + 1)\n",
    "\n",
    "    return max_length\n",
    "\n",
    "# Input and Output\n",
    "s1 = \"abcabcbb\"\n",
    "result1 = longest_unique_substring(s1)\n",
    "print(result1)  # Output: 3\n",
    "\n",
    "s2 = \"bbbbb\"\n",
    "result2 = longest_unique_substring(s2)\n",
    "print(result2)  # Output: 1\n",
    "\n",
    "s3 = \"pwwkew\"\n",
    "result3 = longest_unique_substring(s3)\n",
    "print(result3)  # Output: 3\n"
   ]
  }
 ],
 "metadata": {
  "kernelspec": {
   "display_name": "Python 3",
   "language": "python",
   "name": "python3"
  },
  "language_info": {
   "codemirror_mode": {
    "name": "ipython",
    "version": 3
   },
   "file_extension": ".py",
   "mimetype": "text/x-python",
   "name": "python",
   "nbconvert_exporter": "python",
   "pygments_lexer": "ipython3",
   "version": "3.12.3"
  }
 },
 "nbformat": 4,
 "nbformat_minor": 2
}
