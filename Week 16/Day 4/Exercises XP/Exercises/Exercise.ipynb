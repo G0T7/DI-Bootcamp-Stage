{
 "cells": [
  {
   "cell_type": "code",
   "execution_count": 2,
   "metadata": {},
   "outputs": [
    {
     "name": "stdout",
     "output_type": "stream",
     "text": [
      "Executing task: Do homework\n",
      "Task Queue: [('Clean room', 2)]\n"
     ]
    }
   ],
   "source": [
    "#Exercise 1: Task Scheduler\n",
    "from collections import deque\n",
    "\n",
    "class TaskScheduler:\n",
    "    def __init__(self):\n",
    "        self.queue = deque()\n",
    "\n",
    "    def add_task(self, description, priority):\n",
    "        self.queue.append((description, priority))\n",
    "        self.queue = deque(sorted(self.queue, key=lambda x: x[1]))\n",
    "\n",
    "    def execute_task(self):\n",
    "        if self.queue:\n",
    "            task = self.queue.popleft()\n",
    "            print(f\"Executing task: {task[0]}\")\n",
    "        else:\n",
    "            print(\"No tasks to execute\")\n",
    "\n",
    "    def show_tasks(self):\n",
    "        print(f\"Task Queue: {list(self.queue)}\")\n",
    "\n",
    "# Example usage\n",
    "scheduler = TaskScheduler()\n",
    "scheduler.add_task(\"Clean room\", 2)\n",
    "scheduler.add_task(\"Do homework\", 1)\n",
    "scheduler.execute_task()  # Output: Executing task: Do homework\n",
    "scheduler.show_tasks()    # Output: Task Queue: [('Clean room', 2)]\n"
   ]
  },
  {
   "cell_type": "code",
   "execution_count": 3,
   "metadata": {},
   "outputs": [
    {
     "name": "stdout",
     "output_type": "stream",
     "text": [
      "True\n",
      "False\n"
     ]
    }
   ],
   "source": [
    "#Exercise 2: Palindrome Checker\n",
    "from collections import deque\n",
    "\n",
    "def check_palindrome(s):\n",
    "    s = ''.join(filter(str.isalnum, s)).lower()\n",
    "    queue = deque(s)\n",
    "    \n",
    "    while len(queue) > 1:\n",
    "        if queue.popleft() != queue.pop():\n",
    "            return False\n",
    "    return True\n",
    "\n",
    "# Example usage\n",
    "print(check_palindrome(\"Racecar\"))  # Output: True\n",
    "print(check_palindrome(\"hello\"))    # Output: False\n"
   ]
  },
  {
   "cell_type": "code",
   "execution_count": 4,
   "metadata": {},
   "outputs": [],
   "source": [
    "#Exercise 3: Merge Two Sorted Linked Lists\n",
    "#Part 1: Create The Node Class\n",
    "class Node:\n",
    "    def __init__(self, value):\n",
    "        self.value = value\n",
    "        self.next = None\n"
   ]
  },
  {
   "cell_type": "code",
   "execution_count": 5,
   "metadata": {},
   "outputs": [],
   "source": [
    "#Exercise 3: Merge Two Sorted Linked Lists\n",
    "#Part 2: Create The LinkedList Class\n",
    "class LinkedList:\n",
    "    def __init__(self):\n",
    "        self.head = None\n",
    "\n",
    "    def append(self, value):\n",
    "        new_node = Node(value)\n",
    "        if not self.head:\n",
    "            self.head = new_node\n",
    "        else:\n",
    "            current = self.head\n",
    "            while current.next:\n",
    "                current = current.next\n",
    "            current.next = new_node\n"
   ]
  },
  {
   "cell_type": "code",
   "execution_count": 6,
   "metadata": {},
   "outputs": [
    {
     "name": "stdout",
     "output_type": "stream",
     "text": [
      "1 -> 2 -> 3 -> 4 -> 5 -> 6 -> None\n"
     ]
    }
   ],
   "source": [
    "#Exercise 3: Merge Two Sorted Linked Lists\n",
    "#Part 3: Implement The Merge_sorted_linked_lists Function\n",
    "def merge_sorted_linked_lists(list1, list2):\n",
    "    dummy = Node(0)\n",
    "    current = dummy\n",
    "    p1 = list1.head\n",
    "    p2 = list2.head\n",
    "\n",
    "    while p1 and p2:\n",
    "        if p1.value < p2.value:\n",
    "            current.next = p1\n",
    "            p1 = p1.next\n",
    "        else:\n",
    "            current.next = p2\n",
    "            p2 = p2.next\n",
    "        current = current.next\n",
    "\n",
    "    if p1:\n",
    "        current.next = p1\n",
    "    if p2:\n",
    "        current.next = p2\n",
    "\n",
    "    return dummy.next\n",
    "\n",
    "# Helper function to print the linked list\n",
    "def print_linked_list(head):\n",
    "    current = head\n",
    "    while current:\n",
    "        print(current.value, end=\" -> \")\n",
    "        current = current.next\n",
    "    print(\"None\")\n",
    "\n",
    "# Example usage\n",
    "list1 = LinkedList()\n",
    "list1.append(1)\n",
    "list1.append(3)\n",
    "list1.append(5)\n",
    "\n",
    "list2 = LinkedList()\n",
    "list2.append(2)\n",
    "list2.append(4)\n",
    "list2.append(6)\n",
    "\n",
    "merged_head = merge_sorted_linked_lists(list1, list2)\n",
    "print_linked_list(merged_head)  # Output: 1 -> 2 -> 3 -> 4 -> 5 -> 6 -> None\n"
   ]
  }
 ],
 "metadata": {
  "kernelspec": {
   "display_name": "Python 3",
   "language": "python",
   "name": "python3"
  },
  "language_info": {
   "codemirror_mode": {
    "name": "ipython",
    "version": 3
   },
   "file_extension": ".py",
   "mimetype": "text/x-python",
   "name": "python",
   "nbconvert_exporter": "python",
   "pygments_lexer": "ipython3",
   "version": "3.12.3"
  }
 },
 "nbformat": 4,
 "nbformat_minor": 2
}
