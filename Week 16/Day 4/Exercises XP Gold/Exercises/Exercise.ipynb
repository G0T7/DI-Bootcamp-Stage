{
 "cells": [
  {
   "cell_type": "code",
   "execution_count": 1,
   "metadata": {},
   "outputs": [
    {
     "name": "stdout",
     "output_type": "stream",
     "text": [
      "24\n"
     ]
    }
   ],
   "source": [
    "#Exercise 1: Sum Of A List\n",
    "def recursive_sum(input_list):\n",
    "    if not input_list:\n",
    "        return 0\n",
    "    else:\n",
    "        return input_list[0] + recursive_sum(input_list[1:])\n",
    "\n",
    "# Test the function\n",
    "print(recursive_sum([2, 4, 5, 6, 7]))  # Output: 24\n"
   ]
  },
  {
   "cell_type": "code",
   "execution_count": 2,
   "metadata": {},
   "outputs": [
    {
     "name": "stdout",
     "output_type": "stream",
     "text": [
      "!dlroW olleH\n"
     ]
    }
   ],
   "source": [
    "#Exercise 2: Reverse A String\n",
    "def reverse_string(input_string):\n",
    "    if len(input_string) == 0:\n",
    "        return input_string\n",
    "    else:\n",
    "        return reverse_string(input_string[1:]) + input_string[0]\n",
    "\n",
    "# Test the function\n",
    "print(reverse_string(\"Hello World!\"))  # Output: \"!dlroW olleH\"\n",
    "\n"
   ]
  },
  {
   "cell_type": "code",
   "execution_count": 3,
   "metadata": {},
   "outputs": [
    {
     "name": "stdout",
     "output_type": "stream",
     "text": [
      "8\n"
     ]
    }
   ],
   "source": [
    "#Exercise 3: Power Of A Number\n",
    "def power(base, exponent):\n",
    "    if exponent == 0:\n",
    "        return 1\n",
    "    else:\n",
    "        return base * power(base, exponent - 1)\n",
    "\n",
    "# Test the function\n",
    "print(power(2, 3))  # Output: 8\n",
    "\n"
   ]
  },
  {
   "cell_type": "code",
   "execution_count": null,
   "metadata": {},
   "outputs": [],
   "source": []
  }
 ],
 "metadata": {
  "kernelspec": {
   "display_name": "Python 3",
   "language": "python",
   "name": "python3"
  },
  "language_info": {
   "codemirror_mode": {
    "name": "ipython",
    "version": 3
   },
   "file_extension": ".py",
   "mimetype": "text/x-python",
   "name": "python",
   "nbconvert_exporter": "python",
   "pygments_lexer": "ipython3",
   "version": "3.12.3"
  }
 },
 "nbformat": 4,
 "nbformat_minor": 2
}
