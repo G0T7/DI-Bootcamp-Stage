{
 "cells": [
  {
   "cell_type": "code",
   "execution_count": 18,
   "metadata": {},
   "outputs": [
    {
     "name": "stdout",
     "output_type": "stream",
     "text": [
      "Original data matrix:\n",
      " [[62. 44. 59. 92. 24.]\n",
      " [48. 26. 59. 65. 83.]\n",
      " [38. 51. 17. 86. 27.]\n",
      " [19. 52.  4. 29. 87.]\n",
      " [62. 94. 44. 51. 91.]]\n"
     ]
    }
   ],
   "source": [
    "# Exercise: Advanced Operations in NumPy\n",
    "\n",
    "import numpy as np\n",
    "\n",
    "# Generate a 5x5 matrix with random integers ranging from 1 to 100\n",
    "data = np.array(np.random.randint(1, 100, size=25), dtype=float).reshape(5, 5)\n",
    "print(\"Original data matrix:\\n\", data)\n"
   ]
  },
  {
   "cell_type": "code",
   "execution_count": 19,
   "metadata": {},
   "outputs": [
    {
     "name": "stdout",
     "output_type": "stream",
     "text": [
      "Data matrix after swapping second and fourth rows:\n",
      " [[62. 44. 59. 92. 24.]\n",
      " [19. 52.  4. 29. 87.]\n",
      " [38. 51. 17. 86. 27.]\n",
      " [48. 26. 59. 65. 83.]\n",
      " [62. 94. 44. 51. 91.]]\n"
     ]
    }
   ],
   "source": [
    "# Swap the second and fourth rows of the data matrix\n",
    "\n",
    "data[[1, 3]] = data[[3, 1]]\n",
    "print(\"Data matrix after swapping second and fourth rows:\\n\", data)\n"
   ]
  },
  {
   "cell_type": "code",
   "execution_count": 20,
   "metadata": {},
   "outputs": [
    {
     "name": "stdout",
     "output_type": "stream",
     "text": [
      "Normalized data matrix:\n",
      " [[0.64444444 0.44444444 0.61111111 0.97777778 0.22222222]\n",
      " [0.16666667 0.53333333 0.         0.27777778 0.92222222]\n",
      " [0.37777778 0.52222222 0.14444444 0.91111111 0.25555556]\n",
      " [0.48888889 0.24444444 0.61111111 0.67777778 0.87777778]\n",
      " [0.64444444 1.         0.44444444 0.52222222 0.96666667]]\n"
     ]
    }
   ],
   "source": [
    "# Normalize all elements in the data matrix\n",
    "\n",
    "normalized_data = (data - np.min(data)) / (np.max(data) - np.min(data))\n",
    "print(\"Normalized data matrix:\\n\", normalized_data)\n"
   ]
  },
  {
   "cell_type": "code",
   "execution_count": 21,
   "metadata": {},
   "outputs": [
    {
     "name": "stdout",
     "output_type": "stream",
     "text": [
      "Z-score normalized data matrix:\n",
      " [[ 0.37015157 -0.33564591  0.25251865  1.5464807  -1.11986533]\n",
      " [-1.31592019 -0.02195814 -1.90408475 -0.92381048  1.35042584]\n",
      " [-0.57091174 -0.06116911 -1.39434213  1.31121487 -1.00223242]\n",
      " [-0.17880203 -1.04144339  0.25251865  0.48778448  1.19358196]\n",
      " [ 0.37015157  1.62490264 -0.33564591 -0.06116911  1.50726972]]\n"
     ]
    }
   ],
   "source": [
    "# Z-score normalization\n",
    "\n",
    "z_score_data = (data - np.mean(data)) / np.std(data)\n",
    "print(\"Z-score normalized data matrix:\\n\", z_score_data)\n"
   ]
  },
  {
   "cell_type": "code",
   "execution_count": 22,
   "metadata": {},
   "outputs": [
    {
     "name": "stdout",
     "output_type": "stream",
     "text": [
      "Sub-arrays:\n",
      " [array([62., 44., 59., 92., 24.]), array([19., 52.,  4., 29., 87.]), array([38., 51., 17., 86., 27.]), array([48., 26., 59., 65., 83.]), array([62., 94., 44., 51., 91.])]\n"
     ]
    }
   ],
   "source": [
    "# Reshape the data matrix into a vector and split into five equal-sized sub-arrays\n",
    "\n",
    "data_vector = np.ravel(data)\n",
    "sub_arrays = np.array_split(data_vector, 5)\n",
    "print(\"Sub-arrays:\\n\", sub_arrays)\n"
   ]
  },
  {
   "cell_type": "code",
   "execution_count": 23,
   "metadata": {},
   "outputs": [
    {
     "name": "stdout",
     "output_type": "stream",
     "text": [
      "Dot product of the two vectors: 198\n"
     ]
    }
   ],
   "source": [
    "# Create two vectors of size 5\n",
    "\n",
    "vector1 = np.array([3, 5, 6, 7, 8])\n",
    "vector2 = np.array([2, 4, 6, 8, 10])\n",
    "\n",
    "# Compute the dot product\n",
    "\n",
    "dot_product = np.dot(vector1, vector2)\n",
    "print(\"Dot product of the two vectors:\", dot_product)\n"
   ]
  },
  {
   "cell_type": "code",
   "execution_count": 24,
   "metadata": {},
   "outputs": [
    {
     "name": "stdout",
     "output_type": "stream",
     "text": [
      "Result of matrix multiplication:\n",
      " [[ 6091.  6734. 10661.]\n",
      " [ 2984.  1681.  2602.]\n",
      " [ 4005.  3266.  5175.]]\n"
     ]
    }
   ],
   "source": [
    "# Create another 3x3 matrix with any values\n",
    "\n",
    "data2 = np.random.randint(1, 100, size=(3, 3))\n",
    "\n",
    "# Perform matrix multiplication with the first 3x3 part of `data`\n",
    "\n",
    "matrix_multiplication_result = np.dot(data[:3, :3], data2)\n",
    "print(\"Result of matrix multiplication:\\n\", matrix_multiplication_result)\n"
   ]
  },
  {
   "cell_type": "code",
   "execution_count": 25,
   "metadata": {},
   "outputs": [
    {
     "name": "stdout",
     "output_type": "stream",
     "text": [
      "Inverse of the scaled identity matrix:\n",
      " [[0.5 0.  0. ]\n",
      " [0.  0.5 0. ]\n",
      " [0.  0.  0.5]]\n"
     ]
    }
   ],
   "source": [
    "# Create a 3x3 identity matrix, multiply it with 2 and compute its inverse\n",
    "\n",
    "identity_matrix = np.eye(3) * 2\n",
    "inverse_matrix = np.linalg.inv(identity_matrix)\n",
    "print(\"Inverse of the scaled identity matrix:\\n\", inverse_matrix)\n"
   ]
  },
  {
   "cell_type": "code",
   "execution_count": 26,
   "metadata": {},
   "outputs": [
    {
     "name": "stdout",
     "output_type": "stream",
     "text": [
      "Eigenvalues:\n",
      " [112.29320915  -8.20028179  26.90707264]\n",
      "Eigenvectors:\n",
      " [[-0.8243555  -0.69497901  0.79903482]\n",
      " [-0.29195099  0.17297165 -0.60066427]\n",
      " [-0.48497694  0.69791474 -0.02730921]]\n"
     ]
    }
   ],
   "source": [
    "# Compute the eigenvalues and eigenvectors for the first 3x3 part of the data matrix\n",
    "\n",
    "eigenvalues, eigenvectors = np.linalg.eig(data[:3, :3])\n",
    "print(\"Eigenvalues:\\n\", eigenvalues)\n",
    "print(\"Eigenvectors:\\n\", eigenvectors)\n"
   ]
  },
  {
   "cell_type": "code",
   "execution_count": 27,
   "metadata": {},
   "outputs": [
    {
     "name": "stdout",
     "output_type": "stream",
     "text": [
      "Data matrix with NaNs:\n",
      " [[62. nan 59. 92. 24.]\n",
      " [19. nan  4. 29. 87.]\n",
      " [38. 51. nan nan nan]\n",
      " [48. 26. 59. 65. 83.]\n",
      " [62. 94. 44. 51. 91.]]\n",
      "Indices of missing values:\n",
      " [[0 1]\n",
      " [1 1]\n",
      " [2 2]\n",
      " [2 3]\n",
      " [2 4]]\n"
     ]
    }
   ],
   "source": [
    "# Step 9: Replace random 5 elements with np.nan\n",
    "\n",
    "indices = np.random.choice(data.size, 5, replace=False)\n",
    "data_flat = data.flatten()\n",
    "data_flat[indices] = np.nan\n",
    "data_with_nan = data_flat.reshape(5, 5)\n",
    "print(\"Data matrix with NaNs:\\n\", data_with_nan)\n",
    "\n",
    "# Find the indices of the missing values\n",
    "\n",
    "nan_indices = np.argwhere(np.isnan(data_with_nan))\n",
    "print(\"Indices of missing values:\\n\", nan_indices)"
   ]
  },
  {
   "cell_type": "code",
   "execution_count": 28,
   "metadata": {},
   "outputs": [
    {
     "name": "stdout",
     "output_type": "stream",
     "text": [
      "Data matrix with missing values replaced by the mean:\n",
      " [[62.  54.4 59.  92.  24. ]\n",
      " [19.  54.4  4.  29.  87. ]\n",
      " [38.  51.  54.4 54.4 54.4]\n",
      " [48.  26.  59.  65.  83. ]\n",
      " [62.  94.  44.  51.  91. ]]\n"
     ]
    }
   ],
   "source": [
    "# Step 10: Replace the missing values with the mean of the matrix\n",
    "\n",
    "mean_value = np.nanmean(data_with_nan)\n",
    "data_filled = np.where(np.isnan(data_with_nan), mean_value, data_with_nan)\n",
    "print(\"Data matrix with missing values replaced by the mean:\\n\", data_filled)"
   ]
  }
 ],
 "metadata": {
  "kernelspec": {
   "display_name": "Python 3",
   "language": "python",
   "name": "python3"
  },
  "language_info": {
   "codemirror_mode": {
    "name": "ipython",
    "version": 3
   },
   "file_extension": ".py",
   "mimetype": "text/x-python",
   "name": "python",
   "nbconvert_exporter": "python",
   "pygments_lexer": "ipython3",
   "version": "3.12.3"
  }
 },
 "nbformat": 4,
 "nbformat_minor": 2
}
