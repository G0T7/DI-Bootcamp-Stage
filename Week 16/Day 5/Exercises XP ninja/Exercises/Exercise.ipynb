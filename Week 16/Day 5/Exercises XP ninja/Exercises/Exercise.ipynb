{
 "cells": [
  {
   "cell_type": "code",
   "execution_count": 1,
   "metadata": {},
   "outputs": [
    {
     "name": "stdout",
     "output_type": "stream",
     "text": [
      "Checkerboard 8x8 matrix:\n",
      " [[0 1 0 1 0 1 0 1]\n",
      " [1 0 1 0 1 0 1 0]\n",
      " [0 1 0 1 0 1 0 1]\n",
      " [1 0 1 0 1 0 1 0]\n",
      " [0 1 0 1 0 1 0 1]\n",
      " [1 0 1 0 1 0 1 0]\n",
      " [0 1 0 1 0 1 0 1]\n",
      " [1 0 1 0 1 0 1 0]]\n"
     ]
    }
   ],
   "source": [
    "# Exercise: Advanced NumPy Techniques\n",
    "import numpy as np\n",
    "\n",
    "# Create a checkerboard 8x8 matrix\n",
    "checkerboard_matrix = np.tile([[0, 1], [1, 0]], (4, 4))\n",
    "print(\"Checkerboard 8x8 matrix:\\n\", checkerboard_matrix)\n"
   ]
  },
  {
   "cell_type": "code",
   "execution_count": 2,
   "metadata": {},
   "outputs": [
    {
     "name": "stdout",
     "output_type": "stream",
     "text": [
      "2D array with dtype numpy.int16:\n",
      " [[0 0 0 0]\n",
      " [0 0 0 0]]\n",
      "dtype of the array: int16\n"
     ]
    }
   ],
   "source": [
    "# Create a 2D array of shape (2,4) with dtype numpy.int16\n",
    "\n",
    "array_2d_int16 = np.zeros((2, 4), dtype=np.int16)\n",
    "print(\"2D array with dtype numpy.int16:\\n\", array_2d_int16)\n",
    "print(\"dtype of the array:\", array_2d_int16.dtype)\n"
   ]
  },
  {
   "cell_type": "code",
   "execution_count": 3,
   "metadata": {},
   "outputs": [
    {
     "name": "stdout",
     "output_type": "stream",
     "text": [
      "Result of 5x3 multiplied by 3x2:\n",
      " [[0.81194768 0.4633466 ]\n",
      " [1.03630849 0.56794244]\n",
      " [0.4194388  0.08459034]\n",
      " [0.66768112 0.26326861]\n",
      " [0.38911425 0.21725946]]\n"
     ]
    }
   ],
   "source": [
    "# Multiply a 5x3 matrix by a 3x2 matrix\n",
    "\n",
    "matrix_5x3 = np.random.random((5, 3))\n",
    "matrix_3x2 = np.random.random((3, 2))\n",
    "result_matrix = np.dot(matrix_5x3, matrix_3x2)\n",
    "print(\"Result of 5x3 multiplied by 3x2:\\n\", result_matrix)\n"
   ]
  },
  {
   "cell_type": "code",
   "execution_count": 4,
   "metadata": {},
   "outputs": [
    {
     "name": "stdout",
     "output_type": "stream",
     "text": [
      "Array with negated elements between 3 and 8:\n",
      " [ 1  2  3 -4 -5 -6 -7  8  9]\n"
     ]
    }
   ],
   "source": [
    "# Negate all elements which are between 3 and 8\n",
    "\n",
    "array_1d = np.array([1, 2, 3, 4, 5, 6, 7, 8, 9])\n",
    "array_1d[(array_1d > 3) & (array_1d < 8)] *= -1\n",
    "print(\"Array with negated elements between 3 and 8:\\n\", array_1d)\n"
   ]
  },
  {
   "cell_type": "code",
   "execution_count": 5,
   "metadata": {},
   "outputs": [
    {
     "name": "stdout",
     "output_type": "stream",
     "text": [
      "Common values between two arrays: [3 4]\n"
     ]
    }
   ],
   "source": [
    "# Find common values between two arrays\n",
    "\n",
    "array1 = np.array([1, 2, 3, 4])\n",
    "array2 = np.array([3, 4, 5, 6])\n",
    "common_values = np.intersect1d(array1, array2)\n",
    "print(\"Common values between two arrays:\", common_values)\n"
   ]
  },
  {
   "cell_type": "code",
   "execution_count": 6,
   "metadata": {},
   "outputs": [
    {
     "name": "stdout",
     "output_type": "stream",
     "text": [
      "[inf]\n"
     ]
    }
   ],
   "source": [
    "# Ignore all numpy warnings\n",
    "\n",
    "np.seterr(all='ignore')\n",
    "\n",
    "# Example to trigger a warning\n",
    "array_warning = np.array([0])\n",
    "print(1 / array_warning)\n"
   ]
  },
  {
   "cell_type": "code",
   "execution_count": 7,
   "metadata": {},
   "outputs": [
    {
     "name": "stdout",
     "output_type": "stream",
     "text": [
      "Array after swapping rows 0 and 1:\n",
      " [[3 4 5]\n",
      " [0 1 2]\n",
      " [6 7 8]]\n"
     ]
    }
   ],
   "source": [
    "# Swap two rows in a 2D numpy array\n",
    "\n",
    "array_2d = np.array([[0, 1, 2], [3, 4, 5], [6, 7, 8]])\n",
    "array_2d[[0, 1]] = array_2d[[1, 0]]\n",
    "print(\"Array after swapping rows 0 and 1:\\n\", array_2d)\n"
   ]
  },
  {
   "cell_type": "code",
   "execution_count": 8,
   "metadata": {},
   "outputs": [
    {
     "name": "stdout",
     "output_type": "stream",
     "text": [
      "Yesterday: 2024-08-02\n",
      "Today: 2024-08-03\n",
      "Tomorrow: 2024-08-04\n"
     ]
    }
   ],
   "source": [
    "# Get the dates of yesterday, today and tomorrow\n",
    "\n",
    "today = np.datetime64('today', 'D')\n",
    "yesterday = today - np.timedelta64(1, 'D')\n",
    "tomorrow = today + np.timedelta64(1, 'D')\n",
    "print(\"Yesterday:\", yesterday)\n",
    "print(\"Today:\", today)\n",
    "print(\"Tomorrow:\", tomorrow)\n"
   ]
  },
  {
   "cell_type": "code",
   "execution_count": 9,
   "metadata": {},
   "outputs": [
    {
     "name": "stdout",
     "output_type": "stream",
     "text": [
      "Dates in August 2023:\n",
      " ['2023-08-01' '2023-08-02' '2023-08-03' '2023-08-04' '2023-08-05'\n",
      " '2023-08-06' '2023-08-07' '2023-08-08' '2023-08-09' '2023-08-10'\n",
      " '2023-08-11' '2023-08-12' '2023-08-13' '2023-08-14' '2023-08-15'\n",
      " '2023-08-16' '2023-08-17' '2023-08-18' '2023-08-19' '2023-08-20'\n",
      " '2023-08-21' '2023-08-22' '2023-08-23' '2023-08-24' '2023-08-25'\n",
      " '2023-08-26' '2023-08-27' '2023-08-28' '2023-08-29' '2023-08-30'\n",
      " '2023-08-31']\n"
     ]
    }
   ],
   "source": [
    "# Get all dates in August 2023\n",
    "\n",
    "dates_august_2023 = np.arange('2023-08', '2023-09', dtype='datetime64[D]')\n",
    "print(\"Dates in August 2023:\\n\", dates_august_2023)\n"
   ]
  },
  {
   "cell_type": "code",
   "execution_count": 10,
   "metadata": {},
   "outputs": [
    {
     "name": "stdout",
     "output_type": "stream",
     "text": [
      "Random array: [7.56215044 3.63941073 2.01066765 4.98554679 3.14314895]\n",
      "Integer part using np.floor: [7. 3. 2. 4. 3.]\n",
      "Integer part using np.ceil minus 1: [7. 3. 2. 4. 3.]\n",
      "Integer part using np.trunc: [7. 3. 2. 4. 3.]\n",
      "Integer part using .astype(int): [7 3 2 4 3]\n",
      "Integer part using array indexing: [7. 3. 2. 4. 3.]\n"
     ]
    }
   ],
   "source": [
    "# Extract the integer part of a random array\n",
    "\n",
    "random_array = np.random.random(5) * 10\n",
    "print(\"Random array:\", random_array)\n",
    "\n",
    "# Method 1: Using np.floor\n",
    "\n",
    "integers_floor = np.floor(random_array)\n",
    "print(\"Integer part using np.floor:\", integers_floor)\n",
    "\n",
    "# Method 2: Using np.ceil minus 1\n",
    "\n",
    "integers_ceil_minus_1 = np.ceil(random_array) - 1\n",
    "print(\"Integer part using np.ceil minus 1:\", integers_ceil_minus_1)\n",
    "\n",
    "# Method 3: Using np.trunc\n",
    "\n",
    "integers_trunc = np.trunc(random_array)\n",
    "print(\"Integer part using np.trunc:\", integers_trunc)\n",
    "\n",
    "# Method 4: Casting the array to int using .astype(int)\n",
    "\n",
    "integers_astype = random_array.astype(int)\n",
    "print(\"Integer part using .astype(int):\", integers_astype)\n",
    "\n",
    "# Method 5: Using array indexing\n",
    "\n",
    "integers_indexing = random_array // 1\n",
    "print(\"Integer part using array indexing:\", integers_indexing)\n"
   ]
  },
  {
   "cell_type": "code",
   "execution_count": 11,
   "metadata": {},
   "outputs": [
    {
     "name": "stdout",
     "output_type": "stream",
     "text": [
      "Array values: [7.77896899 3.06495656 1.83400604 1.03091955 3.49678516 6.32378214\n",
      " 6.12229582 2.27547329 7.59786703 7.96195674]\n",
      "Closest value to 5.5 : 6.122295821476017\n"
     ]
    }
   ],
   "source": [
    "# Find the closest value to a given scalar in an array\n",
    "\n",
    "array_values = np.random.random(10) * 10\n",
    "scalar_value = 5.5\n",
    "closest_value = array_values[np.abs(array_values - scalar_value).argmin()]\n",
    "print(\"Array values:\", array_values)\n",
    "print(\"Closest value to\", scalar_value, \":\", closest_value)\n"
   ]
  },
  {
   "cell_type": "code",
   "execution_count": 12,
   "metadata": {},
   "outputs": [
    {
     "name": "stdout",
     "output_type": "stream",
     "text": [
      "Index: (0, 0) Value: 0\n",
      "Index: (0, 1) Value: 1\n",
      "Index: (0, 2) Value: 2\n",
      "Index: (1, 0) Value: 3\n",
      "Index: (1, 1) Value: 4\n",
      "Index: (1, 2) Value: 5\n",
      "Index: (2, 0) Value: 6\n",
      "Index: (2, 1) Value: 7\n",
      "Index: (2, 2) Value: 8\n"
     ]
    }
   ],
   "source": [
    "# Enumerate over a numpy array using np.ndenumerate\n",
    "\n",
    "array_2d = np.array([[0, 1, 2], [3, 4, 5], [6, 7, 8]])\n",
    "for index, value in np.ndenumerate(array_2d):\n",
    "    print(\"Index:\", index, \"Value:\", value)\n"
   ]
  },
  {
   "cell_type": "code",
   "execution_count": 13,
   "metadata": {},
   "outputs": [
    {
     "name": "stdout",
     "output_type": "stream",
     "text": [
      "2D array with random elements placed:\n",
      " [[0.         0.         0.         0.31127141 0.        ]\n",
      " [0.         0.         0.         0.         0.        ]\n",
      " [0.         0.64216403 0.16973057 0.         0.        ]\n",
      " [0.         0.40357828 0.         0.         0.03384369]\n",
      " [0.         0.         0.         0.         0.        ]]\n"
     ]
    }
   ],
   "source": [
    "# Randomly place p elements in a 2D array\n",
    "\n",
    "array_2d = np.zeros((5, 5))\n",
    "p = 5\n",
    "indices = np.random.choice(array_2d.size, p, replace=False)\n",
    "np.put(array_2d, indices, np.random.random(p))\n",
    "print(\"2D array with random elements placed:\\n\", array_2d)\n"
   ]
  },
  {
   "cell_type": "code",
   "execution_count": 14,
   "metadata": {},
   "outputs": [
    {
     "name": "stdout",
     "output_type": "stream",
     "text": [
      "Array values: [6.65827251 7.49082813 6.09328133 1.14542918 4.39527337 0.04242662\n",
      " 4.89051776 8.10305036 9.91470785 5.10952393]\n",
      "Nearest value to 5.5 : 5.109523928969027\n"
     ]
    }
   ],
   "source": [
    "# Find the nearest value to a given scalar in an array\n",
    "\n",
    "array_values = np.random.random(10) * 10\n",
    "scalar_value = 5.5\n",
    "nearest_value = array_values[np.abs(array_values - scalar_value).argmin()]\n",
    "print(\"Array values:\", array_values)\n",
    "print(\"Nearest value to\", scalar_value, \":\", nearest_value)\n"
   ]
  },
  {
   "cell_type": "code",
   "execution_count": 15,
   "metadata": {},
   "outputs": [
    {
     "name": "stdout",
     "output_type": "stream",
     "text": [
      "Index of maximum value along the last axis:\n",
      " [[[1 5 1 1 2]\n",
      "  [2 2 4 2 3]\n",
      "  [0 4 0 4 0]\n",
      "  [0 5 2 0 1]]\n",
      "\n",
      " [[2 3 2 3 2]\n",
      "  [1 5 2 5 1]\n",
      "  [0 2 4 1 0]\n",
      "  [3 2 3 3 4]]\n",
      "\n",
      " [[2 5 4 1 5]\n",
      "  [1 0 3 0 4]\n",
      "  [3 1 4 5 4]\n",
      "  [0 5 5 5 2]]]\n"
     ]
    }
   ],
   "source": [
    "# Get the index of the maximum value along the last axis\n",
    "\n",
    "array_4d = np.random.random((3, 4, 5, 6))\n",
    "last_axis_index = np.argmax(array_4d, axis=-1)\n",
    "print(\"Index of maximum value along the last axis:\\n\", last_axis_index)\n"
   ]
  },
  {
   "cell_type": "code",
   "execution_count": 16,
   "metadata": {},
   "outputs": [
    {
     "name": "stdout",
     "output_type": "stream",
     "text": [
      "Sampled points along the path:\n",
      " [[ 0.          0.        ]\n",
      " [ 1.04464858  0.862811  ]\n",
      " [ 2.3227204   0.72684549]\n",
      " [ 3.3292746  -0.18563532]\n",
      " [ 4.4322925  -0.95701871]\n",
      " [ 5.6756512  -0.5689128 ]\n",
      " [ 6.66177484  0.36793081]\n",
      " [ 7.83357915  0.99486774]\n",
      " [ 9.01651772  0.39591304]\n",
      " [10.         -0.54402111]]\n"
     ]
    }
   ],
   "source": [
    "# Sample a path using equidistant samples\n",
    "\n",
    "X = np.linspace(0, 10, 50)\n",
    "Y = np.sin(X)\n",
    "distance = np.sqrt(np.diff(X)**2 + np.diff(Y)**2)\n",
    "cumulative_distance = np.insert(np.cumsum(distance), 0, 0)\n",
    "equidistant_samples = np.linspace(0, cumulative_distance[-1], 10)\n",
    "sampled_points_X = np.interp(equidistant_samples, cumulative_distance, X)\n",
    "sampled_points_Y = np.interp(equidistant_samples, cumulative_distance, Y)\n",
    "print(\"Sampled points along the path:\\n\", np.vstack((sampled_points_X, sampled_points_Y)).T)\n"
   ]
  }
 ],
 "metadata": {
  "kernelspec": {
   "display_name": "Python 3",
   "language": "python",
   "name": "python3"
  },
  "language_info": {
   "codemirror_mode": {
    "name": "ipython",
    "version": 3
   },
   "file_extension": ".py",
   "mimetype": "text/x-python",
   "name": "python",
   "nbconvert_exporter": "python",
   "pygments_lexer": "ipython3",
   "version": "3.12.3"
  }
 },
 "nbformat": 4,
 "nbformat_minor": 2
}
