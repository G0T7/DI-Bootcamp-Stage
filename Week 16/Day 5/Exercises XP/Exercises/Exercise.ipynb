{
 "cells": [
  {
   "cell_type": "code",
   "execution_count": 1,
   "metadata": {},
   "outputs": [],
   "source": [
    "# Import the numpy package under the name np\n",
    "\n",
    "import numpy as np"
   ]
  },
  {
   "cell_type": "code",
   "execution_count": 2,
   "metadata": {},
   "outputs": [
    {
     "name": "stdout",
     "output_type": "stream",
     "text": [
      "Vector of zeros: [0. 0. 0. 0. 0. 0. 0. 0. 0. 0.]\n"
     ]
    }
   ],
   "source": [
    "# Create a vector of zeros with size 10 using np.zeros()\n",
    "\n",
    "vector_zeros = np.zeros(10)\n",
    "print(\"Vector of zeros:\", vector_zeros)"
   ]
  },
  {
   "cell_type": "code",
   "execution_count": 3,
   "metadata": {},
   "outputs": [
    {
     "name": "stdout",
     "output_type": "stream",
     "text": [
      "Memory size of the array: 80\n"
     ]
    }
   ],
   "source": [
    "# Compute the memory size of the array\n",
    "\n",
    "memory_size = vector_zeros.size * vector_zeros.itemsize\n",
    "print(\"Memory size of the array:\", memory_size)"
   ]
  },
  {
   "cell_type": "code",
   "execution_count": null,
   "metadata": {},
   "outputs": [],
   "source": [
    "# Retrieve the documentation of the numpy add function from the command line\n",
    "# You can do this in a Python environment by typing: np.info(np.add)\n",
    "# In a Jupyter Notebook, you can use the following:\n",
    "# ?np.add"
   ]
  },
  {
   "cell_type": "code",
   "execution_count": 4,
   "metadata": {},
   "outputs": [
    {
     "name": "stdout",
     "output_type": "stream",
     "text": [
      "Vector with values from 10 to 49: [10 11 12 13 14 15 16 17 18 19 20 21 22 23 24 25 26 27 28 29 30 31 32 33\n",
      " 34 35 36 37 38 39 40 41 42 43 44 45 46 47 48 49]\n"
     ]
    }
   ],
   "source": [
    "# Create a vector with values ranging from 10 to 49 using np.arange()\n",
    "\n",
    "vector_range = np.arange(10, 50)\n",
    "print(\"Vector with values from 10 to 49:\", vector_range)"
   ]
  },
  {
   "cell_type": "code",
   "execution_count": 5,
   "metadata": {},
   "outputs": [
    {
     "name": "stdout",
     "output_type": "stream",
     "text": [
      "Reversed vector: [49 48 47 46 45 44 43 42 41 40 39 38 37 36 35 34 33 32 31 30 29 28 27 26\n",
      " 25 24 23 22 21 20 19 18 17 16 15 14 13 12 11 10]\n"
     ]
    }
   ],
   "source": [
    "# Reverse the vector using slicing\n",
    "\n",
    "reversed_vector = vector_range[::-1]\n",
    "print(\"Reversed vector:\", reversed_vector)"
   ]
  },
  {
   "cell_type": "code",
   "execution_count": 6,
   "metadata": {},
   "outputs": [
    {
     "name": "stdout",
     "output_type": "stream",
     "text": [
      "3x3 matrix with values from 0 to 8:\n",
      " [[0 1 2]\n",
      " [3 4 5]\n",
      " [6 7 8]]\n"
     ]
    }
   ],
   "source": [
    "# Create a 3x3 matrix with values ranging from 0 to 8 using np.reshape()\n",
    "\n",
    "matrix_3x3 = np.arange(9).reshape(3, 3)\n",
    "print(\"3x3 matrix with values from 0 to 8:\\n\", matrix_3x3)"
   ]
  },
  {
   "cell_type": "code",
   "execution_count": 7,
   "metadata": {},
   "outputs": [
    {
     "name": "stdout",
     "output_type": "stream",
     "text": [
      "Indices of non-zero elements: (array([0, 1, 4], dtype=int64),)\n"
     ]
    }
   ],
   "source": [
    "# Find indices of non-zero elements from [1,2,0,0,4,0] using np.nonzero()\n",
    "\n",
    "array_nonzero = np.array([1, 2, 0, 0, 4, 0])\n",
    "nonzero_indices = np.nonzero(array_nonzero)\n",
    "print(\"Indices of non-zero elements:\", nonzero_indices)"
   ]
  },
  {
   "cell_type": "code",
   "execution_count": 8,
   "metadata": {},
   "outputs": [
    {
     "name": "stdout",
     "output_type": "stream",
     "text": [
      "3x3 identity matrix:\n",
      " [[1. 0. 0.]\n",
      " [0. 1. 0.]\n",
      " [0. 0. 1.]]\n"
     ]
    }
   ],
   "source": [
    "# Create a 3x3 identity matrix using np.eye()\n",
    "\n",
    "identity_matrix = np.eye(3)\n",
    "print(\"3x3 identity matrix:\\n\", identity_matrix)"
   ]
  },
  {
   "cell_type": "code",
   "execution_count": 10,
   "metadata": {},
   "outputs": [
    {
     "name": "stdout",
     "output_type": "stream",
     "text": [
      "5x5 matrix with row values from 0 to 4:\n",
      " [[0 1 2 3 4]\n",
      " [0 1 2 3 4]\n",
      " [0 1 2 3 4]\n",
      " [0 1 2 3 4]\n",
      " [0 1 2 3 4]]\n"
     ]
    }
   ],
   "source": [
    "# Create a 5x5 matrix with row values ranging from 0 to 4\n",
    "\n",
    "matrix_5x5 = np.tile(np.arange(5), (5, 1))\n",
    "print(\"5x5 matrix with row values from 0 to 4:\\n\", matrix_5x5)"
   ]
  },
  {
   "cell_type": "code",
   "execution_count": 11,
   "metadata": {},
   "outputs": [
    {
     "name": "stdout",
     "output_type": "stream",
     "text": [
      "Vector of size 10 with values from 0 to 1 (excluded): [0.09090909 0.18181818 0.27272727 0.36363636 0.45454545 0.54545455\n",
      " 0.63636364 0.72727273 0.81818182 0.90909091]\n"
     ]
    }
   ],
   "source": [
    "# Create a vector of size 10 with values ranging from 0 to 1, both excluded, using np.linspace\n",
    "\n",
    "vector_linspace = np.linspace(0, 1, 12)[1:-1]\n",
    "print(\"Vector of size 10 with values from 0 to 1 (excluded):\", vector_linspace)"
   ]
  },
  {
   "cell_type": "code",
   "execution_count": 9,
   "metadata": {},
   "outputs": [
    {
     "name": "stdout",
     "output_type": "stream",
     "text": [
      "Sorted random vector: [0.01732503 0.17362741 0.17650931 0.1881937  0.23294879 0.32126551\n",
      " 0.41144434 0.57291573 0.77877823 0.78817277]\n"
     ]
    }
   ],
   "source": [
    "# Create a random vector of size 10 and sort it\n",
    "\n",
    "random_vector = np.random.random(10)\n",
    "sorted_vector = np.sort(random_vector)\n",
    "print(\"Sorted random vector:\", sorted_vector)"
   ]
  },
  {
   "cell_type": "code",
   "execution_count": 12,
   "metadata": {},
   "outputs": [
    {
     "name": "stdout",
     "output_type": "stream",
     "text": [
      "Minimum and maximum values for int8: -128 127\n",
      "Minimum and maximum values for int32: -2147483648 2147483647\n",
      "Minimum and maximum values for int64: -9223372036854775808 9223372036854775807\n",
      "Minimum and maximum values for float32: -3.4028235e+38 3.4028235e+38\n",
      "Minimum and maximum values for float64: -1.7976931348623157e+308 1.7976931348623157e+308\n"
     ]
    }
   ],
   "source": [
    "# Print the minimum and maximum representable value for each numpy scalar type (int8, int32, int64, float32, float64)\n",
    "\n",
    "print(\"Minimum and maximum values for int8:\", np.iinfo(np.int8).min, np.iinfo(np.int8).max)\n",
    "print(\"Minimum and maximum values for int32:\", np.iinfo(np.int32).min, np.iinfo(np.int32).max)\n",
    "print(\"Minimum and maximum values for int64:\", np.iinfo(np.int64).min, np.iinfo(np.int64).max)\n",
    "print(\"Minimum and maximum values for float32:\", np.finfo(np.float32).min, np.finfo(np.float32).max)\n",
    "print(\"Minimum and maximum values for float64:\", np.finfo(np.float64).min, np.finfo(np.float64).max)\n"
   ]
  },
  {
   "cell_type": "code",
   "execution_count": 13,
   "metadata": {},
   "outputs": [
    {
     "name": "stdout",
     "output_type": "stream",
     "text": [
      "Converted integer array: [1 2 3]\n"
     ]
    }
   ],
   "source": [
    "# Convert a float (32 bits) array into an integer (32 bits) in place using np.ndarray.astype\n",
    "\n",
    "float_array = np.array([1.5, 2.7, 3.2], dtype=np.float32)\n",
    "int_array = float_array.astype(np.int32)\n",
    "print(\"Converted integer array:\", int_array)"
   ]
  },
  {
   "cell_type": "code",
   "execution_count": 15,
   "metadata": {},
   "outputs": [
    {
     "name": "stdout",
     "output_type": "stream",
     "text": [
      "Matrix with mean subtracted from each row:\n",
      " [[-1.  0.  1.]\n",
      " [-1.  0.  1.]\n",
      " [-1.  0.  1.]]\n"
     ]
    }
   ],
   "source": [
    "# Subtract the mean of each row of a matrix using np.mean with axis=1\n",
    "\n",
    "matrix = np.array([[1, 2, 3], [4, 5, 6], [7, 8, 9]])\n",
    "row_mean_subtracted = matrix - matrix.mean(axis=1, keepdims=True)\n",
    "print(\"Matrix with mean subtracted from each row:\\n\", row_mean_subtracted)"
   ]
  },
  {
   "cell_type": "code",
   "execution_count": 14,
   "metadata": {},
   "outputs": [
    {
     "name": "stdout",
     "output_type": "stream",
     "text": [
      "Array sorted by the second column:\n",
      " [[3 2 1]\n",
      " [6 5 4]\n",
      " [9 8 7]]\n"
     ]
    }
   ],
   "source": [
    "# Sort an array by the nth column using np.argsort\n",
    "\n",
    "array_2d = np.array([[3, 2, 1], [6, 5, 4], [9, 8, 7]])\n",
    "sorted_by_nth_col = array_2d[array_2d[:, 1].argsort()]\n",
    "print(\"Array sorted by the second column:\\n\", sorted_by_nth_col)"
   ]
  },
  {
   "cell_type": "code",
   "execution_count": 16,
   "metadata": {},
   "outputs": [
    {
     "name": "stdout",
     "output_type": "stream",
     "text": [
      "Array with first and second rows swapped:\n",
      " [[3 4 5]\n",
      " [0 1 2]\n",
      " [6 7 8]]\n"
     ]
    }
   ],
   "source": [
    "# Swap two rows of an array using array indexing\n",
    "\n",
    "array_to_swap = np.array([[0, 1, 2], [3, 4, 5], [6, 7, 8]])\n",
    "array_to_swap[[0, 1]] = array_to_swap[[1, 0]]\n",
    "print(\"Array with first and second rows swapped:\\n\", array_to_swap)\n"
   ]
  },
  {
   "cell_type": "code",
   "execution_count": 17,
   "metadata": {},
   "outputs": [
    {
     "name": "stdout",
     "output_type": "stream",
     "text": [
      "Array A from bincount C: [0 0 0 0 1 1 1 3]\n"
     ]
    }
   ],
   "source": [
    "# Given an array C that is a bincount, produce an array A such that np.bincount(A) == C using np.repeat\n",
    "\n",
    "C = np.array([4, 3, 0, 1])\n",
    "A = np.repeat(np.arange(len(C)), C)\n",
    "print(\"Array A from bincount C:\", A)"
   ]
  }
 ],
 "metadata": {
  "kernelspec": {
   "display_name": "Python 3",
   "language": "python",
   "name": "python3"
  },
  "language_info": {
   "codemirror_mode": {
    "name": "ipython",
    "version": 3
   },
   "file_extension": ".py",
   "mimetype": "text/x-python",
   "name": "python",
   "nbconvert_exporter": "python",
   "pygments_lexer": "ipython3",
   "version": "3.12.3"
  }
 },
 "nbformat": 4,
 "nbformat_minor": 2
}
