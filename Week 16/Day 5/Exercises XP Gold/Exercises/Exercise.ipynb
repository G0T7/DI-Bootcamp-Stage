{
 "cells": [
  {
   "cell_type": "code",
   "execution_count": 1,
   "metadata": {},
   "outputs": [
    {
     "name": "stdout",
     "output_type": "stream",
     "text": [
      "3x3x3 array with random values:\n",
      " [[[0.56512562 0.37690822 0.36335043]\n",
      "  [0.09170674 0.431468   0.49550865]\n",
      "  [0.59381577 0.69071516 0.46555168]]\n",
      "\n",
      " [[0.86766232 0.69371573 0.03389919]\n",
      "  [0.55347381 0.6176104  0.5589689 ]\n",
      "  [0.91561348 0.83360141 0.89213807]]\n",
      "\n",
      " [[0.6255666  0.04746589 0.50342827]\n",
      "  [0.80833018 0.36562987 0.69917004]\n",
      "  [0.29988566 0.14856413 0.11692126]]]\n"
     ]
    }
   ],
   "source": [
    "# Exercise: Generation and Manipulation of Numpy Arrays\n",
    "\n",
    "import numpy as np\n",
    "\n",
    "# Create a 3x3x3 array with random values\n",
    "array_3x3x3 = np.random.random((3, 3, 3))\n",
    "print(\"3x3x3 array with random values:\\n\", array_3x3x3)\n"
   ]
  },
  {
   "cell_type": "code",
   "execution_count": 2,
   "metadata": {},
   "outputs": [
    {
     "name": "stdout",
     "output_type": "stream",
     "text": [
      "10x10 array with random values:\n",
      " [[2.67985260e-01 6.62966319e-01 6.55616465e-01 9.64954559e-01\n",
      "  3.58283578e-01 8.55648619e-01 1.59825390e-01 5.21566015e-01\n",
      "  5.04279761e-01 5.47090337e-01]\n",
      " [4.90989478e-01 1.13108211e-01 8.81206152e-01 8.37295810e-01\n",
      "  1.49975690e-01 5.17565134e-01 5.83364753e-01 8.54598714e-01\n",
      "  2.06281855e-01 6.17255495e-01]\n",
      " [4.06872775e-01 4.53966329e-01 2.28137041e-01 3.55015711e-01\n",
      "  9.46731591e-01 1.39131301e-01 9.44876268e-01 4.31828719e-01\n",
      "  8.46079069e-01 6.48909901e-01]\n",
      " [6.57141931e-01 4.29622187e-01 2.37373795e-01 8.28402682e-01\n",
      "  1.12005839e-01 2.00437393e-01 9.16168446e-01 9.42254101e-03\n",
      "  6.43905757e-01 9.86405497e-01]\n",
      " [9.21489485e-01 1.00742210e-01 2.31925634e-01 2.34857244e-01\n",
      "  1.64962920e-01 1.92157402e-01 4.68584898e-01 6.20978638e-01\n",
      "  8.69938304e-01 2.47239638e-01]\n",
      " [6.93727644e-01 6.21359848e-01 9.76367924e-01 8.11497511e-02\n",
      "  7.95526392e-01 5.64750756e-01 5.02389945e-01 2.06594063e-02\n",
      "  1.65990152e-01 9.54845486e-01]\n",
      " [6.25279218e-01 4.09759612e-01 3.17043687e-02 1.30574100e-01\n",
      "  4.06946493e-01 3.37908520e-01 4.65152681e-04 5.17674771e-01\n",
      "  3.53731973e-02 9.94786094e-01]\n",
      " [7.91760900e-01 1.52956697e-01 4.45086130e-01 5.36434472e-01\n",
      "  2.25484466e-01 9.10245095e-01 8.57971130e-01 8.66452315e-01\n",
      "  8.65781986e-01 8.47854478e-01]\n",
      " [6.02779641e-01 8.06264828e-01 8.32119002e-02 3.02244483e-01\n",
      "  9.45388503e-01 5.81153992e-01 8.51890142e-01 3.22146405e-01\n",
      "  3.58352903e-01 3.18800670e-03]\n",
      " [9.75521616e-01 8.81086664e-01 5.41721953e-01 9.11002256e-01\n",
      "  1.99988494e-01 4.81261799e-01 4.78664489e-01 5.28464394e-01\n",
      "  2.06671401e-02 3.11558104e-01]]\n",
      "Minimum value: 0.00046515268087699013\n",
      "Maximum value: 0.9947860938865349\n"
     ]
    }
   ],
   "source": [
    "# Create a 10x10 array with random values\n",
    "\n",
    "array_10x10 = np.random.random((10, 10))\n",
    "min_val = array_10x10.min()\n",
    "max_val = array_10x10.max()\n",
    "print(\"10x10 array with random values:\\n\", array_10x10)\n",
    "print(\"Minimum value:\", min_val)\n",
    "print(\"Maximum value:\", max_val)\n"
   ]
  },
  {
   "cell_type": "code",
   "execution_count": 3,
   "metadata": {},
   "outputs": [
    {
     "name": "stdout",
     "output_type": "stream",
     "text": [
      "Random vector of size 30:\n",
      " [0.2443192  0.50460279 0.69850903 0.07561504 0.78082238 0.25945313\n",
      " 0.12251375 0.72312535 0.28500296 0.14242545 0.83396565 0.70564034\n",
      " 0.65724247 0.51980066 0.47837306 0.66077767 0.59603285 0.9294037\n",
      " 0.38774623 0.05728808 0.29632698 0.84813997 0.30694087 0.73915983\n",
      " 0.88118416 0.61862453 0.83453006 0.20199172 0.44680969 0.1351096 ]\n",
      "Mean value: 0.49904924013154134\n"
     ]
    }
   ],
   "source": [
    "# Create a random vector of size 30\n",
    "\n",
    "vector_30 = np.random.random(30)\n",
    "mean_val = vector_30.mean()\n",
    "print(\"Random vector of size 30:\\n\", vector_30)\n",
    "print(\"Mean value:\", mean_val)\n"
   ]
  },
  {
   "cell_type": "code",
   "execution_count": 4,
   "metadata": {},
   "outputs": [
    {
     "name": "stdout",
     "output_type": "stream",
     "text": [
      "2D array with border of 1 and inside 0:\n",
      " [[1. 1. 1. 1. 1.]\n",
      " [1. 0. 0. 0. 1.]\n",
      " [1. 0. 0. 0. 1.]\n",
      " [1. 0. 0. 0. 1.]\n",
      " [1. 1. 1. 1. 1.]]\n"
     ]
    }
   ],
   "source": [
    "# Create a 2D array with 1 on the border and 0 inside\n",
    "\n",
    "array_2d = np.ones((5, 5))\n",
    "array_2d[1:-1, 1:-1] = 0\n",
    "print(\"2D array with border of 1 and inside 0:\\n\", array_2d)\n"
   ]
  },
  {
   "cell_type": "code",
   "execution_count": 5,
   "metadata": {},
   "outputs": [
    {
     "name": "stdout",
     "output_type": "stream",
     "text": [
      "2D array with border of 1 and inside 0:\n",
      " [[1. 1. 1. 1. 1.]\n",
      " [1. 0. 0. 0. 1.]\n",
      " [1. 0. 0. 0. 1.]\n",
      " [1. 0. 0. 0. 1.]\n",
      " [1. 1. 1. 1. 1.]]\n"
     ]
    }
   ],
   "source": [
    "# Create a 2D array with 1 on the border and 0 inside\n",
    "\n",
    "array_2d = np.ones((5, 5))\n",
    "array_2d[1:-1, 1:-1] = 0\n",
    "print(\"2D array with border of 1 and inside 0:\\n\", array_2d)\n"
   ]
  },
  {
   "cell_type": "code",
   "execution_count": 6,
   "metadata": {},
   "outputs": [
    {
     "name": "stdout",
     "output_type": "stream",
     "text": [
      "Array with added border:\n",
      " [[0. 0. 0. 0. 0.]\n",
      " [0. 1. 1. 1. 0.]\n",
      " [0. 1. 1. 1. 0.]\n",
      " [0. 1. 1. 1. 0.]\n",
      " [0. 0. 0. 0. 0.]]\n"
     ]
    }
   ],
   "source": [
    "# Add a border around an existing array\n",
    "\n",
    "existing_array = np.ones((3, 3))\n",
    "padded_array = np.pad(existing_array, pad_width=1, mode='constant', constant_values=0)\n",
    "print(\"Array with added border:\\n\", padded_array)\n"
   ]
  },
  {
   "cell_type": "code",
   "execution_count": 7,
   "metadata": {},
   "outputs": [
    {
     "name": "stdout",
     "output_type": "stream",
     "text": [
      "Original array: [0 1 2 3 4 5]\n",
      "Modified array: [ 0 -1  2 -1  4 -1]\n"
     ]
    }
   ],
   "source": [
    "# Replace all odd numbers in an array with -1\n",
    "\n",
    "original_array = np.array([0, 1, 2, 3, 4, 5])\n",
    "modified_array = np.where(original_array % 2 == 1, -1, original_array)\n",
    "print(\"Original array:\", original_array)\n",
    "print(\"Modified array:\", modified_array)\n"
   ]
  },
  {
   "cell_type": "code",
   "execution_count": 8,
   "metadata": {},
   "outputs": [
    {
     "name": "stdout",
     "output_type": "stream",
     "text": [
      "5x5 matrix with diagonal values:\n",
      " [[1 0 0 0 0]\n",
      " [0 2 0 0 0]\n",
      " [0 0 3 0 0]\n",
      " [0 0 0 4 0]\n",
      " [0 0 0 0 7]]\n"
     ]
    }
   ],
   "source": [
    "# Create a 5x5 matrix with specific diagonal values\n",
    "\n",
    "diagonal_matrix = np.diag([1, 2, 3, 4, 7])\n",
    "print(\"5x5 matrix with diagonal values:\\n\", diagonal_matrix)\n"
   ]
  },
  {
   "cell_type": "code",
   "execution_count": 10,
   "metadata": {},
   "outputs": [
    {
     "name": "stdout",
     "output_type": "stream",
     "text": [
      "8x8 checkerboard matrix:\n",
      " [[0. 1. 0. 1. 0. 1. 0. 1.]\n",
      " [1. 0. 1. 0. 1. 0. 1. 0.]\n",
      " [0. 1. 0. 1. 0. 1. 0. 1.]\n",
      " [1. 0. 1. 0. 1. 0. 1. 0.]\n",
      " [0. 1. 0. 1. 0. 1. 0. 1.]\n",
      " [1. 0. 1. 0. 1. 0. 1. 0.]\n",
      " [0. 1. 0. 1. 0. 1. 0. 1.]\n",
      " [1. 0. 1. 0. 1. 0. 1. 0.]]\n"
     ]
    }
   ],
   "source": [
    "# Create an 8x8 matrix with a checkerboard pattern\n",
    "\n",
    "checkerboard_matrix = np.zeros((8, 8))\n",
    "checkerboard_matrix[1::2, ::2] = 1\n",
    "checkerboard_matrix[::2, 1::2] = 1\n",
    "print(\"8x8 checkerboard matrix:\\n\", checkerboard_matrix)\n"
   ]
  },
  {
   "cell_type": "code",
   "execution_count": 11,
   "metadata": {},
   "outputs": [
    {
     "name": "stdout",
     "output_type": "stream",
     "text": [
      "Index of the 100th element in a (6, 7, 8) array: (1, 5, 4)\n"
     ]
    }
   ],
   "source": [
    "# Find the index of the 100th element in a (6,7,8) shape array\n",
    "\n",
    "index_100th_element = np.unravel_index(100, (6, 7, 8))\n",
    "print(\"Index of the 100th element in a (6, 7, 8) array:\", index_100th_element)\n"
   ]
  },
  {
   "cell_type": "code",
   "execution_count": 13,
   "metadata": {},
   "outputs": [
    {
     "name": "stdout",
     "output_type": "stream",
     "text": [
      "Normalized 5x5 matrix:\n",
      " [[0.10658433 0.18253283 0.44267797 0.74821395 0.31079653]\n",
      " [0.71891961 0.99145649 0.82899527 0.48105712 0.38766824]\n",
      " [0.15915584 0.48740628 0.33546278 0.         0.25036193]\n",
      " [0.96395283 1.         0.80505096 0.50998589 0.98543711]\n",
      " [0.32670632 0.51257452 0.87726006 0.44819973 0.91435252]]\n"
     ]
    }
   ],
   "source": [
    "# Normalize a 5x5 random matrix\n",
    "\n",
    "random_matrix = np.random.random((5, 5))\n",
    "normalized_matrix = (random_matrix - random_matrix.min()) / (random_matrix.max() - random_matrix.min())\n",
    "print(\"Normalized 5x5 matrix:\\n\", normalized_matrix)\n"
   ]
  },
  {
   "cell_type": "code",
   "execution_count": 12,
   "metadata": {},
   "outputs": [
    {
     "name": "stdout",
     "output_type": "stream",
     "text": [
      "Unique rows from the 2D array:\n",
      " [[1 2 3]\n",
      " [4 5 6]\n",
      " [7 8 9]]\n"
     ]
    }
   ],
   "source": [
    "# Extract unique rows from a 2D array\n",
    "\n",
    "array_2d = np.array([[1, 2, 3], [1, 2, 3], [4, 5, 6], [7, 8, 9]])\n",
    "unique_rows = np.unique(array_2d, axis=0)\n",
    "print(\"Unique rows from the 2D array:\\n\", unique_rows)\n"
   ]
  },
  {
   "cell_type": "code",
   "execution_count": 14,
   "metadata": {},
   "outputs": [
    {
     "name": "stdout",
     "output_type": "stream",
     "text": [
      "Structured array:\n",
      " [([1., 2.], [255.,   0.,   0.]) ([4., 5.], [  0., 255.,   0.])]\n"
     ]
    }
   ],
   "source": [
    "# Create a structured array with custom dtype\n",
    "\n",
    "dtype = np.dtype([('position', float, (2,)), ('color', float, (3,))])\n",
    "structured_array = np.array([((1, 2), (255, 0, 0)), ((4, 5), (0, 255, 0))], dtype=dtype)\n",
    "print(\"Structured array:\\n\", structured_array)\n"
   ]
  },
  {
   "cell_type": "code",
   "execution_count": 15,
   "metadata": {},
   "outputs": [
    {
     "name": "stdout",
     "output_type": "stream",
     "text": [
      "Accumulated array F: [5. 7. 9.]\n"
     ]
    }
   ],
   "source": [
    "# Accumulate elements of a vector based on an index list\n",
    "\n",
    "X = [1, 2, 3, 4, 5, 6]\n",
    "I = [0, 1, 2, 0, 1, 2]\n",
    "F = np.zeros(3)\n",
    "np.add.at(F, I, X)\n",
    "print(\"Accumulated array F:\", F)\n"
   ]
  },
  {
   "cell_type": "code",
   "execution_count": 16,
   "metadata": {},
   "outputs": [
    {
     "name": "stdout",
     "output_type": "stream",
     "text": [
      "Sum over the last two axes:\n",
      " [[15.78133529 13.315471   14.5878325  14.59832701]\n",
      " [15.3643771  15.78163944 13.57879419 12.90794261]\n",
      " [13.53529757 15.27084509 13.60413555 12.52242167]]\n"
     ]
    }
   ],
   "source": [
    "# Sum over the last two axes of a four-dimensional array\n",
    "\n",
    "array_4d = np.random.random((3, 4, 5, 6))\n",
    "sum_over_axes = np.sum(array_4d, axis=(-2, -1))\n",
    "print(\"Sum over the last two axes:\\n\", sum_over_axes)\n"
   ]
  },
  {
   "cell_type": "code",
   "execution_count": 17,
   "metadata": {},
   "outputs": [
    {
     "name": "stdout",
     "output_type": "stream",
     "text": [
      "Diagonal of the dot product:\n",
      " [1.33301568 1.661991   1.19983516 0.52658222 1.7492958 ]\n"
     ]
    }
   ],
   "source": [
    "# Get the diagonal of a dot product\n",
    "\n",
    "A = np.random.random((5, 5))\n",
    "B = np.random.random((5, 5))\n",
    "dot_product = np.dot(A, B)\n",
    "diagonal = np.diag(dot_product)\n",
    "print(\"Diagonal of the dot product:\\n\", diagonal)\n"
   ]
  },
  {
   "cell_type": "code",
   "execution_count": 18,
   "metadata": {},
   "outputs": [
    {
     "name": "stdout",
     "output_type": "stream",
     "text": [
      "New vector with interleaved zeros:\n",
      " [1. 0. 0. 0. 2. 0. 0. 0. 3. 0. 0. 0. 4. 0. 0. 0. 5.]\n"
     ]
    }
   ],
   "source": [
    "# Build a new vector with interleaved zeros\n",
    "\n",
    "vector = np.array([1, 2, 3, 4, 5])\n",
    "new_vector = np.zeros(len(vector) + (len(vector) - 1) * 3)\n",
    "new_vector[::4] = vector\n",
    "print(\"New vector with interleaved zeros:\\n\", new_vector)\n"
   ]
  },
  {
   "cell_type": "code",
   "execution_count": 19,
   "metadata": {},
   "outputs": [
    {
     "name": "stdout",
     "output_type": "stream",
     "text": [
      "Averages using sliding window:\n",
      " [2. 3. 4. 5. 6. 7. 8. 9.]\n"
     ]
    }
   ],
   "source": [
    "# Compute averages using a sliding window\n",
    "\n",
    "def sliding_window_mean(arr, window_size):\n",
    "    cumsum = np.cumsum(np.insert(arr, 0, 0))\n",
    "    return (cumsum[window_size:] - cumsum[:-window_size]) / window_size\n",
    "\n",
    "arr = np.arange(1, 11)  # Example array\n",
    "window_size = 3\n",
    "averages = sliding_window_mean(arr, window_size)\n",
    "print(\"Averages using sliding window:\\n\", averages)\n"
   ]
  },
  {
   "cell_type": "code",
   "execution_count": 20,
   "metadata": {},
   "outputs": [
    {
     "name": "stdout",
     "output_type": "stream",
     "text": [
      "Rows interpreted as draws from a multinomial distribution:\n",
      " [array([2, 1, 1]), array([1, 2, 1])]\n"
     ]
    }
   ],
   "source": [
    "# Select rows from a 2D array based on multinomial distribution\n",
    "\n",
    "X = np.array([[2, 1, 1], [1, 2, 1], [1, 1, 1], [3, 0, 0]])\n",
    "n = 4\n",
    "rows = [row for row in X if np.sum(row) == n and np.all(row == np.round(row))]\n",
    "print(\"Rows interpreted as draws from a multinomial distribution:\\n\", rows)\n"
   ]
  },
  {
   "cell_type": "code",
   "execution_count": 21,
   "metadata": {},
   "outputs": [
    {
     "name": "stdout",
     "output_type": "stream",
     "text": [
      "95% confidence interval for the mean: [-0.17629227  0.21933268]\n"
     ]
    }
   ],
   "source": [
    "# Compute bootstrapped 95% confidence intervals\n",
    "\n",
    "data = np.random.randn(100)  # Example 1D array\n",
    "N = 1000  # Number of bootstrap samples\n",
    "means = np.array([np.mean(np.random.choice(data, size=data.size, replace=True)) for _ in range(N)])\n",
    "conf_interval = np.percentile(means, [2.5, 97.5])\n",
    "print(\"95% confidence interval for the mean:\", conf_interval)\n"
   ]
  },
  {
   "cell_type": "code",
   "execution_count": null,
   "metadata": {},
   "outputs": [],
   "source": []
  }
 ],
 "metadata": {
  "kernelspec": {
   "display_name": "Python 3",
   "language": "python",
   "name": "python3"
  },
  "language_info": {
   "codemirror_mode": {
    "name": "ipython",
    "version": 3
   },
   "file_extension": ".py",
   "mimetype": "text/x-python",
   "name": "python",
   "nbconvert_exporter": "python",
   "pygments_lexer": "ipython3",
   "version": "3.12.3"
  }
 },
 "nbformat": 4,
 "nbformat_minor": 2
}
