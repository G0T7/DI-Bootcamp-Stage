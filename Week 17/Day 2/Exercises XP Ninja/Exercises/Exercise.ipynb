{
 "cells": [
  {
   "cell_type": "code",
   "execution_count": 13,
   "metadata": {},
   "outputs": [
    {
     "name": "stdout",
     "output_type": "stream",
     "text": [
      "  order_id\\tquantity\\titem_name\\tchoice_description\\titem_price\n",
      "0   1\\t1\\tChips and Fresh Tomato Salsa\\tNULL\\t$2.39            \n",
      "1                   1\\t1\\tIzze\\t[Clementine]\\t$3.39            \n",
      "2            1\\t1\\tNantucket Nectar\\t[Apple]\\t$3.39            \n",
      "3  1\\t1\\tChips and Tomatillo-Green Chili Salsa\\tN...           \n",
      "4                  3\\t1\\tSide of Chips\\tNULL\\t$1.69            \n",
      "5            5\\t1\\tChips and Guacamole\\tNULL\\t$4.45            \n",
      "6            7\\t1\\tChips and Guacamole\\tNULL\\t$4.45            \n",
      "7  8\\t1\\tChips and Tomatillo-Green Chili Salsa\\tN...           \n",
      "8                9\\t2\\tCanned Soda\\t[Sprite]\\t$2.18            \n",
      "9           10\\t1\\tChips and Guacamole\\tNULL\\t$4.45            \n",
      "Column 'item_name' does not exist in the DataFrame.\n",
      "Column 'item_price' does not exist in the DataFrame.\n"
     ]
    }
   ],
   "source": [
    "import pandas as pd\n",
    "import matplotlib.pyplot as plt\n",
    "\n",
    "# Load the Chipotle data into a DataFrame with error handling\n",
    "try:\n",
    "    chipo = pd.read_csv('data.csv', delimiter=',', quotechar='\"', on_bad_lines='skip')\n",
    "except pd.errors.ParserError as e:\n",
    "    print(f\"Error parsing CSV: {e}\")\n",
    "    # Handle the error or exit\n",
    "    exit()\n",
    "\n",
    "# Review the first 10 entries\n",
    "print(chipo.head(10))\n",
    "\n",
    "# Check if 'item_name' column exists\n",
    "if 'item_name' in chipo.columns:\n",
    "    # Create a histogram of the top 5 items bought\n",
    "    top_items = chipo['item_name'].value_counts().head(5)\n",
    "    top_items.plot(kind='bar')\n",
    "    plt.xlabel('Items')\n",
    "    plt.ylabel('Number of Times Ordered')\n",
    "    plt.title('Top 5 Most Ordered Items')\n",
    "    plt.show()\n",
    "else:\n",
    "    print(\"Column 'item_name' does not exist in the DataFrame.\")\n",
    "\n",
    "# Check if 'item_price' column exists\n",
    "if 'item_price' in chipo.columns:\n",
    "    # Convert item_price to float\n",
    "    chipo['item_price'] = chipo['item_price'].str.replace('$', '').astype(float)\n",
    "\n",
    "    # Group by order_id and sum the quantities and prices\n",
    "    order_summary = chipo.groupby('order_id').sum()\n",
    "\n",
    "    # Create the scatter plot\n",
    "    plt.scatter(order_summary['item_price'], order_summary['quantity'])\n",
    "    plt.xlabel('Order Price')\n",
    "    plt.ylabel('Number of Items Ordered')\n",
    "    plt.title('Number of Items Ordered per Order Price')\n",
    "    plt.show()\n",
    "\n",
    "    # Formulate a question and provide an answer using a suitable graph\n",
    "    # Question: What is the distribution of order prices?\n",
    "    order_summary['item_price'].plot(kind='hist', bins=20)\n",
    "    plt.xlabel('Order Price')\n",
    "    plt.ylabel('Frequency')\n",
    "    plt.title('Distribution of Order Prices')\n",
    "    plt.show()\n",
    "else:\n",
    "    print(\"Column 'item_price' does not exist in the DataFrame.\")\n"
   ]
  },
  {
   "cell_type": "code",
   "execution_count": 15,
   "metadata": {},
   "outputs": [
    {
     "name": "stdout",
     "output_type": "stream",
     "text": [
      "Column 'Date' does not exist in the DataFrame.\n"
     ]
    }
   ],
   "source": [
    "import pandas as pd\n",
    "import matplotlib.pyplot as plt\n",
    "\n",
    "# Assuming investor_data is already loaded and has a 'Date' column and 'Total Equity' column\n",
    "\n",
    "# Check if 'Date' column exists\n",
    "if 'Date' in investor_data.columns:\n",
    "    # Change the ‘Date’ column to datetime format\n",
    "    investor_data['Date'] = pd.to_datetime(investor_data['Date'])\n",
    "\n",
    "    # Set ‘Date’ as the index of the DataFrame\n",
    "    investor_data.set_index('Date', inplace=True)\n",
    "\n",
    "    # Change the frequency of the ‘investor_data’ DataFrame to yearly\n",
    "    yearly_data = investor_data.resample('Y').sum()\n",
    "\n",
    "    # Formulate a question and provide an answer\n",
    "    # Question: What is the trend of 'Total Equity' over the years?\n",
    "    # Answer: Plot the yearly data to visualize the trend\n",
    "    yearly_data['Total Equity'].plot(title='Total Equity Over the Years')\n",
    "    plt.xlabel('Year')\n",
    "    plt.ylabel('Total Equity')\n",
    "    plt.show()\n",
    "else:\n",
    "    print(\"Column 'Date' does not exist in the DataFrame.\")\n"
   ]
  },
  {
   "cell_type": "code",
   "execution_count": null,
   "metadata": {},
   "outputs": [],
   "source": []
  }
 ],
 "metadata": {
  "kernelspec": {
   "display_name": "Python 3",
   "language": "python",
   "name": "python3"
  },
  "language_info": {
   "codemirror_mode": {
    "name": "ipython",
    "version": 3
   },
   "file_extension": ".py",
   "mimetype": "text/x-python",
   "name": "python",
   "nbconvert_exporter": "python",
   "pygments_lexer": "ipython3",
   "version": "3.12.3"
  }
 },
 "nbformat": 4,
 "nbformat_minor": 2
}
