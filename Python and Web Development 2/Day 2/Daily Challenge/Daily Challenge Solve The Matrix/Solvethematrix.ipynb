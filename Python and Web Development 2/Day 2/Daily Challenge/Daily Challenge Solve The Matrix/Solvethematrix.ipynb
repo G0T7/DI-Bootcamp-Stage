{
 "cells": [
  {
   "cell_type": "code",
   "execution_count": 1,
   "metadata": {},
   "outputs": [
    {
     "name": "stdout",
     "output_type": "stream",
     "text": [
      "7Thisis Matrix\n"
     ]
    }
   ],
   "source": [
    "def decrypt_matrix(matrix_string):\n",
    "    # Split the matrix string into rows\n",
    "    rows = matrix_string.strip().split(\"\\n\")\n",
    "    \n",
    "    # Determine the number of columns\n",
    "    num_cols = len(rows[0])  # Assuming all rows have the same length\n",
    "    \n",
    "    # Initialize an empty list to store the decoded columns\n",
    "    decoded_columns = []\n",
    "    \n",
    "    # Iterate through each column\n",
    "    for col in range(num_cols):\n",
    "        decoded_column = \"\"\n",
    "        # Iterate through each row and concatenate the characters in the current column\n",
    "        for row in rows:\n",
    "            if col < len(row):  # Check if the column index is within the row length\n",
    "                char = row[col]\n",
    "                if char.isalnum():  # Check if the character is alphanumeric\n",
    "                    decoded_column += char\n",
    "                elif decoded_column and decoded_column[-1] != \" \":  # Replace non-alphanumeric with space if not already spaced\n",
    "                    decoded_column += \" \"\n",
    "        # Append the decoded column to the list\n",
    "        decoded_columns.append(decoded_column.strip())  # Strip leading/trailing spaces\n",
    "    \n",
    "    # Join all decoded columns to form the final message\n",
    "    decoded_message = \"\".join(decoded_columns)\n",
    "    \n",
    "    return decoded_message\n",
    "\n",
    "# Matrix string\n",
    "matrix_string = \"\"\"\n",
    "7ii\n",
    "Tsx\n",
    "h%?\n",
    "i #\n",
    "sM \n",
    "$a \n",
    "#t%\n",
    "^r!\n",
    "\"\"\"\n",
    "\n",
    "# Decrypt the matrix and print the message\n",
    "decoded_message = decrypt_matrix(matrix_string)\n",
    "print(decoded_message)\n"
   ]
  }
 ],
 "metadata": {
  "kernelspec": {
   "display_name": "Python 3",
   "language": "python",
   "name": "python3"
  },
  "language_info": {
   "codemirror_mode": {
    "name": "ipython",
    "version": 3
   },
   "file_extension": ".py",
   "mimetype": "text/x-python",
   "name": "python",
   "nbconvert_exporter": "python",
   "pygments_lexer": "ipython3",
   "version": "3.12.3"
  }
 },
 "nbformat": 4,
 "nbformat_minor": 2
}
