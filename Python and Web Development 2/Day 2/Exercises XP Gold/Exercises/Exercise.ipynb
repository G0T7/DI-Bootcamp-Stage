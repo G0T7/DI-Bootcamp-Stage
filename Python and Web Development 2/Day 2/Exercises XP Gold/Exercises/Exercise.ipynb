{
 "cells": [
  {
   "cell_type": "code",
   "execution_count": 1,
   "metadata": {},
   "outputs": [
    {
     "name": "stdout",
     "output_type": "stream",
     "text": [
      "Total throws: 608\n",
      "Average throws to reach doubles: 6.08\n"
     ]
    }
   ],
   "source": [
    "import random\n",
    "\n",
    "def throw_dice():\n",
    "    return random.randint(1, 6)\n",
    "\n",
    "def throw_until_doubles():\n",
    "    count = 0\n",
    "    while True:\n",
    "        die1 = throw_dice()\n",
    "        die2 = throw_dice()\n",
    "        count += 1\n",
    "        if die1 == die2:\n",
    "            return count\n",
    "\n",
    "def main():\n",
    "    total_throws = 0\n",
    "    num_trials = 100\n",
    "    results = []\n",
    "    \n",
    "    for _ in range(num_trials):\n",
    "        throws = throw_until_doubles()\n",
    "        results.append(throws)\n",
    "        total_throws += throws\n",
    "\n",
    "    average_throws = total_throws / num_trials\n",
    "\n",
    "    print(f\"Total throws: {total_throws}\")\n",
    "    print(f\"Average throws to reach doubles: {average_throws:.2f}\")\n",
    "\n",
    "# Run the main function\n",
    "main()\n"
   ]
  },
  {
   "cell_type": "code",
   "execution_count": null,
   "metadata": {},
   "outputs": [],
   "source": []
  }
 ],
 "metadata": {
  "kernelspec": {
   "display_name": "Python 3",
   "language": "python",
   "name": "python3"
  },
  "language_info": {
   "codemirror_mode": {
    "name": "ipython",
    "version": 3
   },
   "file_extension": ".py",
   "mimetype": "text/x-python",
   "name": "python",
   "nbconvert_exporter": "python",
   "pygments_lexer": "ipython3",
   "version": "3.12.3"
  }
 },
 "nbformat": 4,
 "nbformat_minor": 2
}
