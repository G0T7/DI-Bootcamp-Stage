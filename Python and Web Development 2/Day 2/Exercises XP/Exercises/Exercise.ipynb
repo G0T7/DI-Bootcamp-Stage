{
 "cells": [
  {
   "cell_type": "code",
   "execution_count": 1,
   "metadata": {},
   "outputs": [
    {
     "name": "stdout",
     "output_type": "stream",
     "text": [
      "I am learning how to write functions in Python.\n"
     ]
    }
   ],
   "source": [
    "# Exercise 1: What are you learning?\n",
    "\n",
    "def display_message():\n",
    "    print(\"I am learning how to write functions in Python.\")\n",
    "\n",
    "# Call the function\n",
    "display_message()\n"
   ]
  },
  {
   "cell_type": "code",
   "execution_count": 2,
   "metadata": {},
   "outputs": [
    {
     "name": "stdout",
     "output_type": "stream",
     "text": [
      "One of my favorite books is Alice in Wonderland.\n"
     ]
    }
   ],
   "source": [
    "# Exercise 2: What’s your favorite book?\n",
    "\n",
    "def favorite_book(title):\n",
    "    print(f\"One of my favorite books is {title}.\")\n",
    "\n",
    "# Call the function with a book title\n",
    "favorite_book(\"Alice in Wonderland\")\n"
   ]
  },
  {
   "cell_type": "code",
   "execution_count": 3,
   "metadata": {},
   "outputs": [
    {
     "name": "stdout",
     "output_type": "stream",
     "text": [
      "Reykjavik is in Iceland.\n",
      "Paris is in France.\n"
     ]
    }
   ],
   "source": [
    "# Exercise 3: Some Geography\n",
    "\n",
    "def describe_city(city, country=\"Iceland\"):\n",
    "    print(f\"{city} is in {country}.\")\n",
    "\n",
    "# Call the function with default country\n",
    "describe_city(\"Reykjavik\")\n",
    "\n",
    "# Call the function with a specified country\n",
    "describe_city(\"Paris\", \"France\")\n"
   ]
  },
  {
   "cell_type": "code",
   "execution_count": 4,
   "metadata": {},
   "outputs": [
    {
     "name": "stdout",
     "output_type": "stream",
     "text": [
      "Fail. Your number: 45, Random number: 3\n"
     ]
    }
   ],
   "source": [
    "# Exercise 4: Random\n",
    "\n",
    "import random\n",
    "\n",
    "def compare_numbers(user_number):\n",
    "    random_number = random.randint(1, 100)\n",
    "    if user_number == random_number:\n",
    "        print(\"Success! The numbers match.\")\n",
    "    else:\n",
    "        print(f\"Fail. Your number: {user_number}, Random number: {random_number}\")\n",
    "\n",
    "# Example call\n",
    "compare_numbers(45)\n"
   ]
  },
  {
   "cell_type": "code",
   "execution_count": 5,
   "metadata": {},
   "outputs": [
    {
     "name": "stdout",
     "output_type": "stream",
     "text": [
      "The size of the shirt is large and the text is 'I love Python'.\n",
      "The size of the shirt is medium and the text is 'I love Python'.\n",
      "The size of the shirt is small and the text is 'Hello World!'.\n",
      "The size of the shirt is large and the text is 'Python Rocks!'.\n"
     ]
    }
   ],
   "source": [
    "# Exercise 5: Let’s create some personalized shirts!\n",
    "\n",
    "def make_shirt(size=\"large\", text=\"I love Python\"):\n",
    "    print(f\"The size of the shirt is {size} and the text is '{text}'.\")\n",
    "\n",
    "# Make a large shirt with default message\n",
    "make_shirt()\n",
    "\n",
    "# Make a medium shirt with default message\n",
    "make_shirt(size=\"medium\")\n",
    "\n",
    "# Make a shirt of any size with a different message\n",
    "make_shirt(size=\"small\", text=\"Hello World!\")\n",
    "\n",
    "# Bonus: Calling the function using keyword arguments\n",
    "make_shirt(text=\"Python Rocks!\", size=\"large\")\n"
   ]
  },
  {
   "cell_type": "code",
   "execution_count": 6,
   "metadata": {},
   "outputs": [
    {
     "name": "stdout",
     "output_type": "stream",
     "text": [
      "Harry Houdini\n",
      "David Blaine\n",
      "Criss Angel\n",
      "Harry Houdini the Great\n",
      "David Blaine the Great\n",
      "Criss Angel the Great\n"
     ]
    }
   ],
   "source": [
    "# Exercise 6: Magicians\n",
    "\n",
    "def show_magicians(magician_names):\n",
    "    for magician in magician_names:\n",
    "        print(magician)\n",
    "\n",
    "def make_great(magician_names):\n",
    "    for i in range(len(magician_names)):\n",
    "        magician_names[i] = magician_names[i] + \" the Great\"\n",
    "\n",
    "# List of magician names\n",
    "magician_names = ['Harry Houdini', 'David Blaine', 'Criss Angel']\n",
    "\n",
    "# Call the function to show magicians\n",
    "show_magicians(magician_names)\n",
    "\n",
    "# Modify the list by adding \"the Great\"\n",
    "make_great(magician_names)\n",
    "\n",
    "# Call the function to show magicians after modification\n",
    "show_magicians(magician_names)\n"
   ]
  },
  {
   "cell_type": "code",
   "execution_count": null,
   "metadata": {},
   "outputs": [],
   "source": []
  }
 ],
 "metadata": {
  "kernelspec": {
   "display_name": "Python 3",
   "language": "python",
   "name": "python3"
  },
  "language_info": {
   "codemirror_mode": {
    "name": "ipython",
    "version": 3
   },
   "file_extension": ".py",
   "mimetype": "text/x-python",
   "name": "python",
   "nbconvert_exporter": "python",
   "pygments_lexer": "ipython3",
   "version": "3.12.3"
  }
 },
 "nbformat": 4,
 "nbformat_minor": 2
}
