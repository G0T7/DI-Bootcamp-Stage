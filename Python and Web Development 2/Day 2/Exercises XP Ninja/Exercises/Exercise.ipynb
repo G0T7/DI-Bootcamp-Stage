{
 "cells": [
  {
   "cell_type": "code",
   "execution_count": 1,
   "metadata": {},
   "outputs": [
    {
     "name": "stdout",
     "output_type": "stream",
     "text": [
      "******************\n",
      "* Hello          *\n",
      "* World          *\n",
      "* in             *\n",
      "* reallylongword *\n",
      "* a              *\n",
      "* frame          *\n",
      "******************\n"
     ]
    }
   ],
   "source": [
    "# Exercise 1: Box of Stars\n",
    "\n",
    "def box_printer(*args):\n",
    "    # Find the maximum length of the strings\n",
    "    max_length = max(len(arg) for arg in args)\n",
    "    \n",
    "    # Create the border line\n",
    "    border = '*' * (max_length + 4)\n",
    "    \n",
    "    # Print the top border\n",
    "    print(border)\n",
    "    \n",
    "    # Print each string with padding\n",
    "    for arg in args:\n",
    "        print(f\"* {arg.ljust(max_length)} *\")\n",
    "    \n",
    "    # Print the bottom border\n",
    "    print(border)\n",
    "\n",
    "# Example usage\n",
    "box_printer(\"Hello\", \"World\", \"in\", \"reallylongword\", \"a\", \"frame\")\n"
   ]
  },
  {
   "cell_type": "code",
   "execution_count": 2,
   "metadata": {},
   "outputs": [
    {
     "name": "stdout",
     "output_type": "stream",
     "text": [
      "[17, 20, 26, 31, 44, 54, 55, 77, 93]\n"
     ]
    }
   ],
   "source": [
    "# Exercise 2: Insertion Sort\n",
    "\n",
    "def insertion_sort(alist):\n",
    "    for index in range(1, len(alist)):\n",
    "        currentvalue = alist[index]\n",
    "        position = index\n",
    "        \n",
    "        # Move elements of alist[0..index-1] that are greater than currentvalue\n",
    "        while position > 0 and alist[position - 1] > currentvalue:\n",
    "            alist[position] = alist[position - 1]\n",
    "            position = position - 1\n",
    "        \n",
    "        # Place currentvalue at the correct position\n",
    "        alist[position] = currentvalue\n",
    "\n",
    "alist = [54, 26, 93, 17, 77, 31, 44, 55, 20]\n",
    "insertion_sort(alist)\n",
    "print(alist)\n"
   ]
  }
 ],
 "metadata": {
  "kernelspec": {
   "display_name": "Python 3",
   "language": "python",
   "name": "python3"
  },
  "language_info": {
   "codemirror_mode": {
    "name": "ipython",
    "version": 3
   },
   "file_extension": ".py",
   "mimetype": "text/x-python",
   "name": "python",
   "nbconvert_exporter": "python",
   "pygments_lexer": "ipython3",
   "version": "3.12.3"
  }
 },
 "nbformat": 4,
 "nbformat_minor": 2
}
