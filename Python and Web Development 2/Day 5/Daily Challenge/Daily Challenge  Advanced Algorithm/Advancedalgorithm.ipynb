{
 "cells": [
  {
   "cell_type": "code",
   "execution_count": 1,
   "metadata": {},
   "outputs": [
    {
     "name": "stdout",
     "output_type": "stream",
     "text": [
      "Number of pairs in list_of_numbers that sum up to 3728: 7157\n"
     ]
    }
   ],
   "source": [
    "import random\n",
    "from collections import defaultdict\n",
    "\n",
    "def count_pairs_with_sum(list_of_numbers, target_number):\n",
    "    # Dictionary to store the count of each number in list_of_numbers\n",
    "    num_count = defaultdict(int)\n",
    "    \n",
    "    # Count the occurrences of each number in list_of_numbers\n",
    "    for num in list_of_numbers:\n",
    "        num_count[num] += 1\n",
    "    \n",
    "    # Variable to store the count of pairs that sum up to target_number\n",
    "    pair_count = 0\n",
    "    \n",
    "    # Iterate through each number in list_of_numbers\n",
    "    for x in list_of_numbers:\n",
    "        complement = target_number - x\n",
    "        if complement in num_count:\n",
    "            pair_count += num_count[complement]\n",
    "        \n",
    "        # To avoid counting the pair (x, x) twice when x = complement\n",
    "        if complement == x:\n",
    "            pair_count -= 1\n",
    "    \n",
    "    # Since each pair is counted twice (once for x and once for complement), divide by 2\n",
    "    pair_count //= 2\n",
    "    \n",
    "    return pair_count\n",
    "\n",
    "# Generate list_of_numbers with 20000 random numbers\n",
    "list_of_numbers = [random.randint(0, 10000) for _ in range(20000)]\n",
    "\n",
    "# Specify the target number\n",
    "target_number = 3728\n",
    "\n",
    "# Count pairs that sum up to target_number\n",
    "pairs_count = count_pairs_with_sum(list_of_numbers, target_number)\n",
    "print(f\"Number of pairs in list_of_numbers that sum up to {target_number}: {pairs_count}\")\n"
   ]
  }
 ],
 "metadata": {
  "kernelspec": {
   "display_name": "Python 3",
   "language": "python",
   "name": "python3"
  },
  "language_info": {
   "codemirror_mode": {
    "name": "ipython",
    "version": 3
   },
   "file_extension": ".py",
   "mimetype": "text/x-python",
   "name": "python",
   "nbconvert_exporter": "python",
   "pygments_lexer": "ipython3",
   "version": "3.12.3"
  }
 },
 "nbformat": 4,
 "nbformat_minor": 2
}
