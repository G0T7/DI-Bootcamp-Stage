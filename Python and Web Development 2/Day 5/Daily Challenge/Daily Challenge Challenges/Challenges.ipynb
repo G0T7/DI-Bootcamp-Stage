{
 "cells": [
  {
   "cell_type": "code",
   "execution_count": 1,
   "metadata": {},
   "outputs": [
    {
     "name": "stdout",
     "output_type": "stream",
     "text": [
      "bag,hello,without,world\n"
     ]
    }
   ],
   "source": [
    "#Challenge 1: Sorting\n",
    "def sort_words(input_str):\n",
    "    # Split the input string by commas and strip any extra whitespace\n",
    "    words = [word.strip() for word in input_str.split(',')]\n",
    "    \n",
    "    # Sort the words alphabetically\n",
    "    sorted_words = sorted(words)\n",
    "    \n",
    "    # Join the sorted words into a comma-separated string\n",
    "    sorted_str = ','.join(sorted_words)\n",
    "    \n",
    "    return sorted_str\n",
    "\n",
    "# Example usage:\n",
    "input_str = \"without,hello,bag,world\"\n",
    "print(sort_words(input_str))  # Output: bag,hello,without,world\n"
   ]
  },
  {
   "cell_type": "code",
   "execution_count": 2,
   "metadata": {},
   "outputs": [
    {
     "name": "stdout",
     "output_type": "stream",
     "text": [
      "Margaret's\n",
      "forever.\n",
      "Forgetfulness\n"
     ]
    }
   ],
   "source": [
    "#Challenge 2: Longest Word\n",
    "import re\n",
    "\n",
    "def longest_word(sentence):\n",
    "    # Remove punctuation except for apostrophes, commas, and periods\n",
    "    cleaned_sentence = re.sub(r'[^\\w\\s\\'.]', '', sentence)\n",
    "    \n",
    "    # Split the sentence into words\n",
    "    words = cleaned_sentence.split()\n",
    "    \n",
    "    # Initialize variables to track the longest word and its length\n",
    "    longest = \"\"\n",
    "    max_length = 0\n",
    "    \n",
    "    # Iterate through each word to find the longest one\n",
    "    for word in words:\n",
    "        word_length = len(word)\n",
    "        if word_length > max_length:\n",
    "            max_length = word_length\n",
    "            longest = word\n",
    "    \n",
    "    return longest\n",
    "\n",
    "# Examples:\n",
    "print(longest_word(\"Margaret's toy is a pretty doll.\"))  # Output: \"Margaret's\"\n",
    "print(longest_word(\"A thing of beauty is a joy forever.\"))  # Output: \"forever.\"\n",
    "print(longest_word(\"Forgetfulness is by all means powerless!\"))  # Output: \"Forgetfulness\"\n"
   ]
  }
 ],
 "metadata": {
  "kernelspec": {
   "display_name": "Python 3",
   "language": "python",
   "name": "python3"
  },
  "language_info": {
   "codemirror_mode": {
    "name": "ipython",
    "version": 3
   },
   "file_extension": ".py",
   "mimetype": "text/x-python",
   "name": "python",
   "nbconvert_exporter": "python",
   "pygments_lexer": "ipython3",
   "version": "3.12.3"
  }
 },
 "nbformat": 4,
 "nbformat_minor": 2
}
