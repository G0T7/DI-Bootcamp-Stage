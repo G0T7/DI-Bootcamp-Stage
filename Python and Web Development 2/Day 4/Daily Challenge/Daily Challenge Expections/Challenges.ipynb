{
 "cells": [
  {
   "cell_type": "code",
   "execution_count": 6,
   "metadata": {},
   "outputs": [
    {
     "name": "stdout",
     "output_type": "stream",
     "text": [
      "Error: Cannot divide by zero.\n",
      "Exception message: division by zero\n"
     ]
    }
   ],
   "source": [
    "# Function to Compute Division and Handle Exceptions\n",
    "\n",
    "def divide_by_zero():\n",
    "    try:\n",
    "        result = 5 / 0\n",
    "    except ZeroDivisionError as e:\n",
    "        print(\"Error: Cannot divide by zero.\")\n",
    "        print(\"Exception message:\", e)\n",
    "    except Exception as e:\n",
    "        print(\"An unexpected error occurred.\")\n",
    "        print(\"Exception message:\", e)\n",
    "\n",
    "divide_by_zero()\n",
    "\n"
   ]
  },
  {
   "cell_type": "code",
   "execution_count": 7,
   "metadata": {},
   "outputs": [
    {
     "name": "stdout",
     "output_type": "stream",
     "text": [
      "Error: Cannot divide by zero.\n",
      "Exception message: division by zero\n"
     ]
    }
   ],
   "source": [
    "# Bonus: Using Built-in Exceptions\n",
    "\n",
    "def divide_by_zero():\n",
    "    try:\n",
    "        result = 5 / 0\n",
    "    except ZeroDivisionError as e:\n",
    "        print(\"Error: Cannot divide by zero.\")\n",
    "        print(\"Exception message:\", e)\n",
    "    except ValueError as e:\n",
    "        print(\"ValueError occurred.\")\n",
    "        print(\"Exception message:\", e)\n",
    "    except TypeError as e:\n",
    "        print(\"TypeError occurred.\")\n",
    "        print(\"Exception message:\", e)\n",
    "    except IndexError as e:\n",
    "        print(\"IndexError occurred.\")\n",
    "        print(\"Exception message:\", e)\n",
    "    except Exception as e:\n",
    "        print(\"An unexpected error occurred.\")\n",
    "        print(\"Exception message:\", e)\n",
    "\n",
    "divide_by_zero()\n"
   ]
  }
 ],
 "metadata": {
  "kernelspec": {
   "display_name": "Python 3",
   "language": "python",
   "name": "python3"
  },
  "language_info": {
   "codemirror_mode": {
    "name": "ipython",
    "version": 3
   },
   "file_extension": ".py",
   "mimetype": "text/x-python",
   "name": "python",
   "nbconvert_exporter": "python",
   "pygments_lexer": "ipython3",
   "version": "3.12.3"
  }
 },
 "nbformat": 4,
 "nbformat_minor": 2
}
