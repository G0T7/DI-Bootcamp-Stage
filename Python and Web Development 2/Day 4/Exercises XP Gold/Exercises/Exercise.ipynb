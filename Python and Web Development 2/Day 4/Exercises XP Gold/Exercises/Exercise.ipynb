{
 "cells": [
  {
   "cell_type": "code",
   "execution_count": 1,
   "metadata": {},
   "outputs": [
    {
     "name": "stdout",
     "output_type": "stream",
     "text": [
      "John Hooker Lee\n",
      "Bruce Lee\n"
     ]
    }
   ],
   "source": [
    "# Exercise 1: What’s Your Name?\n",
    "\n",
    "def get_full_name(first_name, middle_name='', last_name=''):\n",
    "    if middle_name:\n",
    "        full_name = f\"{first_name} {middle_name} {last_name}\"\n",
    "    else:\n",
    "        full_name = f\"{first_name} {last_name}\"\n",
    "    return full_name.title()\n",
    "\n",
    "# Example usage\n",
    "print(get_full_name(first_name=\"john\", middle_name=\"hooker\", last_name=\"lee\"))  # Output: John Hooker Lee\n",
    "print(get_full_name(first_name=\"bruce\", last_name=\"lee\"))  # Output: Bruce Lee\n"
   ]
  },
  {
   "cell_type": "code",
   "execution_count": 2,
   "metadata": {},
   "outputs": [
    {
     "name": "stdout",
     "output_type": "stream",
     "text": [
      ".... . .-.. .-.. --- / .-- --- .-. .-.. -..\n",
      "HELLO WORLD\n"
     ]
    }
   ],
   "source": [
    "# Exercise 2: From English to Morse\n",
    "\n",
    "morse_code_dict = {\n",
    "    'A': '.-', 'B': '-...', 'C': '-.-.', 'D': '-..', 'E': '.', 'F': '..-.', 'G': '--.', 'H': '....',\n",
    "    'I': '..', 'J': '.---', 'K': '-.-', 'L': '.-..', 'M': '--', 'N': '-.', 'O': '---', 'P': '.--.',\n",
    "    'Q': '--.-', 'R': '.-.', 'S': '...', 'T': '-', 'U': '..-', 'V': '...-', 'W': '.--', 'X': '-..-',\n",
    "    'Y': '-.--', 'Z': '--..', '0': '-----', '1': '.----', '2': '..---', '3': '...--', '4': '....-',\n",
    "    '5': '.....', '6': '-....', '7': '--...', '8': '---..', '9': '----.', ' ': '/'\n",
    "}\n",
    "\n",
    "def text_to_morse(text):\n",
    "    text = text.upper()\n",
    "    morse_code = ' '.join(morse_code_dict.get(char, '') for char in text)\n",
    "    return morse_code\n",
    "\n",
    "def morse_to_text(morse):\n",
    "    inverse_morse_code_dict = {value: key for key, value in morse_code_dict.items()}\n",
    "    words = morse.split(' / ')\n",
    "    decoded_words = []\n",
    "    \n",
    "    for word in words:\n",
    "        letters = word.split()\n",
    "        decoded_word = ''.join(inverse_morse_code_dict.get(letter, '') for letter in letters)\n",
    "        decoded_words.append(decoded_word)\n",
    "    \n",
    "    return ' '.join(decoded_words)\n",
    "\n",
    "# Example usage\n",
    "print(text_to_morse(\"Hello World\"))  # Output: .... . .-.. .-.. --- / .-- --- .-. .-.. -.. \n",
    "print(morse_to_text(\".... . .-.. .-.. --- / .-- --- .-. .-.. -..\"))  # Output: HELLO WORLD\n"
   ]
  },
  {
   "cell_type": "code",
   "execution_count": null,
   "metadata": {},
   "outputs": [],
   "source": []
  }
 ],
 "metadata": {
  "kernelspec": {
   "display_name": "Python 3",
   "language": "python",
   "name": "python3"
  },
  "language_info": {
   "codemirror_mode": {
    "name": "ipython",
    "version": 3
   },
   "file_extension": ".py",
   "mimetype": "text/x-python",
   "name": "python",
   "nbconvert_exporter": "python",
   "pygments_lexer": "ipython3",
   "version": "3.12.3"
  }
 },
 "nbformat": 4,
 "nbformat_minor": 2
}
