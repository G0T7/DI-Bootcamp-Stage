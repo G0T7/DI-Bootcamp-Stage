{
 "cells": [
  {
   "cell_type": "code",
   "execution_count": 1,
   "metadata": {},
   "outputs": [
    {
     "name": "stdout",
     "output_type": "stream",
     "text": [
      "The temperature right now is 19.2 degrees Celsius.\n",
      "Nice weather! A light jacket should be fine.\n"
     ]
    }
   ],
   "source": [
    "# Exercise 1: Temperature Advice\n",
    "\n",
    "import random\n",
    "\n",
    "def get_random_temp(season):\n",
    "    if season == 'winter':\n",
    "        lower, upper = -10, 16\n",
    "    elif season == 'spring':\n",
    "        lower, upper = 0, 24\n",
    "    elif season == 'summer':\n",
    "        lower, upper = 16, 40\n",
    "    elif season == 'autumn':\n",
    "        lower, upper = 0, 24\n",
    "    else:\n",
    "        return \"Invalid season\"\n",
    "    \n",
    "    # Generate a random float and round it to 1 decimal place\n",
    "    return round(random.uniform(lower, upper), 1)\n",
    "\n",
    "def main():\n",
    "    season = input(\"Enter the season (summer, autumn, winter, spring): \").lower()\n",
    "    temp = get_random_temp(season)\n",
    "    \n",
    "    if isinstance(temp, str):  # Handle invalid season\n",
    "        print(temp)\n",
    "        return\n",
    "    \n",
    "    print(f\"The temperature right now is {temp} degrees Celsius.\")\n",
    "    \n",
    "    # Provide advice based on the temperature\n",
    "    if temp < 0:\n",
    "        print(\"Brrr, that’s freezing! Wear some extra layers today.\")\n",
    "    elif 0 <= temp <= 16:\n",
    "        print(\"Quite chilly! Don’t forget your coat.\")\n",
    "    elif 16 < temp <= 23:\n",
    "        print(\"Nice weather! A light jacket should be fine.\")\n",
    "    elif 24 < temp <= 32:\n",
    "        print(\"Perfect weather! Enjoy your day.\")\n",
    "    elif 32 < temp <= 40:\n",
    "        print(\"It's hot out there! Stay hydrated.\")\n",
    "    \n",
    "# Run the main function\n",
    "main()\n"
   ]
  },
  {
   "cell_type": "code",
   "execution_count": 2,
   "metadata": {},
   "outputs": [
    {
     "name": "stdout",
     "output_type": "stream",
     "text": [
      "You got 0 out of 6 correct.\n",
      "Here are the questions you answered wrong:\n",
      "Question: What is Baby Yoda's real name?\n",
      "Your answer: wookie\n",
      "Correct answer: Grogu\n",
      "Question: Where did Obi-Wan take Luke after his birth?\n",
      "Your answer: wookie\n",
      "Correct answer: Tatooine\n",
      "Question: What year did the first Star Wars movie come out?\n",
      "Your answer: wookie\n",
      "Correct answer: 1977\n",
      "Question: Who built C-3PO?\n",
      "Your answer: wookie\n",
      "Correct answer: Anakin Skywalker\n",
      "Question: Anakin Skywalker grew up to be who?\n",
      "Your answer: wookie\n",
      "Correct answer: Darth Vader\n",
      "Question: What species is Chewbacca?\n",
      "Your answer: wookie\n",
      "Correct answer: Wookiee\n",
      "You had more than 3 wrong answers. Would you like to play again?\n"
     ]
    }
   ],
   "source": [
    "# Exercise 2: Star Wars Quiz\n",
    "\n",
    "def run_quiz(data):\n",
    "    correct_count = 0\n",
    "    wrong_answers = []\n",
    "    \n",
    "    for item in data:\n",
    "        question = item['question']\n",
    "        correct_answer = item['answer']\n",
    "        user_answer = input(question + \" \").strip()\n",
    "        \n",
    "        if user_answer.lower() == correct_answer.lower():\n",
    "            correct_count += 1\n",
    "        else:\n",
    "            wrong_answers.append((question, user_answer, correct_answer))\n",
    "    \n",
    "    return correct_count, wrong_answers\n",
    "\n",
    "def display_results(correct_count, wrong_answers):\n",
    "    total_questions = len(data)\n",
    "    incorrect_count = total_questions - correct_count\n",
    "    \n",
    "    print(f\"You got {correct_count} out of {total_questions} correct.\")\n",
    "    if incorrect_count > 0:\n",
    "        print(\"Here are the questions you answered wrong:\")\n",
    "        for question, user_answer, correct_answer in wrong_answers:\n",
    "            print(f\"Question: {question}\")\n",
    "            print(f\"Your answer: {user_answer}\")\n",
    "            print(f\"Correct answer: {correct_answer}\")\n",
    "    \n",
    "    if incorrect_count > 3:\n",
    "        print(\"You had more than 3 wrong answers. Would you like to play again?\")\n",
    "\n",
    "# Sample data\n",
    "data = [\n",
    "    {\"question\": \"What is Baby Yoda's real name?\", \"answer\": \"Grogu\"},\n",
    "    {\"question\": \"Where did Obi-Wan take Luke after his birth?\", \"answer\": \"Tatooine\"},\n",
    "    {\"question\": \"What year did the first Star Wars movie come out?\", \"answer\": \"1977\"},\n",
    "    {\"question\": \"Who built C-3PO?\", \"answer\": \"Anakin Skywalker\"},\n",
    "    {\"question\": \"Anakin Skywalker grew up to be who?\", \"answer\": \"Darth Vader\"},\n",
    "    {\"question\": \"What species is Chewbacca?\", \"answer\": \"Wookiee\"}\n",
    "]\n",
    "\n",
    "# Run the quiz\n",
    "correct_count, wrong_answers = run_quiz(data)\n",
    "display_results(correct_count, wrong_answers)\n"
   ]
  },
  {
   "cell_type": "code",
   "execution_count": 5,
   "metadata": {},
   "outputs": [
    {
     "name": "stdout",
     "output_type": "stream",
     "text": [
      "Sorry, you are not eligible to retire yet.\n"
     ]
    }
   ],
   "source": [
    "# Exercise 3: When Will I Retire?\n",
    "\n",
    "from datetime import datetime\n",
    "\n",
    "def get_age(year, month, day):\n",
    "    today = datetime.now()\n",
    "    birth_date = datetime(year, month, day)\n",
    "    age = today.year - birth_date.year\n",
    "    if (today.month, today.day) < (birth_date.month, birth_date.day):\n",
    "        age -= 1\n",
    "    return age\n",
    "\n",
    "def can_retire(gender, date_of_birth):\n",
    "    year, month, day = map(int, date_of_birth.split('/'))\n",
    "    age = get_age(year, month, day)\n",
    "    \n",
    "    if gender.lower() == 'm':\n",
    "        retirement_age = 67\n",
    "    elif gender.lower() == 'f':\n",
    "        retirement_age = 62\n",
    "    else:\n",
    "        return \"Invalid gender\"\n",
    "    \n",
    "    return age >= retirement_age\n",
    "\n",
    "def main():\n",
    "    gender = input(\"Enter your gender (m for male, f for female): \").strip().lower()\n",
    "    date_of_birth = input(\"Enter your date of birth (yyyy/mm/dd): \").strip()\n",
    "    \n",
    "    if can_retire(gender, date_of_birth):\n",
    "        print(\"Congratulations! You are eligible to retire.\")\n",
    "    else:\n",
    "        print(\"Sorry, you are not eligible to retire yet.\")\n",
    "    \n",
    "# Run the main function\n",
    "main()\n"
   ]
  },
  {
   "cell_type": "code",
   "execution_count": 6,
   "metadata": {},
   "outputs": [
    {
     "name": "stdout",
     "output_type": "stream",
     "text": [
      "6170\n"
     ]
    }
   ],
   "source": [
    "# Exercise 4: Arithmetic with Digits\n",
    "\n",
    "def calculate_expression(x):\n",
    "    x = str(x)\n",
    "    xx = x * 2\n",
    "    xxx = x * 3\n",
    "    xxxx = x * 4\n",
    "    result = int(x) + int(xx) + int(xxx) + int(xxxx)\n",
    "    return result\n",
    "\n",
    "# Example usage\n",
    "x = int(input(\"Enter a number between 1 and 9: \"))\n",
    "print(calculate_expression(x))\n"
   ]
  },
  {
   "cell_type": "code",
   "execution_count": null,
   "metadata": {},
   "outputs": [],
   "source": []
  }
 ],
 "metadata": {
  "kernelspec": {
   "display_name": "Python 3",
   "language": "python",
   "name": "python3"
  },
  "language_info": {
   "codemirror_mode": {
    "name": "ipython",
    "version": 3
   },
   "file_extension": ".py",
   "mimetype": "text/x-python",
   "name": "python",
   "nbconvert_exporter": "python",
   "pygments_lexer": "ipython3",
   "version": "3.12.3"
  }
 },
 "nbformat": 4,
 "nbformat_minor": 2
}
